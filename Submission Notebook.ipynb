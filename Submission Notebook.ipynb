{
 "cells": [
  {
   "cell_type": "code",
   "execution_count": 1,
   "metadata": {
    "_cell_guid": "af3f4ac0-5844-4311-b11c-fc0f88c7a38b",
    "_uuid": "0cf4bc19a85005719fdc06f5b03bbb1b2b72a826",
    "collapsed": true
   },
   "outputs": [],
   "source": [
    "#James Chartouni\n",
    "import numpy as np # linear algebra\n",
    "import pandas as pd # data processing, CSV file I/O (e.g. pd.read_csv)\n",
    "import matplotlib.pyplot as plt\n",
    "%matplotlib inline\n",
    "\n"
   ]
  },
  {
   "cell_type": "code",
   "execution_count": 41,
   "metadata": {
    "_cell_guid": "3231f181-eb3e-44c9-a045-c703d712af1d",
    "_uuid": "b39c6161209b03a18a00229b3a6d0b0f3a393974",
    "collapsed": false
   },
   "outputs": [],
   "source": [
    "data= pd.read_csv(\"cleaned_input/train_consolidated.csv\")\n",
    "test = pd.read_csv(\"cleaned_input/test_consolidated.csv\")\n",
    "test_msno = test.index;\n",
    "train_msno = data.index;\n",
    "test_msno_df = test['msno']\n",
    "test = test.drop([\"is_churn\", 'msno', 'Unnamed: 0'], axis=1)\n",
    "data = data.drop([\"Unnamed: 0\"], axis=1)"
   ]
  },
  {
   "cell_type": "code",
   "execution_count": 42,
   "metadata": {
    "_cell_guid": "48eb7f6a-df58-4303-a53a-09d90913b4ef",
    "_uuid": "41e6545efdc42664576f5d8de484f5bba4f7beff",
    "collapsed": false
   },
   "outputs": [
    {
     "data": {
      "text/plain": [
       "0    4n+fXlyJvfQnTeKXTWT507Ll4JVYGrOC8LHCfwBmPE4=\n",
       "1    aNmbC1GvFUxQyQUidCVmfbQ0YeCuwkPzEdQ0RwWyeZM=\n",
       "2    rFC9eSG/tMuzpre6cwcMLZHEYM89xY02qcz7HL4//jc=\n",
       "3    WZ59dLyrQcE7ft06MZ5dj40BnlYQY7PHgg/54+HaCSE=\n",
       "4    aky/Iv8hMp1/V/yQHLtaVuEmmAxkB5GuasQZePJ7NU4=\n",
       "Name: msno, dtype: object"
      ]
     },
     "execution_count": 42,
     "metadata": {},
     "output_type": "execute_result"
    }
   ],
   "source": [
    "test.head()\n",
    "test_msno_df.head()"
   ]
  },
  {
   "cell_type": "code",
   "execution_count": 32,
   "metadata": {
    "_cell_guid": "631f1849-80fe-4bb0-ab99-7ffa75a0d36d",
    "_uuid": "bf264368bd225d6cdb31660b62da0ef3bb4471e9",
    "collapsed": false
   },
   "outputs": [
    {
     "data": {
      "text/html": [
       "<div>\n",
       "<style scoped>\n",
       "    .dataframe tbody tr th:only-of-type {\n",
       "        vertical-align: middle;\n",
       "    }\n",
       "\n",
       "    .dataframe tbody tr th {\n",
       "        vertical-align: top;\n",
       "    }\n",
       "\n",
       "    .dataframe thead th {\n",
       "        text-align: right;\n",
       "    }\n",
       "</style>\n",
       "<table border=\"1\" class=\"dataframe\">\n",
       "  <thead>\n",
       "    <tr style=\"text-align: right;\">\n",
       "      <th></th>\n",
       "      <th>msno</th>\n",
       "      <th>is_churn</th>\n",
       "      <th>trans_count</th>\n",
       "      <th>date_min</th>\n",
       "      <th>date_max</th>\n",
       "      <th>date_count</th>\n",
       "      <th>num_25_sum</th>\n",
       "      <th>num_50_sum</th>\n",
       "      <th>num_75_sum</th>\n",
       "      <th>num_985_sum</th>\n",
       "      <th>...</th>\n",
       "      <th>payment_method_id_encoded33</th>\n",
       "      <th>payment_method_id_encoded34</th>\n",
       "      <th>payment_method_id_encoded35</th>\n",
       "      <th>payment_method_id_encoded36</th>\n",
       "      <th>is_auto_renew_encoded0</th>\n",
       "      <th>is_auto_renew_encoded1</th>\n",
       "      <th>is_auto_renew_encoded2</th>\n",
       "      <th>is_cancel_encoded0</th>\n",
       "      <th>is_cancel_encoded1</th>\n",
       "      <th>is_cancel_encoded2</th>\n",
       "    </tr>\n",
       "  </thead>\n",
       "  <tbody>\n",
       "    <tr>\n",
       "      <th>0</th>\n",
       "      <td>waLDQMmcOu2jLDaV1ddDkgCrB/jl6sD66Xzs0Vqax1Y=</td>\n",
       "      <td>1</td>\n",
       "      <td>2</td>\n",
       "      <td>20161106.0</td>\n",
       "      <td>20170208.0</td>\n",
       "      <td>6.0</td>\n",
       "      <td>51.0</td>\n",
       "      <td>16.0</td>\n",
       "      <td>19.0</td>\n",
       "      <td>11.0</td>\n",
       "      <td>...</td>\n",
       "      <td>1</td>\n",
       "      <td>0</td>\n",
       "      <td>0</td>\n",
       "      <td>0</td>\n",
       "      <td>0</td>\n",
       "      <td>1</td>\n",
       "      <td>0</td>\n",
       "      <td>0</td>\n",
       "      <td>1</td>\n",
       "      <td>0</td>\n",
       "    </tr>\n",
       "    <tr>\n",
       "      <th>1</th>\n",
       "      <td>QA7uiXy8vIbUSPOkCf9RwQ3FsT8jVq2OxDr8zqa7bRQ=</td>\n",
       "      <td>1</td>\n",
       "      <td>23</td>\n",
       "      <td>20150101.0</td>\n",
       "      <td>20170319.0</td>\n",
       "      <td>11.0</td>\n",
       "      <td>447.0</td>\n",
       "      <td>157.0</td>\n",
       "      <td>121.0</td>\n",
       "      <td>178.0</td>\n",
       "      <td>...</td>\n",
       "      <td>0</td>\n",
       "      <td>1</td>\n",
       "      <td>0</td>\n",
       "      <td>0</td>\n",
       "      <td>0</td>\n",
       "      <td>0</td>\n",
       "      <td>1</td>\n",
       "      <td>0</td>\n",
       "      <td>0</td>\n",
       "      <td>1</td>\n",
       "    </tr>\n",
       "    <tr>\n",
       "      <th>2</th>\n",
       "      <td>fGwBva6hikQmTJzrbz/2Ezjm5Cth5jZUNvXigKK2AFA=</td>\n",
       "      <td>1</td>\n",
       "      <td>10</td>\n",
       "      <td>20160202.0</td>\n",
       "      <td>20170131.0</td>\n",
       "      <td>10.0</td>\n",
       "      <td>1570.0</td>\n",
       "      <td>950.0</td>\n",
       "      <td>302.0</td>\n",
       "      <td>479.0</td>\n",
       "      <td>...</td>\n",
       "      <td>0</td>\n",
       "      <td>1</td>\n",
       "      <td>0</td>\n",
       "      <td>0</td>\n",
       "      <td>0</td>\n",
       "      <td>0</td>\n",
       "      <td>1</td>\n",
       "      <td>0</td>\n",
       "      <td>0</td>\n",
       "      <td>1</td>\n",
       "    </tr>\n",
       "    <tr>\n",
       "      <th>3</th>\n",
       "      <td>mT5V8rEpa+8wuqi6x0DoVd3H5icMKkE9Prt49UlmK+4=</td>\n",
       "      <td>1</td>\n",
       "      <td>3</td>\n",
       "      <td>20150101.0</td>\n",
       "      <td>20170331.0</td>\n",
       "      <td>11.0</td>\n",
       "      <td>7354.0</td>\n",
       "      <td>2443.0</td>\n",
       "      <td>1803.0</td>\n",
       "      <td>1655.0</td>\n",
       "      <td>...</td>\n",
       "      <td>1</td>\n",
       "      <td>0</td>\n",
       "      <td>0</td>\n",
       "      <td>0</td>\n",
       "      <td>0</td>\n",
       "      <td>1</td>\n",
       "      <td>0</td>\n",
       "      <td>0</td>\n",
       "      <td>1</td>\n",
       "      <td>0</td>\n",
       "    </tr>\n",
       "    <tr>\n",
       "      <th>4</th>\n",
       "      <td>XaPhtGLk/5UvvOYHcONTwsnH97P4eGECeq+BARGItRw=</td>\n",
       "      <td>1</td>\n",
       "      <td>9</td>\n",
       "      <td>20150101.0</td>\n",
       "      <td>20170331.0</td>\n",
       "      <td>11.0</td>\n",
       "      <td>1408.0</td>\n",
       "      <td>720.0</td>\n",
       "      <td>689.0</td>\n",
       "      <td>3249.0</td>\n",
       "      <td>...</td>\n",
       "      <td>1</td>\n",
       "      <td>0</td>\n",
       "      <td>0</td>\n",
       "      <td>0</td>\n",
       "      <td>0</td>\n",
       "      <td>1</td>\n",
       "      <td>0</td>\n",
       "      <td>0</td>\n",
       "      <td>1</td>\n",
       "      <td>0</td>\n",
       "    </tr>\n",
       "  </tbody>\n",
       "</table>\n",
       "<p>5 rows × 125 columns</p>\n",
       "</div>"
      ],
      "text/plain": [
       "                                           msno  is_churn  trans_count  \\\n",
       "0  waLDQMmcOu2jLDaV1ddDkgCrB/jl6sD66Xzs0Vqax1Y=         1            2   \n",
       "1  QA7uiXy8vIbUSPOkCf9RwQ3FsT8jVq2OxDr8zqa7bRQ=         1           23   \n",
       "2  fGwBva6hikQmTJzrbz/2Ezjm5Cth5jZUNvXigKK2AFA=         1           10   \n",
       "3  mT5V8rEpa+8wuqi6x0DoVd3H5icMKkE9Prt49UlmK+4=         1            3   \n",
       "4  XaPhtGLk/5UvvOYHcONTwsnH97P4eGECeq+BARGItRw=         1            9   \n",
       "\n",
       "     date_min    date_max  date_count  num_25_sum  num_50_sum  num_75_sum  \\\n",
       "0  20161106.0  20170208.0         6.0        51.0        16.0        19.0   \n",
       "1  20150101.0  20170319.0        11.0       447.0       157.0       121.0   \n",
       "2  20160202.0  20170131.0        10.0      1570.0       950.0       302.0   \n",
       "3  20150101.0  20170331.0        11.0      7354.0      2443.0      1803.0   \n",
       "4  20150101.0  20170331.0        11.0      1408.0       720.0       689.0   \n",
       "\n",
       "   num_985_sum         ...          payment_method_id_encoded33  \\\n",
       "0         11.0         ...                                    1   \n",
       "1        178.0         ...                                    0   \n",
       "2        479.0         ...                                    0   \n",
       "3       1655.0         ...                                    1   \n",
       "4       3249.0         ...                                    1   \n",
       "\n",
       "   payment_method_id_encoded34  payment_method_id_encoded35  \\\n",
       "0                            0                            0   \n",
       "1                            1                            0   \n",
       "2                            1                            0   \n",
       "3                            0                            0   \n",
       "4                            0                            0   \n",
       "\n",
       "   payment_method_id_encoded36  is_auto_renew_encoded0  \\\n",
       "0                            0                       0   \n",
       "1                            0                       0   \n",
       "2                            0                       0   \n",
       "3                            0                       0   \n",
       "4                            0                       0   \n",
       "\n",
       "   is_auto_renew_encoded1  is_auto_renew_encoded2  is_cancel_encoded0  \\\n",
       "0                       1                       0                   0   \n",
       "1                       0                       1                   0   \n",
       "2                       0                       1                   0   \n",
       "3                       1                       0                   0   \n",
       "4                       1                       0                   0   \n",
       "\n",
       "   is_cancel_encoded1  is_cancel_encoded2  \n",
       "0                   1                   0  \n",
       "1                   0                   1  \n",
       "2                   0                   1  \n",
       "3                   1                   0  \n",
       "4                   1                   0  \n",
       "\n",
       "[5 rows x 125 columns]"
      ]
     },
     "execution_count": 32,
     "metadata": {},
     "output_type": "execute_result"
    }
   ],
   "source": [
    "data.head()"
   ]
  },
  {
   "cell_type": "code",
   "execution_count": 5,
   "metadata": {
    "_cell_guid": "75de459a-50cd-4a2e-a2a2-61eb5ee5aca8",
    "_uuid": "190da1502caaf1a2e01acfd0da940836cd3fffc2",
    "collapsed": false
   },
   "outputs": [
    {
     "data": {
      "text/plain": [
       "(504818, 125)"
      ]
     },
     "execution_count": 5,
     "metadata": {},
     "output_type": "execute_result"
    }
   ],
   "source": [
    "data = data.drop([\"Unnamed: 0\"], axis=1)\n",
    "test = test.drop([\"Unnamed: 0\"], axis=1)\n",
    "data.shape"
   ]
  },
  {
   "cell_type": "code",
   "execution_count": 6,
   "metadata": {
    "_cell_guid": "7cb32654-c97f-4899-b015-727381bac178",
    "_uuid": "90d8d46f32e81583c7100dd4a9c29bf0a9a34cf2",
    "collapsed": false
   },
   "outputs": [
    {
     "data": {
      "text/plain": [
       "Index(['msno', 'is_churn', 'trans_count', 'date_min', 'date_max', 'date_count',\n",
       "       'num_25_sum', 'num_50_sum', 'num_75_sum', 'num_985_sum',\n",
       "       ...\n",
       "       'payment_method_id_encoded33', 'payment_method_id_encoded34',\n",
       "       'payment_method_id_encoded35', 'payment_method_id_encoded36',\n",
       "       'is_auto_renew_encoded0', 'is_auto_renew_encoded1',\n",
       "       'is_auto_renew_encoded2', 'is_cancel_encoded0', 'is_cancel_encoded1',\n",
       "       'is_cancel_encoded2'],\n",
       "      dtype='object', length=125)"
      ]
     },
     "execution_count": 6,
     "metadata": {},
     "output_type": "execute_result"
    }
   ],
   "source": [
    "data.columns"
   ]
  },
  {
   "cell_type": "code",
   "execution_count": 7,
   "metadata": {
    "_cell_guid": "8c799af6-d6de-4e15-ac23-41419f3fe492",
    "_uuid": "5b6cc6a606669d61616c5ed4d95b6fcbe6c7d6c6",
    "collapsed": false
   },
   "outputs": [
    {
     "data": {
      "text/plain": [
       "115770"
      ]
     },
     "execution_count": 7,
     "metadata": {},
     "output_type": "execute_result"
    }
   ],
   "source": [
    "np.sum(np.sum(data.isnull())) # adding them row wise and then column wise. No value is none"
   ]
  },
  {
   "cell_type": "code",
   "execution_count": 8,
   "metadata": {
    "_cell_guid": "2eece53b-e7dc-44c2-95e9-ebd0b9971aa3",
    "_uuid": "b2b3ca74b737691c66da088afb89730f446ba68a",
    "collapsed": true
   },
   "outputs": [],
   "source": [
    "from sklearn.model_selection import train_test_split\n",
    "X_train, X_test, y_train, y_test = train_test_split(data.drop(['is_churn', 'msno'], axis=1),data['is_churn'], train_size=0.8, test_size=0.2, random_state=345678) "
   ]
  },
  {
   "cell_type": "code",
   "execution_count": 9,
   "metadata": {
    "_cell_guid": "5e6a9d52-88b3-495f-b62a-9ca8160578f5",
    "_uuid": "99c8e41ba7c280ed88bf2a15eb09b9a422cdbd35",
    "collapsed": false
   },
   "outputs": [
    {
     "data": {
      "text/plain": [
       "'from sklearn.preprocessing import MinMaxScaler\\nscale = MinMaxScaler();\\nscale.fit(X_train);\\nX_train = scale.transform(X_train);\\nX_test = scale.transform(X_test);'"
      ]
     },
     "execution_count": 9,
     "metadata": {},
     "output_type": "execute_result"
    }
   ],
   "source": [
    "'''from sklearn.preprocessing import MinMaxScaler\n",
    "scale = MinMaxScaler();\n",
    "scale.fit(X_train);\n",
    "X_train = scale.transform(X_train);\n",
    "X_test = scale.transform(X_test);'''"
   ]
  },
  {
   "cell_type": "code",
   "execution_count": 10,
   "metadata": {
    "_cell_guid": "135f4c76-650e-4560-9ef7-46700aefc22a",
    "_uuid": "9383ea9b393c1254cdb962a016b213cbd2b29461",
    "collapsed": true
   },
   "outputs": [],
   "source": [
    "import xgboost as xgb\n",
    "from sklearn import metrics\n",
    "from xgboost import XGBClassifier"
   ]
  },
  {
   "cell_type": "code",
   "execution_count": 11,
   "metadata": {
    "_cell_guid": "3eeaae68-cd07-4d11-be83-e3a60b8428e1",
    "_uuid": "a408053b25cdc36cae111c6fd6d68879383fe42c",
    "collapsed": false
   },
   "outputs": [
    {
     "name": "stdout",
     "output_type": "stream",
     "text": [
      "XGBClassifier(base_score=0.5, booster='gbtree', colsample_bylevel=1,\n",
      "       colsample_bytree=0.63622106641, gamma=0.859598446221,\n",
      "       learning_rate=0.1, max_delta_step=0, max_depth=7,\n",
      "       min_child_weight=3, missing=None, n_estimators=100, n_jobs=-1,\n",
      "       nthread=None, objective='binary:logistic', random_state=0,\n",
      "       reg_alpha=3.59003832809, reg_lambda=0.312604869001,\n",
      "       scale_pos_weight=1, seed=None, silent=0, subsample=0.586018102037)\n"
     ]
    },
    {
     "data": {
      "text/plain": [
       "XGBClassifier(base_score=0.5, booster='gbtree', colsample_bylevel=1,\n",
       "       colsample_bytree=0.63622106641, gamma=0.859598446221,\n",
       "       learning_rate=0.1, max_delta_step=0, max_depth=7,\n",
       "       min_child_weight=3, missing=None, n_estimators=100, n_jobs=-1,\n",
       "       nthread=None, objective='binary:logistic', random_state=0,\n",
       "       reg_alpha=3.59003832809, reg_lambda=0.312604869001,\n",
       "       scale_pos_weight=1, seed=None, silent=0, subsample=0.586018102037)"
      ]
     },
     "execution_count": 11,
     "metadata": {},
     "output_type": "execute_result"
    }
   ],
   "source": [
    "#colsample_bytree=0.636221066412, gamma=0.859598446221, max_depth=7, min_child_weight=3, reg_alpha=3.59003832809, reg_lambda=0.312604869001, subsample=0.586018102037, score=-0.07374870982572349, total=\n",
    "params = {'n_jobs':-1, 'max_depth':7, 'silent':1, 'objective':'binary:logistic', 'colsample_bytree':0.63622106641, 'gamma':0.859598446221, 'min_child_weight':3, \"reg_alpha\":3.59003832809, 'reg_lambda':0.312604869001, 'subsample':0.586018102037}\n",
    "model = XGBClassifier()\n",
    "print(model.set_params(**params))\n",
    "model.fit(X_train, y_train)"
   ]
  },
  {
   "cell_type": "code",
   "execution_count": 21,
   "metadata": {
    "collapsed": false
   },
   "outputs": [
    {
     "name": "stdout",
     "output_type": "stream",
     "text": [
      "907471\n",
      "100964\n"
     ]
    },
    {
     "data": {
      "text/html": [
       "<div>\n",
       "<style scoped>\n",
       "    .dataframe tbody tr th:only-of-type {\n",
       "        vertical-align: middle;\n",
       "    }\n",
       "\n",
       "    .dataframe tbody tr th {\n",
       "        vertical-align: top;\n",
       "    }\n",
       "\n",
       "    .dataframe thead th {\n",
       "        text-align: right;\n",
       "    }\n",
       "</style>\n",
       "<table border=\"1\" class=\"dataframe\">\n",
       "  <thead>\n",
       "    <tr style=\"text-align: right;\">\n",
       "      <th></th>\n",
       "      <th>msno</th>\n",
       "      <th>is_churn</th>\n",
       "      <th>trans_count</th>\n",
       "      <th>date_min</th>\n",
       "      <th>date_max</th>\n",
       "      <th>date_count</th>\n",
       "      <th>num_25_sum</th>\n",
       "      <th>num_50_sum</th>\n",
       "      <th>num_75_sum</th>\n",
       "      <th>num_985_sum</th>\n",
       "      <th>...</th>\n",
       "      <th>payment_method_id_encoded33</th>\n",
       "      <th>payment_method_id_encoded34</th>\n",
       "      <th>payment_method_id_encoded35</th>\n",
       "      <th>payment_method_id_encoded36</th>\n",
       "      <th>is_auto_renew_encoded0</th>\n",
       "      <th>is_auto_renew_encoded1</th>\n",
       "      <th>is_auto_renew_encoded2</th>\n",
       "      <th>is_cancel_encoded0</th>\n",
       "      <th>is_cancel_encoded1</th>\n",
       "      <th>is_cancel_encoded2</th>\n",
       "    </tr>\n",
       "  </thead>\n",
       "  <tbody>\n",
       "    <tr>\n",
       "      <th>0</th>\n",
       "      <td>4n+fXlyJvfQnTeKXTWT507Ll4JVYGrOC8LHCfwBmPE4=</td>\n",
       "      <td>0</td>\n",
       "      <td>21</td>\n",
       "      <td>20150719.0</td>\n",
       "      <td>20170115.0</td>\n",
       "      <td>2.0</td>\n",
       "      <td>8.0</td>\n",
       "      <td>2.0</td>\n",
       "      <td>1.0</td>\n",
       "      <td>0.0</td>\n",
       "      <td>...</td>\n",
       "      <td>0</td>\n",
       "      <td>0</td>\n",
       "      <td>0</td>\n",
       "      <td>1</td>\n",
       "      <td>0</td>\n",
       "      <td>0</td>\n",
       "      <td>1</td>\n",
       "      <td>0</td>\n",
       "      <td>1</td>\n",
       "      <td>0</td>\n",
       "    </tr>\n",
       "    <tr>\n",
       "      <th>1</th>\n",
       "      <td>aNmbC1GvFUxQyQUidCVmfbQ0YeCuwkPzEdQ0RwWyeZM=</td>\n",
       "      <td>0</td>\n",
       "      <td>23</td>\n",
       "      <td>20150103.0</td>\n",
       "      <td>20170331.0</td>\n",
       "      <td>11.0</td>\n",
       "      <td>17694.0</td>\n",
       "      <td>3584.0</td>\n",
       "      <td>2536.0</td>\n",
       "      <td>2665.0</td>\n",
       "      <td>...</td>\n",
       "      <td>0</td>\n",
       "      <td>0</td>\n",
       "      <td>0</td>\n",
       "      <td>0</td>\n",
       "      <td>0</td>\n",
       "      <td>0</td>\n",
       "      <td>1</td>\n",
       "      <td>0</td>\n",
       "      <td>1</td>\n",
       "      <td>0</td>\n",
       "    </tr>\n",
       "    <tr>\n",
       "      <th>2</th>\n",
       "      <td>rFC9eSG/tMuzpre6cwcMLZHEYM89xY02qcz7HL4//jc=</td>\n",
       "      <td>0</td>\n",
       "      <td>11</td>\n",
       "      <td>20150102.0</td>\n",
       "      <td>20170328.0</td>\n",
       "      <td>11.0</td>\n",
       "      <td>392.0</td>\n",
       "      <td>85.0</td>\n",
       "      <td>40.0</td>\n",
       "      <td>37.0</td>\n",
       "      <td>...</td>\n",
       "      <td>0</td>\n",
       "      <td>0</td>\n",
       "      <td>0</td>\n",
       "      <td>1</td>\n",
       "      <td>0</td>\n",
       "      <td>0</td>\n",
       "      <td>1</td>\n",
       "      <td>0</td>\n",
       "      <td>1</td>\n",
       "      <td>0</td>\n",
       "    </tr>\n",
       "    <tr>\n",
       "      <th>3</th>\n",
       "      <td>WZ59dLyrQcE7ft06MZ5dj40BnlYQY7PHgg/54+HaCSE=</td>\n",
       "      <td>0</td>\n",
       "      <td>17</td>\n",
       "      <td>20150519.0</td>\n",
       "      <td>20170331.0</td>\n",
       "      <td>11.0</td>\n",
       "      <td>1040.0</td>\n",
       "      <td>282.0</td>\n",
       "      <td>182.0</td>\n",
       "      <td>188.0</td>\n",
       "      <td>...</td>\n",
       "      <td>0</td>\n",
       "      <td>0</td>\n",
       "      <td>0</td>\n",
       "      <td>1</td>\n",
       "      <td>0</td>\n",
       "      <td>0</td>\n",
       "      <td>1</td>\n",
       "      <td>0</td>\n",
       "      <td>1</td>\n",
       "      <td>0</td>\n",
       "    </tr>\n",
       "    <tr>\n",
       "      <th>4</th>\n",
       "      <td>aky/Iv8hMp1/V/yQHLtaVuEmmAxkB5GuasQZePJ7NU4=</td>\n",
       "      <td>0</td>\n",
       "      <td>4</td>\n",
       "      <td>20161226.0</td>\n",
       "      <td>20170216.0</td>\n",
       "      <td>4.0</td>\n",
       "      <td>12.0</td>\n",
       "      <td>7.0</td>\n",
       "      <td>4.0</td>\n",
       "      <td>3.0</td>\n",
       "      <td>...</td>\n",
       "      <td>0</td>\n",
       "      <td>0</td>\n",
       "      <td>0</td>\n",
       "      <td>0</td>\n",
       "      <td>0</td>\n",
       "      <td>0</td>\n",
       "      <td>1</td>\n",
       "      <td>0</td>\n",
       "      <td>1</td>\n",
       "      <td>0</td>\n",
       "    </tr>\n",
       "  </tbody>\n",
       "</table>\n",
       "<p>5 rows × 125 columns</p>\n",
       "</div>"
      ],
      "text/plain": [
       "                                           msno  is_churn  trans_count  \\\n",
       "0  4n+fXlyJvfQnTeKXTWT507Ll4JVYGrOC8LHCfwBmPE4=         0           21   \n",
       "1  aNmbC1GvFUxQyQUidCVmfbQ0YeCuwkPzEdQ0RwWyeZM=         0           23   \n",
       "2  rFC9eSG/tMuzpre6cwcMLZHEYM89xY02qcz7HL4//jc=         0           11   \n",
       "3  WZ59dLyrQcE7ft06MZ5dj40BnlYQY7PHgg/54+HaCSE=         0           17   \n",
       "4  aky/Iv8hMp1/V/yQHLtaVuEmmAxkB5GuasQZePJ7NU4=         0            4   \n",
       "\n",
       "     date_min    date_max  date_count  num_25_sum  num_50_sum  num_75_sum  \\\n",
       "0  20150719.0  20170115.0         2.0         8.0         2.0         1.0   \n",
       "1  20150103.0  20170331.0        11.0     17694.0      3584.0      2536.0   \n",
       "2  20150102.0  20170328.0        11.0       392.0        85.0        40.0   \n",
       "3  20150519.0  20170331.0        11.0      1040.0       282.0       182.0   \n",
       "4  20161226.0  20170216.0         4.0        12.0         7.0         4.0   \n",
       "\n",
       "   num_985_sum         ...          payment_method_id_encoded33  \\\n",
       "0          0.0         ...                                    0   \n",
       "1       2665.0         ...                                    0   \n",
       "2         37.0         ...                                    0   \n",
       "3        188.0         ...                                    0   \n",
       "4          3.0         ...                                    0   \n",
       "\n",
       "   payment_method_id_encoded34  payment_method_id_encoded35  \\\n",
       "0                            0                            0   \n",
       "1                            0                            0   \n",
       "2                            0                            0   \n",
       "3                            0                            0   \n",
       "4                            0                            0   \n",
       "\n",
       "   payment_method_id_encoded36  is_auto_renew_encoded0  \\\n",
       "0                            1                       0   \n",
       "1                            0                       0   \n",
       "2                            1                       0   \n",
       "3                            1                       0   \n",
       "4                            0                       0   \n",
       "\n",
       "   is_auto_renew_encoded1  is_auto_renew_encoded2  is_cancel_encoded0  \\\n",
       "0                       0                       1                   0   \n",
       "1                       0                       1                   0   \n",
       "2                       0                       1                   0   \n",
       "3                       0                       1                   0   \n",
       "4                       0                       1                   0   \n",
       "\n",
       "   is_cancel_encoded1  is_cancel_encoded2  \n",
       "0                   1                   0  \n",
       "1                   1                   0  \n",
       "2                   1                   0  \n",
       "3                   1                   0  \n",
       "4                   1                   0  \n",
       "\n",
       "[5 rows x 125 columns]"
      ]
     },
     "execution_count": 21,
     "metadata": {},
     "output_type": "execute_result"
    }
   ],
   "source": [
    "print(len(test_msno))\n",
    "print(len(X_test))\n",
    "test.head()"
   ]
  },
  {
   "cell_type": "code",
   "execution_count": 33,
   "metadata": {
    "_cell_guid": "884f4bd5-238e-465b-9c72-8e14427140ee",
    "_uuid": "8c50514b0670e525857cf1d8ab8d69a129c69689",
    "collapsed": false
   },
   "outputs": [],
   "source": [
    "y_pred = model.predict(test)"
   ]
  },
  {
   "cell_type": "code",
   "execution_count": 34,
   "metadata": {
    "collapsed": false
   },
   "outputs": [
    {
     "name": "stdout",
     "output_type": "stream",
     "text": [
      "907471\n"
     ]
    }
   ],
   "source": [
    "print(len(y_pred))"
   ]
  },
  {
   "cell_type": "code",
   "execution_count": 64,
   "metadata": {
    "_cell_guid": "63870ec4-277f-4b11-8e43-ee0fa026aa11",
    "_uuid": "6b2ec4e532fb59eccc16b093d64fe3309ca352e5",
    "collapsed": false
   },
   "outputs": [
    {
     "data": {
      "text/html": [
       "<div>\n",
       "<style scoped>\n",
       "    .dataframe tbody tr th:only-of-type {\n",
       "        vertical-align: middle;\n",
       "    }\n",
       "\n",
       "    .dataframe tbody tr th {\n",
       "        vertical-align: top;\n",
       "    }\n",
       "\n",
       "    .dataframe thead th {\n",
       "        text-align: right;\n",
       "    }\n",
       "</style>\n",
       "<table border=\"1\" class=\"dataframe\">\n",
       "  <thead>\n",
       "    <tr style=\"text-align: right;\">\n",
       "      <th></th>\n",
       "      <th>msno</th>\n",
       "      <th>is_churn</th>\n",
       "    </tr>\n",
       "  </thead>\n",
       "  <tbody>\n",
       "    <tr>\n",
       "      <th>0</th>\n",
       "      <td>4n+fXlyJvfQnTeKXTWT507Ll4JVYGrOC8LHCfwBmPE4=</td>\n",
       "      <td>0</td>\n",
       "    </tr>\n",
       "    <tr>\n",
       "      <th>1</th>\n",
       "      <td>aNmbC1GvFUxQyQUidCVmfbQ0YeCuwkPzEdQ0RwWyeZM=</td>\n",
       "      <td>0</td>\n",
       "    </tr>\n",
       "    <tr>\n",
       "      <th>2</th>\n",
       "      <td>rFC9eSG/tMuzpre6cwcMLZHEYM89xY02qcz7HL4//jc=</td>\n",
       "      <td>0</td>\n",
       "    </tr>\n",
       "    <tr>\n",
       "      <th>3</th>\n",
       "      <td>WZ59dLyrQcE7ft06MZ5dj40BnlYQY7PHgg/54+HaCSE=</td>\n",
       "      <td>0</td>\n",
       "    </tr>\n",
       "    <tr>\n",
       "      <th>4</th>\n",
       "      <td>aky/Iv8hMp1/V/yQHLtaVuEmmAxkB5GuasQZePJ7NU4=</td>\n",
       "      <td>0</td>\n",
       "    </tr>\n",
       "  </tbody>\n",
       "</table>\n",
       "</div>"
      ],
      "text/plain": [
       "                                           msno  is_churn\n",
       "0  4n+fXlyJvfQnTeKXTWT507Ll4JVYGrOC8LHCfwBmPE4=         0\n",
       "1  aNmbC1GvFUxQyQUidCVmfbQ0YeCuwkPzEdQ0RwWyeZM=         0\n",
       "2  rFC9eSG/tMuzpre6cwcMLZHEYM89xY02qcz7HL4//jc=         0\n",
       "3  WZ59dLyrQcE7ft06MZ5dj40BnlYQY7PHgg/54+HaCSE=         0\n",
       "4  aky/Iv8hMp1/V/yQHLtaVuEmmAxkB5GuasQZePJ7NU4=         0"
      ]
     },
     "execution_count": 64,
     "metadata": {},
     "output_type": "execute_result"
    }
   ],
   "source": [
    "submission = pd.DataFrame(y_pred).rename(columns={0:'is_churn'})\n",
    "test_msno_df = pd.DataFrame(test_msno_df).rename(columns={0:'msno'})\n",
    "result = pd.concat([test_msno_df,submission], axis=1)\n",
    "result.head()"
   ]
  },
  {
   "cell_type": "code",
   "execution_count": 66,
   "metadata": {
    "_cell_guid": "b10257bd-db08-42b5-bd96-dfca70fe6451",
    "_uuid": "2f7368a7f4be274a10e278769ba78783fbedfc71",
    "collapsed": false
   },
   "outputs": [],
   "source": [
    "result.to_csv(\"output/submission.csv\")"
   ]
  },
  {
   "cell_type": "code",
   "execution_count": 67,
   "metadata": {
    "_cell_guid": "23f52b82-28fb-4b46-bc0e-c12210280417",
    "_uuid": "5b10a7221f3cb37f27f4183990a624727bffce2d",
    "collapsed": false
   },
   "outputs": [
    {
     "data": {
      "text/plain": [
       "(907471, 2)"
      ]
     },
     "execution_count": 67,
     "metadata": {},
     "output_type": "execute_result"
    }
   ],
   "source": [
    "result.shape"
   ]
  },
  {
   "cell_type": "code",
   "execution_count": null,
   "metadata": {
    "_cell_guid": "f82d433b-c6d6-40f9-838a-8f940076b321",
    "_uuid": "a5a5b3cc8518cb381c9624c4dc529c8b5767036d",
    "collapsed": true
   },
   "outputs": [],
   "source": []
  }
 ],
 "metadata": {
  "kernel_info": {
   "name": "python3"
  },
  "kernelspec": {
   "display_name": "Python 3",
   "language": "python",
   "name": "python3"
  },
  "language_info": {
   "codemirror_mode": {
    "name": "ipython",
    "version": 3
   },
   "file_extension": ".py",
   "mimetype": "text/x-python",
   "name": "python",
   "nbconvert_exporter": "python",
   "pygments_lexer": "ipython3",
   "version": "3.6.0"
  },
  "nteract": {
   "version": "0.4.3"
  }
 },
 "nbformat": 4,
 "nbformat_minor": 1
}
