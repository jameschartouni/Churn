{
  "cells": [
    {
      "cell_type": "code",
      "source": [
        "#Load the required packages\n",
        "import numpy as np\n",
        "import pandas as pd\n",
        "import multiprocessing as mp\n",
        "import time\n",
        "\n",
        "from subprocess import check_output\n",
        "import subprocess\n",
        "files=check_output([\"ls\", \"raw_data\"]).decode(\"utf8\")\n",
        "print(files)\n",
        "#check the number of cores\n",
        "num_cores = mp.cpu_count()\n",
        "print(\"This kernel has :\",num_cores,\"cores\")\n",
        "#Check the number of row of each file\n",
        "for file in files.split(\"\\n\"):\n",
        "    path='raw_data/'+file\n",
        "    popenobj=subprocess.Popen(['wc', '-l', path], stdout=subprocess.PIPE, \n",
        "                                              stderr=subprocess.PIPE)\n",
        "    result,error= popenobj.communicate()\n",
        "    #print(result,error)\n",
        "    #print(\"The file :\",file,\"has :\",result.strip().split()[0],\"rows\")\n"
      ],
      "outputs": [
        {
          "output_type": "stream",
          "name": "stdout",
          "text": [
            "members_v3.csv\n",
            "sample_submission_v2.csv\n",
            "sample_submission_zero.csv\n",
            "train.csv\n",
            "train_v2.csv\n",
            "transactions.csv\n",
            "transactions_v2.csv\n",
            "user_logs.csv\n",
            "user_logs_v2.csv\n",
            "\n",
            "This kernel has : 4 cores\n",
            "The file : members_v3.csv has : b'6769474' rows\n",
            "The file : sample_submission_v2.csv has : b'907472' rows\n",
            "The file : sample_submission_zero.csv has : b'970961' rows\n",
            "The file : train.csv has : b'992932' rows\n",
            "The file : train_v2.csv has : b'970961' rows\n",
            "The file : transactions.csv has : b'21547747' rows\n",
            "The file : transactions_v2.csv has : b'1431010' rows\n",
            "The file : user_logs.csv has : b'392106544' rows\n",
            "The file : user_logs_v2.csv has : b'18396363' rows\n"
          ]
        },
        {
          "output_type": "error",
          "ename": "IndexError",
          "evalue": "list index out of range",
          "traceback": [
            "\u001b[0;31m---------------------------------------------------------------------------\u001b[0m",
            "\u001b[0;31mIndexError\u001b[0m                                Traceback (most recent call last)",
            "\u001b[0;32m<ipython-input-8-9dcdd4d7b917>\u001b[0m in \u001b[0;36m<module>\u001b[0;34m()\u001b[0m\n\u001b[1;32m     19\u001b[0m     \u001b[0mresult\u001b[0m\u001b[0;34m,\u001b[0m\u001b[0merror\u001b[0m\u001b[0;34m=\u001b[0m \u001b[0mpopenobj\u001b[0m\u001b[0;34m.\u001b[0m\u001b[0mcommunicate\u001b[0m\u001b[0;34m(\u001b[0m\u001b[0;34m)\u001b[0m\u001b[0;34m\u001b[0m\u001b[0m\n\u001b[1;32m     20\u001b[0m     \u001b[0;31m#print(result,error)\u001b[0m\u001b[0;34m\u001b[0m\u001b[0;34m\u001b[0m\u001b[0m\n\u001b[0;32m---> 21\u001b[0;31m     \u001b[0mprint\u001b[0m\u001b[0;34m(\u001b[0m\u001b[0;34m\"The file :\"\u001b[0m\u001b[0;34m,\u001b[0m\u001b[0mfile\u001b[0m\u001b[0;34m,\u001b[0m\u001b[0;34m\"has :\"\u001b[0m\u001b[0;34m,\u001b[0m\u001b[0mresult\u001b[0m\u001b[0;34m.\u001b[0m\u001b[0mstrip\u001b[0m\u001b[0;34m(\u001b[0m\u001b[0;34m)\u001b[0m\u001b[0;34m.\u001b[0m\u001b[0msplit\u001b[0m\u001b[0;34m(\u001b[0m\u001b[0;34m)\u001b[0m\u001b[0;34m[\u001b[0m\u001b[0;36m0\u001b[0m\u001b[0;34m]\u001b[0m\u001b[0;34m,\u001b[0m\u001b[0;34m\"rows\"\u001b[0m\u001b[0;34m)\u001b[0m\u001b[0;34m\u001b[0m\u001b[0m\n\u001b[0m",
            "\u001b[0;31mIndexError\u001b[0m: list index out of range"
          ]
        }
      ],
      "execution_count": 8,
      "metadata": {
        "collapsed": true,
        "_uuid": "ea24fa0515ce74039f79ad6a70f6add6f89e02fc",
        "_cell_guid": "85cce2be-733a-4532-9881-8cb657c34d50",
        "trusted": false
      }
    },
    {
      "cell_type": "markdown",
      "source": [
        "# user logs have 392 million records!!\n",
        "\n",
        "The kaggle kernal limitations are as follows:\n",
        "- It has a self timeout after processing a \"cell\" for ~10 minutes\n",
        "- Memory limit is 8 GB \n",
        "Link:https://www.kaggle.com/wiki/Scripts\n",
        "\n",
        "Hence by splitting the file into chunks less than 8 GB (I've used a chunk size of 40 mil rows), we can squeeze in the feature extraction with the timeout of 10 minutes.\n"
      ],
      "metadata": {
        "_uuid": "d6500e2ab47a68b08f26bcfa8ef2295aede38ecb",
        "_cell_guid": "f81501cc-2095-4529-b759-e603ae142214"
      }
    },
    {
      "cell_type": "code",
      "source": [
        "#writing as a function\n",
        "def process_user_log(chunk):\n",
        "    grouped_object=chunk.groupby(chunk.index,sort=False) # not sorting results in a minor speedup\n",
        "    func = {'date':['min','max','count'], \n",
        "           'num_25':['sum'],'num_50':['sum'],\n",
        "           'num_75':['sum'],'num_985':['sum'],\n",
        "           'num_100':['sum'],'num_unq':['sum'],'total_secs':['sum']}\n",
        "    answer=grouped_object.agg(func)\n",
        "    return answer\n",
        "print(\"done\")"
      ],
      "outputs": [
        {
          "output_type": "stream",
          "name": "stdout",
          "text": [
            "done\n"
          ]
        }
      ],
      "execution_count": 2,
      "metadata": {
        "collapsed": true,
        "_uuid": "a8e2c27b35adfaba5f885a5ec54969f72eb48890",
        "_cell_guid": "4c093ddc-e0cc-48e9-8967-9567765b710e",
        "trusted": false
      }
    },
    {
      "cell_type": "code",
      "source": [],
      "outputs": [],
      "execution_count": 3,
      "metadata": {
        "collapsed": true,
        "_uuid": "e85c1dea6fd3bf53278bd27a097c18ccccd83449",
        "_cell_guid": "9916aa7a-9c18-4763-98c2-fa0fae4af038",
        "trusted": false
      }
    },
    {
      "cell_type": "code",
      "source": [
        "reader = pd.read_csv('raw_data/user_logs_v2.csv', engine='c', index_col=['msno'])\n",
        "result=process_user_log(reader)"
      ],
      "outputs": [],
      "execution_count": 14,
      "metadata": {
        "collapsed": true,
        "_uuid": "a413cc82ab730253358161506b6e400eb8966639",
        "_cell_guid": "d2e89154-8934-4868-a65a-1b9776aff0ec",
        "trusted": false
      }
    },
    {
      "cell_type": "code",
      "source": [
        "print(len(result))\n",
        "check=result.index.unique()\n",
        "print(len(check))\n"
      ],
      "outputs": [
        {
          "output_type": "stream",
          "name": "stdout",
          "text": [
            "1103894\n",
            "1103894\n"
          ]
        }
      ],
      "execution_count": 15,
      "metadata": {
        "collapsed": true,
        "_uuid": "0b7102fd9f144bdbb580de6615ef89ec76b54862",
        "_cell_guid": "8b447695-dee8-4712-926a-6e52f492b1dd",
        "trusted": false
      }
    },
    {
      "cell_type": "code",
      "source": [
        "#result.columns.values\n",
        "result.columns = ['_'.join(col).strip() for col in result.columns.values]\n",
        "result.columns"
      ],
      "outputs": [
        {
          "output_type": "execute_result",
          "execution_count": 16,
          "data": {
            "text/plain": [
              "Index(['date_min', 'date_max', 'date_count', 'num_25_sum', 'num_50_sum',\n",
              "       'num_75_sum', 'num_985_sum', 'num_100_sum', 'num_unq_sum',\n",
              "       'total_secs_sum'],\n",
              "      dtype='object')"
            ]
          },
          "metadata": {}
        }
      ],
      "execution_count": 16,
      "metadata": {
        "collapsed": true,
        "_uuid": "79b5f27a9a484a915ab336b8da90403ad24b8ebc",
        "_cell_guid": "864f3686-6564-4dc1-bb61-fa736f37b753",
        "trusted": false
      }
    },
    {
      "cell_type": "code",
      "source": [
        "result.head()\n",
        "func = {'date_min':['min'],'date_max':['max'],'date_count':['count'] ,\n",
        "           'num_25_sum':['sum'],'num_50_sum':['sum'],\n",
        "           'num_75_sum':['sum'],'num_985_sum':['sum'],\n",
        "           'num_100_sum':['sum'],'num_unq_sum':['sum'],'total_secs_sum':['sum']}\n",
        "processed_user_log=result.groupby(result.index).agg(func)\n",
        "print(len(processed_user_log))\n",
        "processed_user_log.columns = processed_user_log.columns.get_level_values(0)\n",
        "print(processed_user_log.head())"
      ],
      "outputs": [
        {
          "output_type": "stream",
          "name": "stdout",
          "text": [
            "1103894\n",
            "                                              date_min  date_max  date_count  \\\n",
            "msno                                                                           \n",
            "+++IZseRRiQS9aaSkH6cMYU6bGDcxUieAi/tH67sC5s=  20170301  20170331           1   \n",
            "+++hVY1rZox/33YtvDgmKA2Frg/2qhkz12B9ylCvh8o=  20170301  20170331           1   \n",
            "+++l/EXNMLTijfLBa8p2TUVVVp2aFGSuUI/h7mLmthw=  20170301  20170331           1   \n",
            "+++snpr7pmobhLKUgSHTv/mpkqgBT0tQJ0zQj6qKrqc=  20170302  20170330           1   \n",
            "++/9R3sX37CjxbY/AaGvbwr3QkwElKBCtSvVzhCBDOk=  20170301  20170331           1   \n",
            "\n",
            "                                              num_25_sum  num_50_sum  \\\n",
            "msno                                                                   \n",
            "+++IZseRRiQS9aaSkH6cMYU6bGDcxUieAi/tH67sC5s=          86          11   \n",
            "+++hVY1rZox/33YtvDgmKA2Frg/2qhkz12B9ylCvh8o=         191          90   \n",
            "+++l/EXNMLTijfLBa8p2TUVVVp2aFGSuUI/h7mLmthw=          43          12   \n",
            "+++snpr7pmobhLKUgSHTv/mpkqgBT0tQJ0zQj6qKrqc=         207         163   \n",
            "++/9R3sX37CjxbY/AaGvbwr3QkwElKBCtSvVzhCBDOk=         105          24   \n",
            "\n",
            "                                              num_75_sum  num_985_sum  \\\n",
            "msno                                                                    \n",
            "+++IZseRRiQS9aaSkH6cMYU6bGDcxUieAi/tH67sC5s=          10            5   \n",
            "+++hVY1rZox/33YtvDgmKA2Frg/2qhkz12B9ylCvh8o=          75          144   \n",
            "+++l/EXNMLTijfLBa8p2TUVVVp2aFGSuUI/h7mLmthw=          15           12   \n",
            "+++snpr7pmobhLKUgSHTv/mpkqgBT0tQJ0zQj6qKrqc=         100           64   \n",
            "++/9R3sX37CjxbY/AaGvbwr3QkwElKBCtSvVzhCBDOk=          39           35   \n",
            "\n",
            "                                              num_100_sum  num_unq_sum  \\\n",
            "msno                                                                     \n",
            "+++IZseRRiQS9aaSkH6cMYU6bGDcxUieAi/tH67sC5s=          472          530   \n",
            "+++hVY1rZox/33YtvDgmKA2Frg/2qhkz12B9ylCvh8o=          589          885   \n",
            "+++l/EXNMLTijfLBa8p2TUVVVp2aFGSuUI/h7mLmthw=          485          468   \n",
            "+++snpr7pmobhLKUgSHTv/mpkqgBT0tQJ0zQj6qKrqc=          436          828   \n",
            "++/9R3sX37CjxbY/AaGvbwr3QkwElKBCtSvVzhCBDOk=          479          230   \n",
            "\n",
            "                                              total_secs_sum  \n",
            "msno                                                          \n",
            "+++IZseRRiQS9aaSkH6cMYU6bGDcxUieAi/tH67sC5s=      117907.425  \n",
            "+++hVY1rZox/33YtvDgmKA2Frg/2qhkz12B9ylCvh8o=      192527.892  \n",
            "+++l/EXNMLTijfLBa8p2TUVVVp2aFGSuUI/h7mLmthw=      115411.260  \n",
            "+++snpr7pmobhLKUgSHTv/mpkqgBT0tQJ0zQj6qKrqc=      149896.558  \n",
            "++/9R3sX37CjxbY/AaGvbwr3QkwElKBCtSvVzhCBDOk=      116433.247  \n"
          ]
        }
      ],
      "execution_count": 17,
      "metadata": {
        "collapsed": true,
        "_uuid": "e8f6e9f5ddede66a630a113a7dbe676b4688471a",
        "_cell_guid": "e77526fb-50ae-49ef-a5c3-3ed2586f8ad9",
        "trusted": false
      }
    },
    {
      "cell_type": "code",
      "source": [
        "processed_user_log.head()"
      ],
      "outputs": [
        {
          "output_type": "execute_result",
          "execution_count": 18,
          "data": {
            "text/plain": [
              "                                              date_min  date_max  date_count  \\\n",
              "msno                                                                           \n",
              "+++IZseRRiQS9aaSkH6cMYU6bGDcxUieAi/tH67sC5s=  20170301  20170331           1   \n",
              "+++hVY1rZox/33YtvDgmKA2Frg/2qhkz12B9ylCvh8o=  20170301  20170331           1   \n",
              "+++l/EXNMLTijfLBa8p2TUVVVp2aFGSuUI/h7mLmthw=  20170301  20170331           1   \n",
              "+++snpr7pmobhLKUgSHTv/mpkqgBT0tQJ0zQj6qKrqc=  20170302  20170330           1   \n",
              "++/9R3sX37CjxbY/AaGvbwr3QkwElKBCtSvVzhCBDOk=  20170301  20170331           1   \n",
              "\n",
              "                                              num_25_sum  num_50_sum  \\\n",
              "msno                                                                   \n",
              "+++IZseRRiQS9aaSkH6cMYU6bGDcxUieAi/tH67sC5s=          86          11   \n",
              "+++hVY1rZox/33YtvDgmKA2Frg/2qhkz12B9ylCvh8o=         191          90   \n",
              "+++l/EXNMLTijfLBa8p2TUVVVp2aFGSuUI/h7mLmthw=          43          12   \n",
              "+++snpr7pmobhLKUgSHTv/mpkqgBT0tQJ0zQj6qKrqc=         207         163   \n",
              "++/9R3sX37CjxbY/AaGvbwr3QkwElKBCtSvVzhCBDOk=         105          24   \n",
              "\n",
              "                                              num_75_sum  num_985_sum  \\\n",
              "msno                                                                    \n",
              "+++IZseRRiQS9aaSkH6cMYU6bGDcxUieAi/tH67sC5s=          10            5   \n",
              "+++hVY1rZox/33YtvDgmKA2Frg/2qhkz12B9ylCvh8o=          75          144   \n",
              "+++l/EXNMLTijfLBa8p2TUVVVp2aFGSuUI/h7mLmthw=          15           12   \n",
              "+++snpr7pmobhLKUgSHTv/mpkqgBT0tQJ0zQj6qKrqc=         100           64   \n",
              "++/9R3sX37CjxbY/AaGvbwr3QkwElKBCtSvVzhCBDOk=          39           35   \n",
              "\n",
              "                                              num_100_sum  num_unq_sum  \\\n",
              "msno                                                                     \n",
              "+++IZseRRiQS9aaSkH6cMYU6bGDcxUieAi/tH67sC5s=          472          530   \n",
              "+++hVY1rZox/33YtvDgmKA2Frg/2qhkz12B9ylCvh8o=          589          885   \n",
              "+++l/EXNMLTijfLBa8p2TUVVVp2aFGSuUI/h7mLmthw=          485          468   \n",
              "+++snpr7pmobhLKUgSHTv/mpkqgBT0tQJ0zQj6qKrqc=          436          828   \n",
              "++/9R3sX37CjxbY/AaGvbwr3QkwElKBCtSvVzhCBDOk=          479          230   \n",
              "\n",
              "                                              total_secs_sum  \n",
              "msno                                                          \n",
              "+++IZseRRiQS9aaSkH6cMYU6bGDcxUieAi/tH67sC5s=      117907.425  \n",
              "+++hVY1rZox/33YtvDgmKA2Frg/2qhkz12B9ylCvh8o=      192527.892  \n",
              "+++l/EXNMLTijfLBa8p2TUVVVp2aFGSuUI/h7mLmthw=      115411.260  \n",
              "+++snpr7pmobhLKUgSHTv/mpkqgBT0tQJ0zQj6qKrqc=      149896.558  \n",
              "++/9R3sX37CjxbY/AaGvbwr3QkwElKBCtSvVzhCBDOk=      116433.247  "
            ],
            "text/html": [
              "<div>\n",
              "<style scoped>\n",
              "    .dataframe tbody tr th:only-of-type {\n",
              "        vertical-align: middle;\n",
              "    }\n",
              "\n",
              "    .dataframe tbody tr th {\n",
              "        vertical-align: top;\n",
              "    }\n",
              "\n",
              "    .dataframe thead th {\n",
              "        text-align: right;\n",
              "    }\n",
              "</style>\n",
              "<table border=\"1\" class=\"dataframe\">\n",
              "  <thead>\n",
              "    <tr style=\"text-align: right;\">\n",
              "      <th></th>\n",
              "      <th>date_min</th>\n",
              "      <th>date_max</th>\n",
              "      <th>date_count</th>\n",
              "      <th>num_25_sum</th>\n",
              "      <th>num_50_sum</th>\n",
              "      <th>num_75_sum</th>\n",
              "      <th>num_985_sum</th>\n",
              "      <th>num_100_sum</th>\n",
              "      <th>num_unq_sum</th>\n",
              "      <th>total_secs_sum</th>\n",
              "    </tr>\n",
              "    <tr>\n",
              "      <th>msno</th>\n",
              "      <th></th>\n",
              "      <th></th>\n",
              "      <th></th>\n",
              "      <th></th>\n",
              "      <th></th>\n",
              "      <th></th>\n",
              "      <th></th>\n",
              "      <th></th>\n",
              "      <th></th>\n",
              "      <th></th>\n",
              "    </tr>\n",
              "  </thead>\n",
              "  <tbody>\n",
              "    <tr>\n",
              "      <th>+++IZseRRiQS9aaSkH6cMYU6bGDcxUieAi/tH67sC5s=</th>\n",
              "      <td>20170301</td>\n",
              "      <td>20170331</td>\n",
              "      <td>1</td>\n",
              "      <td>86</td>\n",
              "      <td>11</td>\n",
              "      <td>10</td>\n",
              "      <td>5</td>\n",
              "      <td>472</td>\n",
              "      <td>530</td>\n",
              "      <td>117907.425</td>\n",
              "    </tr>\n",
              "    <tr>\n",
              "      <th>+++hVY1rZox/33YtvDgmKA2Frg/2qhkz12B9ylCvh8o=</th>\n",
              "      <td>20170301</td>\n",
              "      <td>20170331</td>\n",
              "      <td>1</td>\n",
              "      <td>191</td>\n",
              "      <td>90</td>\n",
              "      <td>75</td>\n",
              "      <td>144</td>\n",
              "      <td>589</td>\n",
              "      <td>885</td>\n",
              "      <td>192527.892</td>\n",
              "    </tr>\n",
              "    <tr>\n",
              "      <th>+++l/EXNMLTijfLBa8p2TUVVVp2aFGSuUI/h7mLmthw=</th>\n",
              "      <td>20170301</td>\n",
              "      <td>20170331</td>\n",
              "      <td>1</td>\n",
              "      <td>43</td>\n",
              "      <td>12</td>\n",
              "      <td>15</td>\n",
              "      <td>12</td>\n",
              "      <td>485</td>\n",
              "      <td>468</td>\n",
              "      <td>115411.260</td>\n",
              "    </tr>\n",
              "    <tr>\n",
              "      <th>+++snpr7pmobhLKUgSHTv/mpkqgBT0tQJ0zQj6qKrqc=</th>\n",
              "      <td>20170302</td>\n",
              "      <td>20170330</td>\n",
              "      <td>1</td>\n",
              "      <td>207</td>\n",
              "      <td>163</td>\n",
              "      <td>100</td>\n",
              "      <td>64</td>\n",
              "      <td>436</td>\n",
              "      <td>828</td>\n",
              "      <td>149896.558</td>\n",
              "    </tr>\n",
              "    <tr>\n",
              "      <th>++/9R3sX37CjxbY/AaGvbwr3QkwElKBCtSvVzhCBDOk=</th>\n",
              "      <td>20170301</td>\n",
              "      <td>20170331</td>\n",
              "      <td>1</td>\n",
              "      <td>105</td>\n",
              "      <td>24</td>\n",
              "      <td>39</td>\n",
              "      <td>35</td>\n",
              "      <td>479</td>\n",
              "      <td>230</td>\n",
              "      <td>116433.247</td>\n",
              "    </tr>\n",
              "  </tbody>\n",
              "</table>\n",
              "</div>"
            ]
          },
          "metadata": {}
        }
      ],
      "execution_count": 18,
      "metadata": {
        "collapsed": true,
        "_uuid": "8bcf1ad269a76bb73c2ff87bdc97b2b4c83aa666",
        "_cell_guid": "84b73e41-6287-427b-93d7-253c4e69e2e4",
        "trusted": false
      }
    },
    {
      "cell_type": "code",
      "source": [
        "# this function did not work because apparently only lists can be passed back from a function through the \n",
        "# multiprocessing package \n",
        "# If we use multiple cores the process can be 16 times faster\n",
        "\n",
        "# create as many processes as there are CPUs on your machine\n",
        "# if __name__ == '__main__':\n",
        "#     size=1000000\n",
        "#     parser = pd.read_csv('../input/user_logs.csv',chunksize=size,index_col=['msno'])\n",
        "#     num_processes = mp.cpu_count()\n",
        "#     pool=mp.Pool(processes=num_processes)\n",
        "#     start_time = time.time()\n",
        "#     list_of_ans=[]\n",
        "#     def collect_results(result):\n",
        "#         list_of_ans.extend(result)\n",
        "#         print(done)\n",
        "#     for i,df in enumerate(parser):\n",
        "#         print(\"starting at\",i,\" %s seconds\" % (time.time() - start_time))\n",
        "#         pool.map(process_user_log,df,callback=collect_results) \n",
        "#         \n",
        "#     print(\"action \",i,\"took %s seconds\" % (time.time() - start_time))\n",
        "#     pool.close()\n",
        "#     pool.join()\n",
        "        \n"
      ],
      "outputs": [],
      "execution_count": null,
      "metadata": {
        "collapsed": true,
        "_uuid": "577cd0613941cef1cde92858c3b4ca26e75d201f",
        "_cell_guid": "fc7321ec-26d5-40cf-a7b3-8bcde9734538",
        "trusted": false
      }
    },
    {
      "cell_type": "code",
      "source": [
        "processed_user_log.to_csv(\"cleaned_input/processed_user_log_v2.csv\")"
      ],
      "outputs": [],
      "execution_count": 20,
      "metadata": {
        "collapsed": true,
        "_uuid": "10afc6bdd95f3e9fdc3c03cf02fd3b783fc217f9",
        "_cell_guid": "7bd991fb-5c9a-45be-8968-0d4c674f7f9f",
        "trusted": false
      }
    },
    {
      "cell_type": "code",
      "source": [],
      "outputs": [],
      "execution_count": null,
      "metadata": {
        "collapsed": true,
        "_uuid": "fcdc21c8f17c27a6400e35d41d10e72eaf935be2",
        "_cell_guid": "bb83b44c-d8e9-443c-8cd5-c3ace61ebb9e",
        "trusted": false
      }
    }
  ],
  "metadata": {
    "language_info": {
      "name": "python",
      "version": "3.6.0",
      "mimetype": "text/x-python",
      "codemirror_mode": {
        "name": "ipython",
        "version": 3
      },
      "pygments_lexer": "ipython3",
      "nbconvert_exporter": "python",
      "file_extension": ".py"
    },
    "kernelspec": {
      "name": "python3",
      "language": "python",
      "display_name": "Python 3"
    },
    "kernel_info": {
      "name": "python3"
    },
    "nteract": {
      "version": "0.3.4"
    }
  },
  "nbformat": 4,
  "nbformat_minor": 1
}