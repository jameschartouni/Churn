{
 "cells": [
  {
   "cell_type": "code",
   "execution_count": 3,
   "metadata": {
    "collapsed": true
   },
   "outputs": [],
   "source": [
    "#James Chartouni\n",
    "from multiprocessing import Pool, cpu_count\n",
    "import gc; gc.enable()\n",
    "import pandas as pd\n",
    "import numpy as np"
   ]
  },
  {
   "cell_type": "code",
   "execution_count": 8,
   "metadata": {
    "collapsed": false,
    "inputHidden": false,
    "outputHidden": false
   },
   "outputs": [
    {
     "name": "stdout",
     "output_type": "stream",
     "text": [
      "transactions\n",
      "(992931, 3)\n",
      "transaction merge...\n",
      "user_logs\n",
      "(992931, 3)\n",
      "(5234111, 2)\n",
      "user logs merge...\n",
      "members\n",
      "members merge...\n"
     ]
    }
   ],
   "source": [
    "train = pd.read_csv('raw_data/train.csv')\n",
    "test = pd.read_csv('raw_data/sample_submission_zero.csv')\n",
    "\n",
    "print(\"transactions\")\n",
    "transactions = pd.read_csv('cleaned_input/transactions.csv', usecols=['msno'])\n",
    "transactions = pd.DataFrame(transactions['msno'].value_counts().reset_index())\n",
    "transactions.columns = ['msno','trans_count']\n",
    "train = pd.merge(train, transactions, how='left', on='msno')\n",
    "print(train.shape)\n",
    "test = pd.merge(test, transactions, how='left', on='msno')\n",
    "transactions = []; print('transaction merge...')\n",
    "\n",
    "print(\"user_logs\")\n",
    "user_logs = pd.read_csv('raw_data/user_logs.csv', usecols=['msno'])\n",
    "user_logs = pd.DataFrame(user_logs['msno'].value_counts().reset_index())\n",
    "#user_logs.to_csv('cleaned_input/user_logs_merged.csv')\n",
    "user_logs_reduced = user_logs\n",
    "user_logs_reduced.columns = ['msno','logs_count']\n",
    "print(train.shape)\n",
    "print(user_logs.shape)\n",
    "train = pd.merge(train, user_logs_reduced, how='left', on='msno')\n",
    "test = pd.merge(test, user_logs_reduced, how='left', on='msno')\n",
    "user_logs_reduced = []\n",
    "\n",
    "print(\"members\")\n",
    "members = pd.read_csv('cleaned_input/members.csv')\n",
    "train = pd.merge(train, members, how='left', on='msno')\n",
    "test = pd.merge(test, members, how='left', on='msno')\n",
    "members = []; print('members merge...') "
   ]
  },
  {
   "cell_type": "code",
   "execution_count": 9,
   "metadata": {
    "collapsed": false
   },
   "outputs": [
    {
     "name": "stdout",
     "output_type": "stream",
     "text": [
      "(992931, 13)\n",
      "(5234111, 2)\n"
     ]
    }
   ],
   "source": [
    "print(train.shape)\n",
    "print(user_logs.shape)"
   ]
  },
  {
   "cell_type": "code",
   "execution_count": 10,
   "metadata": {
    "collapsed": false,
    "inputHidden": false,
    "outputHidden": false
   },
   "outputs": [],
   "source": [
    "transactions = pd.read_csv('raw_data/transactions.csv')\n",
    "transactions = transactions.sort_values(by=['transaction_date'], ascending=[False]).reset_index(drop=True)\n",
    "transactions = transactions.drop_duplicates(subset=['msno'], keep='first')\n",
    "\n",
    "train = pd.merge(train, transactions, how='left', on='msno')\n",
    "test = pd.merge(test, transactions, how='left', on='msno')\n",
    "transactions=[]"
   ]
  },
  {
   "cell_type": "code",
   "execution_count": 11,
   "metadata": {
    "collapsed": false,
    "inputHidden": false,
    "outputHidden": false
   },
   "outputs": [
    {
     "data": {
      "text/html": [
       "<div>\n",
       "<style>\n",
       "    .dataframe thead tr:only-child th {\n",
       "        text-align: right;\n",
       "    }\n",
       "\n",
       "    .dataframe thead th {\n",
       "        text-align: left;\n",
       "    }\n",
       "\n",
       "    .dataframe tbody tr th {\n",
       "        vertical-align: top;\n",
       "    }\n",
       "</style>\n",
       "<table border=\"1\" class=\"dataframe\">\n",
       "  <thead>\n",
       "    <tr style=\"text-align: right;\">\n",
       "      <th></th>\n",
       "      <th>msno</th>\n",
       "      <th>is_churn</th>\n",
       "      <th>trans_count</th>\n",
       "      <th>logs_count</th>\n",
       "      <th>Unnamed: 0</th>\n",
       "      <th>city</th>\n",
       "      <th>bd</th>\n",
       "      <th>gender</th>\n",
       "      <th>registered_via</th>\n",
       "      <th>registration_init_time</th>\n",
       "      <th>...</th>\n",
       "      <th>registration_init_month</th>\n",
       "      <th>registration_init_date</th>\n",
       "      <th>payment_method_id</th>\n",
       "      <th>payment_plan_days</th>\n",
       "      <th>plan_list_price</th>\n",
       "      <th>actual_amount_paid</th>\n",
       "      <th>is_auto_renew</th>\n",
       "      <th>transaction_date</th>\n",
       "      <th>membership_expire_date</th>\n",
       "      <th>is_cancel</th>\n",
       "    </tr>\n",
       "  </thead>\n",
       "  <tbody>\n",
       "    <tr>\n",
       "      <th>0</th>\n",
       "      <td>waLDQMmcOu2jLDaV1ddDkgCrB/jl6sD66Xzs0Vqax1Y=</td>\n",
       "      <td>1</td>\n",
       "      <td>2</td>\n",
       "      <td>26.0</td>\n",
       "      <td>533644.0</td>\n",
       "      <td>18.0</td>\n",
       "      <td>36.0</td>\n",
       "      <td>female</td>\n",
       "      <td>9.0</td>\n",
       "      <td>20050406.0</td>\n",
       "      <td>...</td>\n",
       "      <td>4.0</td>\n",
       "      <td>6.0</td>\n",
       "      <td>38</td>\n",
       "      <td>30</td>\n",
       "      <td>149</td>\n",
       "      <td>149</td>\n",
       "      <td>0</td>\n",
       "      <td>20170107</td>\n",
       "      <td>20170206</td>\n",
       "      <td>0</td>\n",
       "    </tr>\n",
       "    <tr>\n",
       "      <th>1</th>\n",
       "      <td>QA7uiXy8vIbUSPOkCf9RwQ3FsT8jVq2OxDr8zqa7bRQ=</td>\n",
       "      <td>1</td>\n",
       "      <td>23</td>\n",
       "      <td>521.0</td>\n",
       "      <td>4788980.0</td>\n",
       "      <td>10.0</td>\n",
       "      <td>38.0</td>\n",
       "      <td>male</td>\n",
       "      <td>9.0</td>\n",
       "      <td>20050407.0</td>\n",
       "      <td>...</td>\n",
       "      <td>4.0</td>\n",
       "      <td>7.0</td>\n",
       "      <td>39</td>\n",
       "      <td>30</td>\n",
       "      <td>149</td>\n",
       "      <td>149</td>\n",
       "      <td>1</td>\n",
       "      <td>20170224</td>\n",
       "      <td>20170321</td>\n",
       "      <td>1</td>\n",
       "    </tr>\n",
       "    <tr>\n",
       "      <th>2</th>\n",
       "      <td>fGwBva6hikQmTJzrbz/2Ezjm5Cth5jZUNvXigKK2AFA=</td>\n",
       "      <td>1</td>\n",
       "      <td>10</td>\n",
       "      <td>237.0</td>\n",
       "      <td>1724865.0</td>\n",
       "      <td>11.0</td>\n",
       "      <td>27.0</td>\n",
       "      <td>female</td>\n",
       "      <td>9.0</td>\n",
       "      <td>20051016.0</td>\n",
       "      <td>...</td>\n",
       "      <td>10.0</td>\n",
       "      <td>16.0</td>\n",
       "      <td>39</td>\n",
       "      <td>30</td>\n",
       "      <td>149</td>\n",
       "      <td>149</td>\n",
       "      <td>1</td>\n",
       "      <td>20170112</td>\n",
       "      <td>20170203</td>\n",
       "      <td>1</td>\n",
       "    </tr>\n",
       "    <tr>\n",
       "      <th>3</th>\n",
       "      <td>mT5V8rEpa+8wuqi6x0DoVd3H5icMKkE9Prt49UlmK+4=</td>\n",
       "      <td>1</td>\n",
       "      <td>3</td>\n",
       "      <td>735.0</td>\n",
       "      <td>6710524.0</td>\n",
       "      <td>13.0</td>\n",
       "      <td>23.0</td>\n",
       "      <td>female</td>\n",
       "      <td>9.0</td>\n",
       "      <td>20051102.0</td>\n",
       "      <td>...</td>\n",
       "      <td>11.0</td>\n",
       "      <td>2.0</td>\n",
       "      <td>38</td>\n",
       "      <td>410</td>\n",
       "      <td>1788</td>\n",
       "      <td>1788</td>\n",
       "      <td>0</td>\n",
       "      <td>20160106</td>\n",
       "      <td>20170220</td>\n",
       "      <td>0</td>\n",
       "    </tr>\n",
       "    <tr>\n",
       "      <th>4</th>\n",
       "      <td>XaPhtGLk/5UvvOYHcONTwsnH97P4eGECeq+BARGItRw=</td>\n",
       "      <td>1</td>\n",
       "      <td>9</td>\n",
       "      <td>758.0</td>\n",
       "      <td>1688205.0</td>\n",
       "      <td>3.0</td>\n",
       "      <td>27.0</td>\n",
       "      <td>male</td>\n",
       "      <td>9.0</td>\n",
       "      <td>20051228.0</td>\n",
       "      <td>...</td>\n",
       "      <td>12.0</td>\n",
       "      <td>28.0</td>\n",
       "      <td>38</td>\n",
       "      <td>30</td>\n",
       "      <td>149</td>\n",
       "      <td>149</td>\n",
       "      <td>0</td>\n",
       "      <td>20170128</td>\n",
       "      <td>20170227</td>\n",
       "      <td>0</td>\n",
       "    </tr>\n",
       "  </tbody>\n",
       "</table>\n",
       "<p>5 rows × 21 columns</p>\n",
       "</div>"
      ],
      "text/plain": [
       "                                           msno  is_churn  trans_count  \\\n",
       "0  waLDQMmcOu2jLDaV1ddDkgCrB/jl6sD66Xzs0Vqax1Y=         1            2   \n",
       "1  QA7uiXy8vIbUSPOkCf9RwQ3FsT8jVq2OxDr8zqa7bRQ=         1           23   \n",
       "2  fGwBva6hikQmTJzrbz/2Ezjm5Cth5jZUNvXigKK2AFA=         1           10   \n",
       "3  mT5V8rEpa+8wuqi6x0DoVd3H5icMKkE9Prt49UlmK+4=         1            3   \n",
       "4  XaPhtGLk/5UvvOYHcONTwsnH97P4eGECeq+BARGItRw=         1            9   \n",
       "\n",
       "   logs_count  Unnamed: 0  city    bd  gender  registered_via  \\\n",
       "0        26.0    533644.0  18.0  36.0  female             9.0   \n",
       "1       521.0   4788980.0  10.0  38.0    male             9.0   \n",
       "2       237.0   1724865.0  11.0  27.0  female             9.0   \n",
       "3       735.0   6710524.0  13.0  23.0  female             9.0   \n",
       "4       758.0   1688205.0   3.0  27.0    male             9.0   \n",
       "\n",
       "   registration_init_time    ...      registration_init_month  \\\n",
       "0              20050406.0    ...                          4.0   \n",
       "1              20050407.0    ...                          4.0   \n",
       "2              20051016.0    ...                         10.0   \n",
       "3              20051102.0    ...                         11.0   \n",
       "4              20051228.0    ...                         12.0   \n",
       "\n",
       "   registration_init_date  payment_method_id  payment_plan_days  \\\n",
       "0                     6.0                 38                 30   \n",
       "1                     7.0                 39                 30   \n",
       "2                    16.0                 39                 30   \n",
       "3                     2.0                 38                410   \n",
       "4                    28.0                 38                 30   \n",
       "\n",
       "   plan_list_price  actual_amount_paid  is_auto_renew  transaction_date  \\\n",
       "0              149                 149              0          20170107   \n",
       "1              149                 149              1          20170224   \n",
       "2              149                 149              1          20170112   \n",
       "3             1788                1788              0          20160106   \n",
       "4              149                 149              0          20170128   \n",
       "\n",
       "   membership_expire_date  is_cancel  \n",
       "0                20170206          0  \n",
       "1                20170321          1  \n",
       "2                20170203          1  \n",
       "3                20170220          0  \n",
       "4                20170227          0  \n",
       "\n",
       "[5 rows x 21 columns]"
      ]
     },
     "execution_count": 11,
     "metadata": {},
     "output_type": "execute_result"
    }
   ],
   "source": [
    "train.head()"
   ]
  },
  {
   "cell_type": "code",
   "execution_count": 12,
   "metadata": {
    "collapsed": false,
    "inputHidden": false,
    "outputHidden": false
   },
   "outputs": [
    {
     "name": "stdout",
     "output_type": "stream",
     "text": [
      "(10000000, 9)\n",
      "... (1616917, 9)\n",
      "(10000000, 9)\n",
      "... (1533539, 9)\n",
      "(10000000, 9)\n",
      "... (1353720, 9)\n",
      "(2106543, 9)\n",
      "... (429234, 9)\n"
     ]
    }
   ],
   "source": [
    "def transform_df(df):\n",
    "    df = pd.DataFrame(df)\n",
    "    df = df.sort_values(by=['date'], ascending=[False])\n",
    "    df = df.reset_index(drop=True)\n",
    "    df = df.drop_duplicates(subset=['msno'], keep='first')\n",
    "    return df\n",
    "\n",
    "def transform_df2(df):\n",
    "    df = df.sort_values(by=['date'], ascending=[False])\n",
    "    df = df.reset_index(drop=True)\n",
    "    df = df.drop_duplicates(subset=['msno'], keep='first')\n",
    "    return df\n",
    "\n",
    "#make sure you add user_logs_2\n",
    "df_iter = pd.read_csv('raw_data/user_logs.csv', low_memory=False, iterator=True, chunksize=10000000)\n",
    "last_user_logs = []\n",
    "i = 0 #~400 Million Records - starting at the end but remove locally if needed\n",
    "for df in df_iter:\n",
    "    if i>35:\n",
    "        if len(df)>0:\n",
    "            print(df.shape)\n",
    "            p = Pool(cpu_count())\n",
    "            df = p.map(transform_df, np.array_split(df, cpu_count()))   \n",
    "            df = pd.concat(df, axis=0, ignore_index=True).reset_index(drop=True)\n",
    "            df = transform_df2(df)\n",
    "            p.close(); p.join()\n",
    "            last_user_logs.append(df)\n",
    "            print('...', df.shape)\n",
    "            df = []\n",
    "    i+=1\n",
    "\n",
    "last_user_logs = pd.concat(last_user_logs, axis=0, ignore_index=True).reset_index(drop=True)\n",
    "last_user_logs = transform_df2(last_user_logs)\n",
    "\n",
    "train = pd.merge(train, last_user_logs, how='left', on='msno')\n",
    "test = pd.merge(test, last_user_logs, how='left', on='msno')\n",
    "last_user_logs=[]"
   ]
  },
  {
   "cell_type": "code",
   "execution_count": 13,
   "metadata": {
    "collapsed": false
   },
   "outputs": [],
   "source": [
    "#if missing >3 cells, remove row \n",
    "train = train.dropna(thresh=3)\n",
    "test = test.dropna(thresh=3)"
   ]
  },
  {
   "cell_type": "code",
   "execution_count": 14,
   "metadata": {
    "collapsed": true
   },
   "outputs": [],
   "source": [
    "#remove outliers\n",
    "train = train.drop(train[train.bd < 7].index)\n",
    "train = train.drop(train[train.bd > 99].index)\n",
    "test = test.drop(test[test.bd < 7].index)\n",
    "test = test.drop(test[test.bd > 99].index)"
   ]
  },
  {
   "cell_type": "code",
   "execution_count": null,
   "metadata": {
    "collapsed": false
   },
   "outputs": [
    {
     "name": "stdout",
     "output_type": "stream",
     "text": [
      "(504818, 29)\n",
      "(496617, 29)\n"
     ]
    }
   ],
   "source": [
    "print(train.shape)\n",
    "print(test.shape)\n",
    "\n",
    "train.to_csv(\"cleaned_input/train_merged.csv\")\n",
    "test.to_csv(\"cleaned_input/test_merged.csv\")"
   ]
  },
  {
   "cell_type": "code",
   "execution_count": null,
   "metadata": {
    "collapsed": false
   },
   "outputs": [],
   "source": [
    "#shortcut so don't have to load the first part \n",
    "train = pd.read_csv('cleaned_input/train_merged.csv')\n",
    "test = pd.read_csv(\"cleaned_input/test_merged.csv\")\n",
    "user_logs = pd.read_csv('cleaned_input/user_logs_merged.csv')"
   ]
  },
  {
   "cell_type": "code",
   "execution_count": null,
   "metadata": {
    "collapsed": false,
    "inputHidden": false,
    "outputHidden": false
   },
   "outputs": [],
   "source": [
    "data = pd.concat(( train, test ))\n",
    "train_cutoff = len(train)"
   ]
  },
  {
   "cell_type": "code",
   "execution_count": null,
   "metadata": {
    "collapsed": false,
    "inputHidden": false,
    "outputHidden": false
   },
   "outputs": [],
   "source": [
    "#fill in missing data points and encode variables\n",
    "from helpers import *\n",
    "\n",
    "nan_zero = {\"logs_count\":0}\n",
    "nan_dif = {\"city\":-1, \"registered_via\":-1, \"payment_method_id\":-1, \"is_auto_renew\":-1, \"is_cancel\":-1}\n",
    "nan_med = {\"bd\": 'med', \"registration_init_date\": 'med', \"registration_init_year\":'med', \"registration_init_month\":'med', \n",
    "           \"registration_init_date\":'med', \"registration_init_time\":'med', \"date\":'med', \"num_25\": 'med', \"num_50\": 'med', \"num_75\": 'med', \"num_985\": 'med', \n",
    "           \"num_100\": 'med', \"num_unq\": 'med', \"Unnamed: 0\": 'med', \"total_secs\": 'med', \"trans_count\":'med', 'transaction_date':'med',\n",
    "          'membership_expire_date':'med', 'plan_list_price':'med', 'actual_amount_paid':'med', 'payment_plan_days':'med'}\n",
    "nan_cat = {\"gender\":\"missing\"}\n",
    "\n",
    "data = data.drop([\"Unnamed: 0\", \"gender\"], axis = 0)\n",
    "data = to_fill_na(data, nan_zero)\n",
    "data = to_fill_na(data, nan_dif)\n",
    "data = to_fill_na(data, nan_med)\n",
    "data = to_fill_na(data, nan_cat)\n",
    "train.head()\n"
   ]
  },
  {
   "cell_type": "code",
   "execution_count": null,
   "metadata": {
    "collapsed": false,
    "inputHidden": false,
    "outputHidden": false
   },
   "outputs": [],
   "source": [
    "data.isnull().any()"
   ]
  },
  {
   "cell_type": "code",
   "execution_count": null,
   "metadata": {
    "collapsed": false,
    "inputHidden": false,
    "outputHidden": false
   },
   "outputs": [],
   "source": [
    "#feature engineering #DONT FORGET TO REMOVE INFINITE IF DIVIDE BY ZERO\n",
    "\n",
    "data['discount'] = data['plan_list_price'] - data['actual_amount_paid']\n",
    "data['is_discount'] = data.discount.apply(lambda x: 1 if x > 0 else 0)\n",
    "data['amt_per_day'] = data['actual_amount_paid'] / data['payment_plan_days']\n",
    "date_cols = ['transaction_date', 'membership_expire_date']\n",
    "for col in date_cols:\n",
    "    data[col] = pd.to_datetime(data[col], format='%Y%m%d')\n",
    "    \n",
    "#--- difference in days ---\n",
    "data['membership_duration'] = data.membership_expire_date - data.transaction_date\n",
    "data['membership_duration'] = data['membership_duration'] / np.timedelta64(1, 'D')\n",
    "data = to_fill_na(data, {'membership_duration':'med'})\n",
    "data['membership_duration'] = data['membership_duration'].astype(int)\n",
    "\n",
    "#---difference in months ---\n",
    "data['membership_duration_M'] = (data.membership_expire_date - data.transaction_date)/ np.timedelta64(1, 'M')\n",
    "data['membership_duration_M'] = round(data['membership_duration_M']).astype(int)\n",
    "data['membership_duration_M'].head()\n",
    "\n",
    "date_cols = ['registration_init_time']\n",
    "\n",
    "for col in date_cols:\n",
    "    data[col] = pd.to_datetime(data[col], format='%Y%m%d')\n",
    "\n",
    "'''#--- difference in days ---\n",
    "data['registration_duration'] = data.expiration_date - data.registration_init_time\n",
    "data['registration_duration'] = data['registration_duration'] / np.timedelta64(1, 'D')\n",
    "data = to_fill_na(data, {'registration_duration':'med'})\n",
    "data['registration_duration'] = data['registration_duration'].astype(int)'''\n",
    "\n",
    "'''\n",
    "#---difference in months ---\n",
    "data['registration_duration_M'] = (data.expiration_date - data.registration_init_time)/ np.timedelta64(1, 'M')\n",
    "data = to_fill_na(data, {'registration_duration_M':'med'})\n",
    "data['registration_duration_M'] = round(data['registration_duration_M']).astype(int)\n",
    "\n",
    "data['reg_mem_duration'] = data['registration_duration'] - data['membership_duration']\n",
    "to_fill_na(data, {'reg_mem_duration':'med'})\n",
    "data['reg_mem_duration_M'] = data['registration_duration_M'] - data['membership_duration_M']\n",
    "'''\n",
    "data['notAutorenew_&_cancel'] = ((data.is_auto_renew == 0) == (data.is_cancel == 1)).astype(np.int8)\n",
    "data['notAutorenew_&_cancel'].unique()\n",
    "\n",
    "#data['long_time_user'] = (((data['registration_duration'] / 365).astype(int)) > 1).astype(int)\n",
    "\n",
    "#feature ideas to implement\n",
    "#- price paid/ duration \n",
    "data['price_paid/duration'] = data[\"actual_amount_paid\"]/ data[\"membership_duration\"]\n",
    "#- list price/ duration \n",
    "data['list_price/duration'] = data['plan_list_price']/ data[\"membership_duration\"]\n",
    "#- number of unique songs/ price paid\n",
    "data[\"unique_songs/price_paid\"] = data['num_unq']/ data['actual_amount_paid']\n",
    "#- number of unique songs/ list price\n",
    "data[\"unique_songs/list_price\"] = data['num_unq']/ data['plan_list_price']\n",
    "#-num25, num50 etc.../ price paid & list price\n",
    "data[\"num_25/price_paid\"] = data['num_25']/data['actual_amount_paid']\n",
    "data[\"num_50/price_paid\"] = data['num_50']/data['actual_amount_paid']\n",
    "data[\"num_75/price_paid\"] = data['num_75']/data['actual_amount_paid']\n",
    "data[\"num_985/price_paid\"] = data['num_985']/data['actual_amount_paid']\n",
    "data[\"num_100/price_paid\"] = data['num_100']/data['actual_amount_paid']\n",
    "data[\"num_25/list_price\"] = data['num_25']/data['plan_list_price']\n",
    "data[\"num_50/list_price\"] = data['num_50']/data['plan_list_price']\n",
    "data[\"num_75/list_price\"] = data['num_75']/data['plan_list_price']\n",
    "data[\"num_985/list_price\"] = data['num_985']/data['plan_list_price']\n",
    "data[\"num_100/list_price\"] = data['num_100']/data['plan_list_price']\n",
    "# discount percentage (list price - price paid)/ list price \n",
    "data[\"discount_percentage\"] = data['discount']/data['plan_list_price']\n",
    "# days to expiration (expiration date - date)\n",
    "#data['days_to_expiration'] = data['payment_plan_days'] - data['registration_duration']\n",
    "# see if a single user has a pattern of canceling, resubscribing etc...?\n",
    "# could make some really interesting features like how many times did subscribe:?\n",
    "# times canceled ?\n",
    "# Total subscription time  ?\n",
    "# time in between subscriptions? \n",
    "# time in between subscriptions/total subscription time?\n",
    "\n",
    "# try somes features related to age: \n",
    "# price paid/ age \n",
    "data['price_paid/age'] = data['actual_amount_paid']/ data['bd']\n",
    "# unique songs/ age\n",
    "data['unique_song/age'] = data[\"num_unq\"] / data['bd']\n",
    "# discount percentage/ age\n",
    "data['discount_percentage/age'] = data['discount_percentage']/ data['bd']\n",
    "# days to expiration / age \n",
    "#data['days_to_expiration/age'] = data['days_to_expiration'] / data['bd']\n",
    "# age/ date figures \n",
    "\n",
    "\n"
   ]
  },
  {
   "cell_type": "code",
   "execution_count": null,
   "metadata": {
    "collapsed": false
   },
   "outputs": [],
   "source": [
    "user_logs.head()\n"
   ]
  },
  {
   "cell_type": "code",
   "execution_count": null,
   "metadata": {
    "collapsed": false
   },
   "outputs": [],
   "source": [
    "#---------user_log stats -----------#\n",
    "#generate the features in a new DF from user_logs and then do a left join with data \n",
    "#how many days\n",
    "    #get unique days\n",
    "    #df['word'].value_counts()\n",
    "rows = data['MSNO'].uniqe()\n",
    "how_many_days = pd.\n",
    "for row in rows:\n",
    "    count = data[row].value_counts() \n",
    "    how_many_days[\"MSNO\", \"days_frequency\"] = [row, count]\n",
    "#how many times canceled\n",
    "#total subscribed days for last subscription \n",
    "#percentage of days streams\n",
    "#check if exists already: total of songs played, total plays\n",
    "#total unique songs/days\n",
    "#total plays/ days\n",
    "#num_25/last day...\n",
    "#relation to time and frequency of plays \n",
    "# time in between subscriptions? \n",
    "# time in between subscriptions/total subscription time?\n",
    "#how many times subscribed "
   ]
  },
  {
   "cell_type": "code",
   "execution_count": null,
   "metadata": {
    "collapsed": false,
    "inputHidden": false,
    "outputHidden": false
   },
   "outputs": [],
   "source": [
    "from helpers import *\n",
    "\n",
    "user_logs = [] \n",
    "\n",
    "#change to dummy variable \n",
    "categorical_to_encode = ['gender']\n",
    "data = label_encoder(data, categorical_to_encode)\n",
    "\n",
    "categorical_to_binarizer = [\"city\", \"gender\", \"registered_via\", \"payment_method_id\", \"is_auto_renew\", \"is_cancel\"]\n",
    "data = label_binarizer(data,categorical_to_binarizer)\n",
    "\n",
    "variables_to_drop = [\"registration_init_time\", \"transaction_date\", \"membership_expire_date\"] \n",
    "data = data.drop(categorical_to_encode, axis=1)\n",
    "data = data.drop(variables_to_drop, axis=1)"
   ]
  },
  {
   "cell_type": "code",
   "execution_count": null,
   "metadata": {
    "collapsed": false,
    "inputHidden": false,
    "outputHidden": false
   },
   "outputs": [],
   "source": [
    "data.dtypes"
   ]
  },
  {
   "cell_type": "code",
   "execution_count": null,
   "metadata": {
    "collapsed": false,
    "inputHidden": false,
    "outputHidden": false
   },
   "outputs": [],
   "source": []
  },
  {
   "cell_type": "code",
   "execution_count": null,
   "metadata": {
    "collapsed": false,
    "inputHidden": false,
    "outputHidden": false
   },
   "outputs": [],
   "source": [
    "train = data[:train_cutoff]\n",
    "test = data[train_cutoff:]\n",
    "print(train.shape)\n",
    "print(test.shape)\n",
    "\n",
    "train.to_csv(\"cleaned_input/train_consolidated.csv\")\n",
    "test.to_csv(\"cleaned_input/test_consolidated.csv\")"
   ]
  },
  {
   "cell_type": "code",
   "execution_count": null,
   "metadata": {
    "collapsed": false,
    "inputHidden": false,
    "outputHidden": false
   },
   "outputs": [],
   "source": []
  },
  {
   "cell_type": "code",
   "execution_count": null,
   "metadata": {
    "collapsed": true
   },
   "outputs": [],
   "source": []
  }
 ],
 "metadata": {
  "kernel_info": {
   "name": "python3"
  },
  "kernelspec": {
   "display_name": "Python 3",
   "language": "python",
   "name": "python3"
  },
  "language_info": {
   "codemirror_mode": {
    "name": "ipython",
    "version": 3
   },
   "file_extension": ".py",
   "mimetype": "text/x-python",
   "name": "python",
   "nbconvert_exporter": "python",
   "pygments_lexer": "ipython3",
   "version": "3.6.0"
  },
  "nteract": {
   "version": "0.3.4"
  }
 },
 "nbformat": 4,
 "nbformat_minor": 4
}
