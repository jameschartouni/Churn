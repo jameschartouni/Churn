{
 "cells": [
  {
   "cell_type": "code",
   "execution_count": 2,
   "metadata": {
    "collapsed": true
   },
   "outputs": [],
   "source": [
    "#James Chartouni\n",
    "from multiprocessing import Pool, cpu_count\n",
    "import gc; gc.enable()\n",
    "import pandas as pd\n",
    "import numpy as np"
   ]
  },
  {
   "cell_type": "code",
   "execution_count": 3,
   "metadata": {
    "collapsed": true
   },
   "outputs": [],
   "source": [
    "train = pd.read_csv('cleaned_input/train_merged.csv')\n",
    "test = pd.read_csv(\"cleaned_input/test_merged.csv\")\n",
    "data = pd.concat(( train, test ))\n",
    "train = []\n",
    "test = []"
   ]
  },
  {
   "cell_type": "code",
   "execution_count": 4,
   "metadata": {
    "collapsed": false
   },
   "outputs": [
    {
     "name": "stdout",
     "output_type": "stream",
     "text": [
      "msno\n",
      "end msno\n"
     ]
    }
   ],
   "source": [
    "print(\"msno\")\n",
    "msno_values = data.msno.unique()\n",
    "print(\"end msno\")\n",
    "del(data)"
   ]
  },
  {
   "cell_type": "code",
   "execution_count": 5,
   "metadata": {
    "collapsed": true
   },
   "outputs": [],
   "source": [
    "counts = pd.read_csv(\"cleaned_input/counts.csv\")"
   ]
  },
  {
   "cell_type": "code",
   "execution_count": 8,
   "metadata": {
    "collapsed": false
   },
   "outputs": [
    {
     "data": {
      "text/html": [
       "<div>\n",
       "<style scoped>\n",
       "    .dataframe tbody tr th:only-of-type {\n",
       "        vertical-align: middle;\n",
       "    }\n",
       "\n",
       "    .dataframe tbody tr th {\n",
       "        vertical-align: top;\n",
       "    }\n",
       "\n",
       "    .dataframe thead th {\n",
       "        text-align: right;\n",
       "    }\n",
       "</style>\n",
       "<table border=\"1\" class=\"dataframe\">\n",
       "  <thead>\n",
       "    <tr style=\"text-align: right;\">\n",
       "      <th></th>\n",
       "      <th>msno</th>\n",
       "      <th>gap_days</th>\n",
       "      <th>average_gap_days</th>\n",
       "      <th>longest_gap</th>\n",
       "      <th>gaps_longer_29</th>\n",
       "    </tr>\n",
       "  </thead>\n",
       "  <tbody>\n",
       "  </tbody>\n",
       "</table>\n",
       "</div>"
      ],
      "text/plain": [
       "Empty DataFrame\n",
       "Columns: [msno, gap_days, average_gap_days, longest_gap, gaps_longer_29]\n",
       "Index: []"
      ]
     },
     "execution_count": 8,
     "metadata": {},
     "output_type": "execute_result"
    }
   ],
   "source": [
    "#get number of unique visits\n",
    "user_features = pd.DataFrame() \n",
    "\n",
    "user_features['msno'] = np.nan #counts.index\n",
    "#user_features[\"frequency\"] = np.nan #counts.values\n",
    "user_features[\"gap_days\"] = np.nan\n",
    "user_features[\"average_gap_days\"] = np.nan\n",
    "user_features[\"longest_gap\"] = np.nan\n",
    "user_features[\"gaps_longer_29\"] = np.nan\n",
    "user_features.head()"
   ]
  },
  {
   "cell_type": "code",
   "execution_count": 10,
   "metadata": {
    "collapsed": false
   },
   "outputs": [
    {
     "data": {
      "text/html": [
       "<div>\n",
       "<style scoped>\n",
       "    .dataframe tbody tr th:only-of-type {\n",
       "        vertical-align: middle;\n",
       "    }\n",
       "\n",
       "    .dataframe tbody tr th {\n",
       "        vertical-align: top;\n",
       "    }\n",
       "\n",
       "    .dataframe thead th {\n",
       "        text-align: right;\n",
       "    }\n",
       "</style>\n",
       "<table border=\"1\" class=\"dataframe\">\n",
       "  <thead>\n",
       "    <tr style=\"text-align: right;\">\n",
       "      <th></th>\n",
       "      <th>msno</th>\n",
       "      <th>gap_days</th>\n",
       "      <th>average_gap_days</th>\n",
       "      <th>longest_gap</th>\n",
       "      <th>gaps_longer_29</th>\n",
       "    </tr>\n",
       "  </thead>\n",
       "  <tbody>\n",
       "  </tbody>\n",
       "</table>\n",
       "</div>"
      ],
      "text/plain": [
       "Empty DataFrame\n",
       "Columns: [msno, gap_days, average_gap_days, longest_gap, gaps_longer_29]\n",
       "Index: []"
      ]
     },
     "execution_count": 10,
     "metadata": {},
     "output_type": "execute_result"
    }
   ],
   "source": [
    "#read in user_logs\n",
    "import time\n",
    "chunksize = 25000\n",
    "i = 0 \n",
    "for chunk in pd.read_csv('raw_data/user_logs.csv', engine='c', chunksize=chunksize, usecols=[0, 1, 7, 8], dtype={\"msno\":str, \"date\": int, \"num_unq\":int, \"total_secs\":float}):\n",
    "    if i > 10000:\n",
    "        start_time = time.time()\n",
    "        chunk = chunk[chunk['msno'].isin(msno_values)]\n",
    "        rows = chunk.msno.unique()\n",
    "        chunk['date'] = pd.to_datetime(chunk['date'], format='%Y%m%d')\n",
    "        #print(\"processing \",i,\"took %s seconds\" % (time.time() - start_time))\n",
    "        #print(len(rows))\n",
    "        for row in rows:\n",
    "            row_time = time.time()\n",
    "            df = chunk[chunk[\"msno\"] == row]\n",
    "            #print(\"row \",i,\"took %s seconds\" % (time.time() - row_time))\n",
    "            differences = df.date.diff()\n",
    "            #print(\"row \",i,\"took %s seconds\" % (time.time() - row_time))\n",
    "            gap_days = differences.sum()\n",
    "            #print(\"row \",i,\"took %s seconds\" % (time.time() - row_time))\n",
    "            average_gap_days = differences.mean()\n",
    "            #print(\"row \",i,\"took %s seconds\" % (time.time() - row_time))\n",
    "            if len(differences.nlargest(1)) > 0:\n",
    "                longest_gap = differences.nlargest(1).iloc[0].total_seconds()\n",
    "            else:\n",
    "                longest_gap = -1\n",
    "            #print(\"row \",i,\"took %s seconds\" % (time.time() - row_time))\n",
    "            gaps_longer_29 = 0\n",
    "            for val in differences:\n",
    "                if val > pd.Timedelta('29 days'):\n",
    "                    gaps_longer_29 += 1\n",
    "            #print(\"row \",i,\"took %s seconds\" % (time.time() - row_time))\n",
    "            user_features.loc[len(user_features)] = [row, gap_days, average_gap_days.total_seconds(), longest_gap, gaps_longer_29]\n",
    "            #print(\"row \",i,\"took %s seconds\" % (time.time() - row_time))\n",
    "        #del(chunk)\n",
    "        print(\"Round \",i,\"took %s seconds\" % (time.time() - start_time))\n",
    "        if i % 100 == 0:\n",
    "            user_features.to_csv(str(i) + \"_user_logs_features_4.csv\")\n",
    "        i += 1 \n",
    "user_features.head()"
   ]
  },
  {
   "cell_type": "code",
   "execution_count": null,
   "metadata": {
    "collapsed": true
   },
   "outputs": [],
   "source": []
  },
  {
   "cell_type": "code",
   "execution_count": null,
   "metadata": {
    "collapsed": true
   },
   "outputs": [],
   "source": []
  },
  {
   "cell_type": "code",
   "execution_count": null,
   "metadata": {
    "collapsed": true
   },
   "outputs": [],
   "source": []
  },
  {
   "cell_type": "code",
   "execution_count": null,
   "metadata": {
    "collapsed": true
   },
   "outputs": [],
   "source": []
  },
  {
   "cell_type": "code",
   "execution_count": null,
   "metadata": {
    "collapsed": true
   },
   "outputs": [],
   "source": []
  }
 ],
 "metadata": {
  "kernelspec": {
   "display_name": "Python 3",
   "language": "python",
   "name": "python3"
  },
  "language_info": {
   "codemirror_mode": {
    "name": "ipython",
    "version": 3
   },
   "file_extension": ".py",
   "mimetype": "text/x-python",
   "name": "python",
   "nbconvert_exporter": "python",
   "pygments_lexer": "ipython3",
   "version": "3.6.0"
  }
 },
 "nbformat": 4,
 "nbformat_minor": 2
}
