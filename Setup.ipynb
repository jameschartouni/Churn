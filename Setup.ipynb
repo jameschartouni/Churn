{
  "cells": [
    {
      "cell_type": "code",
      "source": [
        "#James Chartouni\n",
        "#memory reduction code taken from https://www.kaggle.com/shuojin/memory-reduction \n",
        "import numpy as np # linear algebra\n",
        "import pandas as pd # data processing, CSV file I/O (e.g. pd.read_csv)\n",
        "import seaborn as sns\n",
        "import matplotlib as plt\n"
      ],
      "outputs": [],
      "execution_count": 12,
      "metadata": {
        "collapsed": false,
        "outputHidden": false,
        "inputHidden": false
      }
    },
    {
      "cell_type": "code",
      "source": [
        "df_train = pd.read_csv('raw_data/train.csv')\n",
        "df_members = pd.read_csv('raw_data/members.csv')\n",
        "df_transactions = pd.read_csv('raw_data/transactions.csv')\n",
        "#df_sample = pd.read_csv('../input/sample_submission_zero.csv')\n",
        "#df_user_logs_1 = pd.read_csv('../input/user_logs.csv'), chunksize = 500)\n",
        "#df = pd.concat(df_user_logs_1, ignore_index=True)\n",
        "\n# Any results you write to the current directory are saved as output."
      ],
      "outputs": [
        {
          "output_type": "error",
          "ename": "NameError",
          "evalue": "name 'pd' is not defined",
          "traceback": [
            "\u001b[0;31m---------------------------------------------------------------------------\u001b[0m",
            "\u001b[0;31mNameError\u001b[0m                                 Traceback (most recent call last)",
            "\u001b[0;32m<ipython-input-1-8ed7f5443950>\u001b[0m in \u001b[0;36m<module>\u001b[0;34m()\u001b[0m\n\u001b[0;32m----> 1\u001b[0;31m \u001b[0mdf_train\u001b[0m \u001b[0;34m=\u001b[0m \u001b[0mpd\u001b[0m\u001b[0;34m.\u001b[0m\u001b[0mread_csv\u001b[0m\u001b[0;34m(\u001b[0m\u001b[0;34m'raw_data/train.csv'\u001b[0m\u001b[0;34m)\u001b[0m\u001b[0;34m\u001b[0m\u001b[0m\n\u001b[0m\u001b[1;32m      2\u001b[0m \u001b[0mdf_members\u001b[0m \u001b[0;34m=\u001b[0m \u001b[0mpd\u001b[0m\u001b[0;34m.\u001b[0m\u001b[0mread_csv\u001b[0m\u001b[0;34m(\u001b[0m\u001b[0;34m'raw_data/members.csv'\u001b[0m\u001b[0;34m)\u001b[0m\u001b[0;34m\u001b[0m\u001b[0m\n\u001b[1;32m      3\u001b[0m \u001b[0mdf_transactions\u001b[0m \u001b[0;34m=\u001b[0m \u001b[0mpd\u001b[0m\u001b[0;34m.\u001b[0m\u001b[0mread_csv\u001b[0m\u001b[0;34m(\u001b[0m\u001b[0;34m'raw_data/transactions.csv'\u001b[0m\u001b[0;34m)\u001b[0m\u001b[0;34m\u001b[0m\u001b[0m\n\u001b[1;32m      4\u001b[0m \u001b[0;31m#df_sample = pd.read_csv('../input/sample_submission_zero.csv')\u001b[0m\u001b[0;34m\u001b[0m\u001b[0;34m\u001b[0m\u001b[0m\n\u001b[1;32m      5\u001b[0m \u001b[0;31m#df_user_logs_1 = pd.read_csv('../input/user_logs.csv'), chunksize = 500)\u001b[0m\u001b[0;34m\u001b[0m\u001b[0;34m\u001b[0m\u001b[0m\n",
            "\u001b[0;31mNameError\u001b[0m: name 'pd' is not defined"
          ]
        }
      ],
      "execution_count": 1,
      "metadata": {
        "collapsed": false,
        "outputHidden": false,
        "inputHidden": false
      }
    },
    {
      "cell_type": "code",
      "source": [
        "#--- Displays members column memory consumed  ---\n",
        "print(df_members.memory_usage().sum()/1023**2,\"MB\")"
      ],
      "outputs": [
        {
          "output_type": "stream",
          "name": "stdout",
          "text": [
            "273.7687574830702 MB\n"
          ]
        }
      ],
      "execution_count": 14,
      "metadata": {
        "collapsed": false,
        "outputHidden": false,
        "inputHidden": false
      }
    },
    {
      "cell_type": "code",
      "source": [
        "#fix date times\n",
        "df_members['registration_init_year'] = df_members['registration_init_time'].apply(lambda x: int(str(x)[:4]))\n",
        "df_members['registration_init_month'] = df_members['registration_init_time'].apply(lambda x: int(str(x)[4:6]))\n",
        "df_members['registration_init_date'] = df_members['registration_init_time'].apply(lambda x: int(str(x)[-2:]))\n",
        "df_members['expiration_date_year'] = df_members['expiration_date'].apply(lambda x: int(str(x)[:4]))\n",
        "df_members['expiration_date_month'] = df_members['expiration_date'].apply(lambda x: int(str(x)[4:6]))\n",
        "df_members['expiration_date_date'] = df_members['expiration_date'].apply(lambda x: int(str(x)[-2:]))\n",
        "\n",
        "#--- Now drop no needed date columns ---#\n",
        "df_members = df_members.drop('registration_init_time', 1)\n",
        "df_members = df_members.drop('expiration_date', 1)"
      ],
      "outputs": [],
      "execution_count": 15,
      "metadata": {
        "collapsed": false,
        "outputHidden": false,
        "inputHidden": false
      }
    },
    {
      "cell_type": "code",
      "source": [
        "#reduce integer size to reduce memory \n",
        "df_members['city'] = df_members['city'].astype(np.int8)\n",
        "df_members['bd'] = df_members['bd'].astype(np.int16)\n",
        "df_members['registered_via'] = df_members['registered_via'].astype(np.int8)\n",
        "df_members['registration_init_year'] = df_members['registration_init_year'].astype(np.int16)\n",
        "df_members['registration_init_month'] = df_members['registration_init_month'].astype(np.int8)\n",
        "df_members['registration_init_date'] = df_members['registration_init_date'].astype(np.int8)\n",
        "df_members['expiration_date_year'] = df_members['expiration_date_year'].astype(np.int16)\n",
        "df_members['expiration_date_month'] = df_members['expiration_date_month'].astype(np.int8)\n",
        "df_members['expiration_date_date'] = df_members['expiration_date_date'].astype(np.int8)"
      ],
      "outputs": [],
      "execution_count": 16,
      "metadata": {
        "collapsed": false,
        "outputHidden": false,
        "inputHidden": false
      }
    },
    {
      "cell_type": "code",
      "source": [
        "#--- df_members memory consumption after change them to appropriate datatype ---#\n",
        "print(df_members.memory_usage().sum()/1023**2,\"MB\")"
      ],
      "outputs": [
        {
          "output_type": "stream",
          "name": "stdout",
          "text": [
            "136.88441696312285 MB\n"
          ]
        }
      ],
      "execution_count": 17,
      "metadata": {
        "collapsed": false,
        "outputHidden": false,
        "inputHidden": false
      }
    },
    {
      "cell_type": "code",
      "source": [
        "#reduce train memory \n",
        "df_train['is_churn'] = df_train['is_churn'].astype(np.int8)\n",
        "print(df_train.memory_usage(index=True).sum()/ 1024**2,\" MB\")"
      ],
      "outputs": [
        {
          "output_type": "stream",
          "name": "stdout",
          "text": [
            "8.52247142791748  MB\n"
          ]
        }
      ],
      "execution_count": 18,
      "metadata": {
        "collapsed": false,
        "outputHidden": false,
        "inputHidden": false
      }
    },
    {
      "cell_type": "code",
      "source": [
        "df_transactions['payment_method_id'] = df_transactions['payment_method_id'].astype(np.int8)\n",
        "df_transactions['payment_plan_days'] = df_transactions['payment_plan_days'].astype(np.int16)\n",
        "df_transactions['plan_list_price'] = df_transactions['plan_list_price'].astype(np.int16)\n",
        "df_transactions['actual_amount_paid'] = df_transactions['actual_amount_paid'].astype(np.int16)\n",
        "df_transactions['is_auto_renew'] = df_transactions['is_auto_renew'].astype(np.int8)\n",
        "df_transactions['is_cancel'] = df_transactions['is_cancel'].astype(np.int8)\n",
        "\n",
        "df_transactions['transaction_date_year'] = df_transactions['transaction_date'].apply(lambda x: int(str(x)[:4]))\n",
        "df_transactions['transaction_date_month'] = df_transactions['transaction_date'].apply(lambda x: int(str(x)[4:6]))\n",
        "df_transactions['transaction_date_date'] = df_transactions['transaction_date'].apply(lambda x: int(str(x)[-2:]))\n",
        "\n",
        "df_transactions['membership_expire_date_year'] = df_transactions['membership_expire_date'].apply(lambda x: int(str(x)[:4]))\n",
        "df_transactions['membership_expire_date_month'] = df_transactions['membership_expire_date'].apply(lambda x: int(str(x)[4:6]))\n",
        "df_transactions['membership_expire_date_date'] = df_transactions['membership_expire_date'].apply(lambda x: int(str(x)[-2:]))"
      ],
      "outputs": [],
      "execution_count": 20,
      "metadata": {
        "collapsed": false,
        "outputHidden": false,
        "inputHidden": false
      }
    },
    {
      "cell_type": "code",
      "source": [
        "df_transactions['transaction_date_year'] = df_transactions['transaction_date_year'].astype(np.int16)\n",
        "df_transactions['transaction_date_month'] = df_transactions['transaction_date_month'].astype(np.int8)\n",
        "df_transactions['transaction_date_date'] = df_transactions['transaction_date_date'].astype(np.int8)\n",
        "\n",
        "df_transactions['membership_expire_date_year'] = df_transactions['membership_expire_date_year'].astype(np.int16)\n",
        "df_transactions['membership_expire_date_month'] = df_transactions['membership_expire_date_month'].astype(np.int8)\n",
        "df_transactions['membership_expire_date_date'] = df_transactions['membership_expire_date_date'].astype(np.int8)\n",
        "\n",
        "#--- Now drop no needed columns ---\n",
        "#df_transactions = df_transactions.drop('transaction_date', 1)\n",
        "#df_transactions = df_transactions.drop('membership_expire_date', 1)"
      ],
      "outputs": [],
      "execution_count": 21,
      "metadata": {
        "collapsed": false,
        "outputHidden": false,
        "inputHidden": false
      }
    },
    {
      "cell_type": "code",
      "source": [
        "df_train.to_csv(\"cleaned_input/train.csv\")\n",
        "df_members.to_csv(\"cleaned_input/members.csv\")\n",
        "df_transactions.to_csv(\"cleaned_input/transactions.csv\")"
      ],
      "outputs": [],
      "execution_count": 23,
      "metadata": {
        "collapsed": false,
        "outputHidden": false,
        "inputHidden": false
      }
    },
    {
      "cell_type": "code",
      "source": [],
      "outputs": [],
      "execution_count": null,
      "metadata": {
        "collapsed": false,
        "outputHidden": false,
        "inputHidden": false
      }
    },
    {
      "cell_type": "code",
      "source": [],
      "outputs": [],
      "execution_count": null,
      "metadata": {
        "collapsed": false,
        "outputHidden": false,
        "inputHidden": false
      }
    },
    {
      "cell_type": "code",
      "source": [],
      "outputs": [],
      "execution_count": null,
      "metadata": {
        "collapsed": false,
        "outputHidden": false,
        "inputHidden": false
      }
    },
    {
      "cell_type": "code",
      "source": [],
      "outputs": [],
      "execution_count": null,
      "metadata": {
        "collapsed": false,
        "outputHidden": false,
        "inputHidden": false
      }
    }
  ],
  "metadata": {
    "kernelspec": {
      "name": "python3",
      "language": "python",
      "display_name": "Python 3"
    },
    "kernel_info": {
      "name": "python3"
    },
    "language_info": {
      "name": "python",
      "version": "3.6.0",
      "mimetype": "text/x-python",
      "codemirror_mode": {
        "name": "ipython",
        "version": 3
      },
      "pygments_lexer": "ipython3",
      "nbconvert_exporter": "python",
      "file_extension": ".py"
    },
    "nteract": {
      "version": "0.3.4"
    }
  },
  "nbformat": 4,
  "nbformat_minor": 4
}