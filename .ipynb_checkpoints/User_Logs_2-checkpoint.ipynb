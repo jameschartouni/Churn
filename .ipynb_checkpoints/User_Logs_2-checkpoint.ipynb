{
 "cells": [
  {
   "cell_type": "code",
   "execution_count": 1,
   "metadata": {
    "collapsed": true
   },
   "outputs": [],
   "source": [
    "#James Chartouni\n",
    "from multiprocessing import Pool, cpu_count\n",
    "import gc; gc.enable()\n",
    "import pandas as pd\n",
    "import numpy as np"
   ]
  },
  {
   "cell_type": "code",
   "execution_count": 2,
   "metadata": {
    "collapsed": true
   },
   "outputs": [],
   "source": [
    "train = pd.read_csv('cleaned_input/train_merged.csv')\n",
    "test = pd.read_csv(\"cleaned_input/test_merged.csv\")\n",
    "data = pd.concat(( train, test ))\n",
    "train = []\n",
    "test = []"
   ]
  },
  {
   "cell_type": "code",
   "execution_count": 3,
   "metadata": {
    "collapsed": false
   },
   "outputs": [
    {
     "name": "stdout",
     "output_type": "stream",
     "text": [
      "msno\n",
      "end msno\n"
     ]
    }
   ],
   "source": [
    "print(\"msno\")\n",
    "msno_values = data.msno.unique()\n",
    "print(\"end msno\")\n",
    "del(data)"
   ]
  },
  {
   "cell_type": "code",
   "execution_count": 10,
   "metadata": {
    "collapsed": false
   },
   "outputs": [],
   "source": [
    "user_logs = pd.read_csv('raw_data/user_logs.csv', usecols=[0], dtype={\"msno\":str}, engine='c', header=0)\n",
    "user_logs_2 = pd.read_csv('raw_data/user_logs_v2.csv', usecols=[0], dtype={\"msno\":str}, engine='c', header=0)\n",
    "#user_logs = pd.concat((user_logs, user_logs_2))"
   ]
  },
  {
   "cell_type": "code",
   "execution_count": 11,
   "metadata": {
    "collapsed": false
   },
   "outputs": [
    {
     "data": {
      "text/html": [
       "<div>\n",
       "<style scoped>\n",
       "    .dataframe tbody tr th:only-of-type {\n",
       "        vertical-align: middle;\n",
       "    }\n",
       "\n",
       "    .dataframe tbody tr th {\n",
       "        vertical-align: top;\n",
       "    }\n",
       "\n",
       "    .dataframe thead th {\n",
       "        text-align: right;\n",
       "    }\n",
       "</style>\n",
       "<table border=\"1\" class=\"dataframe\">\n",
       "  <thead>\n",
       "    <tr style=\"text-align: right;\">\n",
       "      <th></th>\n",
       "      <th>msno</th>\n",
       "    </tr>\n",
       "  </thead>\n",
       "  <tbody>\n",
       "    <tr>\n",
       "      <th>0</th>\n",
       "      <td>rxIP2f2aN0rYNp+toI0Obt/N/FYQX8hcO1fTmmy2h34=</td>\n",
       "    </tr>\n",
       "    <tr>\n",
       "      <th>1</th>\n",
       "      <td>rxIP2f2aN0rYNp+toI0Obt/N/FYQX8hcO1fTmmy2h34=</td>\n",
       "    </tr>\n",
       "    <tr>\n",
       "      <th>2</th>\n",
       "      <td>yxiEWwE9VR5utpUecLxVdQ5B7NysUPfrNtGINaM2zA8=</td>\n",
       "    </tr>\n",
       "    <tr>\n",
       "      <th>3</th>\n",
       "      <td>yxiEWwE9VR5utpUecLxVdQ5B7NysUPfrNtGINaM2zA8=</td>\n",
       "    </tr>\n",
       "    <tr>\n",
       "      <th>4</th>\n",
       "      <td>yxiEWwE9VR5utpUecLxVdQ5B7NysUPfrNtGINaM2zA8=</td>\n",
       "    </tr>\n",
       "  </tbody>\n",
       "</table>\n",
       "</div>"
      ],
      "text/plain": [
       "                                           msno\n",
       "0  rxIP2f2aN0rYNp+toI0Obt/N/FYQX8hcO1fTmmy2h34=\n",
       "1  rxIP2f2aN0rYNp+toI0Obt/N/FYQX8hcO1fTmmy2h34=\n",
       "2  yxiEWwE9VR5utpUecLxVdQ5B7NysUPfrNtGINaM2zA8=\n",
       "3  yxiEWwE9VR5utpUecLxVdQ5B7NysUPfrNtGINaM2zA8=\n",
       "4  yxiEWwE9VR5utpUecLxVdQ5B7NysUPfrNtGINaM2zA8="
      ]
     },
     "execution_count": 11,
     "metadata": {},
     "output_type": "execute_result"
    }
   ],
   "source": [
    "user_logs.head()"
   ]
  },
  {
   "cell_type": "code",
   "execution_count": null,
   "metadata": {
    "collapsed": false
   },
   "outputs": [],
   "source": [
    "counts = user_logs[\"msno\"].value_counts()\n",
    "counts.to_csv(\"cleaned_input/counts.csv\")\n",
    "\n",
    "del(user_logs)\n",
    "del(user_logs_2)"
   ]
  },
  {
   "cell_type": "code",
   "execution_count": 51,
   "metadata": {
    "collapsed": false
   },
   "outputs": [
    {
     "data": {
      "text/html": [
       "<div>\n",
       "<style scoped>\n",
       "    .dataframe tbody tr th:only-of-type {\n",
       "        vertical-align: middle;\n",
       "    }\n",
       "\n",
       "    .dataframe tbody tr th {\n",
       "        vertical-align: top;\n",
       "    }\n",
       "\n",
       "    .dataframe thead th {\n",
       "        text-align: right;\n",
       "    }\n",
       "</style>\n",
       "<table border=\"1\" class=\"dataframe\">\n",
       "  <thead>\n",
       "    <tr style=\"text-align: right;\">\n",
       "      <th></th>\n",
       "      <th>msno</th>\n",
       "      <th>frequency</th>\n",
       "      <th>gap_days</th>\n",
       "      <th>average_gap_days</th>\n",
       "      <th>longest_gap</th>\n",
       "      <th>gaps_longer_29</th>\n",
       "    </tr>\n",
       "  </thead>\n",
       "  <tbody>\n",
       "  </tbody>\n",
       "</table>\n",
       "</div>"
      ],
      "text/plain": [
       "Empty DataFrame\n",
       "Columns: [msno, frequency, gap_days, average_gap_days, longest_gap, gaps_longer_29]\n",
       "Index: []"
      ]
     },
     "execution_count": 51,
     "metadata": {},
     "output_type": "execute_result"
    }
   ],
   "source": [
    "#get number of unique visits\n",
    "user_features = pd.DataFrame() \n",
    "\n",
    "user_features['msno'] = np.nan #counts.index\n",
    "user_features[\"frequency\"] = np.nan #counts.values\n",
    "user_features[\"gap_days\"] = np.nan\n",
    "user_features[\"average_gap_days\"] = np.nan\n",
    "user_features[\"longest_gap\"] = np.nan\n",
    "user_features[\"gaps_longer_29\"] = np.nan\n",
    "user_features.head()"
   ]
  },
  {
   "cell_type": "code",
   "execution_count": null,
   "metadata": {
    "collapsed": true
   },
   "outputs": [],
   "source": []
  },
  {
   "cell_type": "code",
   "execution_count": null,
   "metadata": {
    "collapsed": false
   },
   "outputs": [
    {
     "name": "stdout",
     "output_type": "stream",
     "text": [
      "0\n",
      "264904\n"
     ]
    },
    {
     "name": "stderr",
     "output_type": "stream",
     "text": [
      "/Users/James/anaconda/lib/python3.6/site-packages/pandas/core/frame.py:5163: FutureWarning: \n",
      "Passing list-likes to .loc or [] with any missing label will raise\n",
      "KeyError in the future, you can use .reindex() as an alternative.\n",
      "\n",
      "See the documentation here:\n",
      "http://pandas.pydata.org/pandas-docs/stable/indexing.html#deprecate-loc-reindex-listlike\n",
      "  other = other.loc[:, self.columns]\n",
      "/Users/James/anaconda/lib/python3.6/site-packages/pandas/core/indexing.py:1367: FutureWarning: \n",
      "Passing list-likes to .loc or [] with any missing label will raise\n",
      "KeyError in the future, you can use .reindex() as an alternative.\n",
      "\n",
      "See the documentation here:\n",
      "http://pandas.pydata.org/pandas-docs/stable/indexing.html#deprecate-loc-reindex-listlike\n",
      "  return self._getitem_tuple(key)\n"
     ]
    }
   ],
   "source": [
    "#read in user_logs\n",
    "import time\n",
    "chunksize = 5000000\n",
    "i = 0 \n",
    "for chunk in pd.read_csv('raw_data/user_logs.csv', engine='c', chunksize=chunksize, usecols=[0, 1, 7, 8], dtype={\"msno\":str, \"date\": int, \"num_unq\":int, \"total_secs\":float}):\n",
    "    print(i)\n",
    "    chunk = chunk[chunk['msno'].isin(msno_values)]\n",
    "    rows = chunk.msno.unique()\n",
    "    chunk['date'] = pd.to_datetime(chunk['date'], format='%Y%m%d')\n",
    "    print(len(rows))\n",
    "    n = 0 \n",
    "    for row in rows:\n",
    "        df = chunk[chunk[\"msno\"] == row]\n",
    "        differences = df.date.diff()\n",
    "        gap_days = differences.sum()\n",
    "        average_gap_days = differences.mean()\n",
    "        if len(differences.nlargest(1)) > 0:\n",
    "            longest_gap = differences.nlargest(1).iloc[0].total_seconds()\n",
    "        else:\n",
    "            longest_gap = -1\n",
    "        gaps_longer_29 = 0\n",
    "        for val in differences:\n",
    "            if val > pd.Timedelta('29 days'):\n",
    "                gaps_longer_29 += 1\n",
    "        user_features = user_features.append([row, gap_days, average_gap_days.total_seconds(), longest_gap, gaps_longer_29])\n",
    "        n += 1\n",
    "    del(chunk)\n",
    "    i += 1 \n",
    "user_features.head()"
   ]
  },
  {
   "cell_type": "code",
   "execution_count": null,
   "metadata": {
    "collapsed": true
   },
   "outputs": [],
   "source": []
  },
  {
   "cell_type": "code",
   "execution_count": null,
   "metadata": {
    "collapsed": true
   },
   "outputs": [],
   "source": []
  },
  {
   "cell_type": "code",
   "execution_count": null,
   "metadata": {
    "collapsed": true
   },
   "outputs": [],
   "source": [
    "#read in user_logs_2\n",
    "chunksize = 1000000\n",
    "i = 0 \n",
    "for chunk in pd.read_csv('raw_data/user_logs_v2.csv', chunksize=chunksize, usecols=[0, 1, 7, 8], dtype={\"msno\":str, \"date\": int, \"num_unq\":int, \"total_secs\":float}):\n",
    "    print(i)\n",
    "    rows = chunk.msno.unique()#find unique chunks\n",
    "    chunk['date'] = pd.to_datetime(chunk['date'], format='%Y%m%d')\n",
    "    for row in rows:\n",
    "        df = chunk[chunk[\"msno\"] == row]\n",
    "        differences = df.date.diff()\n",
    "        gap_days = differences.sum()\n",
    "        average_gap_days = differences.mean()\n",
    "        longest_gap = differences.nlargest(1)\n",
    "        gaps_longer_29 = 0\n",
    "        for val in differences:\n",
    "            if val > pd.Timedelta('29 days'):\n",
    "                gaps_longer_29 += 1\n",
    "        user_features[user_features['msno'] == row][\"gap_days\"] = gap_days\n",
    "        user_features[user_features['msno'] == row][\"average_gap_days\"] = average_gap_days\n",
    "        user_features[user_features['msno'] == row][\"longest_gap\"] = longest_gap\n",
    "        user_features[user_features['msno'] == row][\"gaps_longer_29\"] = gaps_longer_29\n",
    "    del(chunk)\n",
    "    i += 1 \n",
    "user_features.head()"
   ]
  },
  {
   "cell_type": "code",
   "execution_count": null,
   "metadata": {
    "collapsed": true
   },
   "outputs": [],
   "source": [
    "#combine duplicates? "
   ]
  },
  {
   "cell_type": "code",
   "execution_count": null,
   "metadata": {
    "collapsed": true
   },
   "outputs": [],
   "source": [
    "user_features.head()"
   ]
  },
  {
   "cell_type": "code",
   "execution_count": null,
   "metadata": {
    "collapsed": true
   },
   "outputs": [],
   "source": [
    "user_features.to_csv(\"user_logs_features.csv\")"
   ]
  },
  {
   "cell_type": "code",
   "execution_count": null,
   "metadata": {
    "collapsed": true
   },
   "outputs": [],
   "source": []
  },
  {
   "cell_type": "code",
   "execution_count": null,
   "metadata": {
    "collapsed": true
   },
   "outputs": [],
   "source": []
  },
  {
   "cell_type": "code",
   "execution_count": null,
   "metadata": {
    "collapsed": true
   },
   "outputs": [],
   "source": [
    "#combine what you "
   ]
  },
  {
   "cell_type": "code",
   "execution_count": null,
   "metadata": {
    "collapsed": true
   },
   "outputs": [],
   "source": []
  },
  {
   "cell_type": "code",
   "execution_count": null,
   "metadata": {
    "collapsed": true
   },
   "outputs": [],
   "source": []
  },
  {
   "cell_type": "code",
   "execution_count": null,
   "metadata": {
    "collapsed": true
   },
   "outputs": [],
   "source": []
  },
  {
   "cell_type": "code",
   "execution_count": null,
   "metadata": {
    "collapsed": true
   },
   "outputs": [],
   "source": []
  },
  {
   "cell_type": "code",
   "execution_count": null,
   "metadata": {
    "collapsed": true
   },
   "outputs": [],
   "source": []
  },
  {
   "cell_type": "code",
   "execution_count": null,
   "metadata": {
    "collapsed": true
   },
   "outputs": [],
   "source": []
  },
  {
   "cell_type": "code",
   "execution_count": null,
   "metadata": {
    "collapsed": true
   },
   "outputs": [],
   "source": []
  }
 ],
 "metadata": {
  "kernelspec": {
   "display_name": "Python 3",
   "language": "python",
   "name": "python3"
  },
  "language_info": {
   "codemirror_mode": {
    "name": "ipython",
    "version": 3
   },
   "file_extension": ".py",
   "mimetype": "text/x-python",
   "name": "python",
   "nbconvert_exporter": "python",
   "pygments_lexer": "ipython3",
   "version": "3.6.0"
  }
 },
 "nbformat": 4,
 "nbformat_minor": 2
}
