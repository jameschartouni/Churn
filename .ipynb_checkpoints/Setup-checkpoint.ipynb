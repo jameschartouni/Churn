{
 "cells": [
  {
   "cell_type": "code",
   "execution_count": 2,
   "metadata": {
    "collapsed": false,
    "inputHidden": false,
    "outputHidden": false
   },
   "outputs": [],
   "source": [
    "#James Chartouni\n",
    "#memory reduction code taken from https://www.kaggle.com/shuojin/memory-reduction \n",
    "import numpy as np # linear algebra\n",
    "import pandas as pd # data processing, CSV file I/O (e.g. pd.read_csv)\n",
    "import matplotlib as plt\n"
   ]
  },
  {
   "cell_type": "code",
   "execution_count": 23,
   "metadata": {
    "collapsed": false,
    "inputHidden": false,
    "outputHidden": false
   },
   "outputs": [],
   "source": [
    "df_train = pd.read_csv('raw_data/train.csv')\n",
    "df_train_2 = pd.read_csv(\"raw_data/train_v2.csv\")\n",
    "df_train = pd.concat((df_train, df_train_2))\n",
    "df_members = pd.read_csv('raw_data/members_v3.csv')\n",
    "df_transactions = pd.read_csv('raw_data/transactions.csv')\n",
    "df_transactions_2 = pd.read_csv('raw_data/transactions_v2.csv')\n",
    "df_transactions = pd.concat((df_transactions, df_transactions_2))\n",
    "#df_sample = pd.read_csv('../input/sample_submission_zero.csv')\n",
    "#df_user_logs_1 = pd.read_csv('../input/user_logs.csv'), chunksize = 500)\n",
    "#df = pd.concat(df_user_logs_1, ignore_index=True)\n",
    "\n",
    "# Any results you write to the current directory are saved as output."
   ]
  },
  {
   "cell_type": "code",
   "execution_count": 24,
   "metadata": {
    "collapsed": false,
    "inputHidden": false,
    "outputHidden": false
   },
   "outputs": [
    {
     "name": "stdout",
     "output_type": "stream",
     "text": [
      "310.488083942251 MB\n"
     ]
    }
   ],
   "source": [
    "#--- Displays members column memory consumed  ---\n",
    "print(df_members.memory_usage().sum()/1023**2,\"MB\")"
   ]
  },
  {
   "cell_type": "code",
   "execution_count": 25,
   "metadata": {
    "collapsed": false,
    "inputHidden": false,
    "outputHidden": false
   },
   "outputs": [],
   "source": [
    "#fix date times\n",
    "df_members['registration_init_year'] = df_members['registration_init_time'].apply(lambda x: int(str(x)[:4]))\n",
    "df_members['registration_init_month'] = df_members['registration_init_time'].apply(lambda x: int(str(x)[4:6]))\n",
    "df_members['registration_init_date'] = df_members['registration_init_time'].apply(lambda x: int(str(x)[-2:]))\n",
    "#df_members['expiration_date_year'] = df_members['expiration_date'].apply(lambda x: int(str(x)[:4]))\n",
    "#df_members['expiration_date_month'] = df_members['expiration_date'].apply(lambda x: int(str(x)[4:6]))\n",
    "#df_members['expiration_date_date'] = df_members['expiration_date'].apply(lambda x: int(str(x)[-2:]))\n",
    "\n",
    "#--- Now drop no needed date columns ---#\n",
    "#df_members = df_members.drop('registration_init_time', 1)\n",
    "#df_members = df_members.drop('expiration_date', 1)"
   ]
  },
  {
   "cell_type": "code",
   "execution_count": 26,
   "metadata": {
    "collapsed": false,
    "inputHidden": false,
    "outputHidden": false
   },
   "outputs": [],
   "source": [
    "#reduce integer size to reduce memory \n",
    "df_members['city'] = df_members['city'].astype(np.int8)\n",
    "df_members['bd'] = df_members['bd'].astype(np.int16)\n",
    "df_members['registered_via'] = df_members['registered_via'].astype(np.int8)\n",
    "df_members['registration_init_year'] = df_members['registration_init_year'].astype(np.int16)\n",
    "df_members['registration_init_month'] = df_members['registration_init_month'].astype(np.int8)\n",
    "df_members['registration_init_date'] = df_members['registration_init_date'].astype(np.int8)\n",
    "#df_members['expiration_date_year'] = df_members['expiration_date_year'].astype(np.int16)\n",
    "#df_members['expiration_date_month'] = df_members['expiration_date_month'].astype(np.int8)\n",
    "#df_members['expiration_date_date'] = df_members['expiration_date_date'].astype(np.int8)"
   ]
  },
  {
   "cell_type": "code",
   "execution_count": 27,
   "metadata": {
    "collapsed": false,
    "inputHidden": false,
    "outputHidden": false
   },
   "outputs": [
    {
     "name": "stdout",
     "output_type": "stream",
     "text": [
      "206.99208144255917 MB\n"
     ]
    }
   ],
   "source": [
    "#--- df_members memory consumption after change them to appropriate datatype ---#\n",
    "print(df_members.memory_usage().sum()/1023**2,\"MB\")"
   ]
  },
  {
   "cell_type": "code",
   "execution_count": 28,
   "metadata": {
    "collapsed": false,
    "inputHidden": false,
    "outputHidden": false
   },
   "outputs": [
    {
     "name": "stdout",
     "output_type": "stream",
     "text": [
      "31.839510917663574  MB\n"
     ]
    }
   ],
   "source": [
    "#reduce train memory \n",
    "df_train['is_churn'] = df_train['is_churn'].astype(np.int8)\n",
    "print(df_train.memory_usage(index=True).sum()/ 1024**2,\" MB\")"
   ]
  },
  {
   "cell_type": "code",
   "execution_count": 29,
   "metadata": {
    "collapsed": false,
    "inputHidden": false,
    "outputHidden": false
   },
   "outputs": [],
   "source": [
    "df_transactions['payment_method_id'] = df_transactions['payment_method_id'].astype(np.int8)\n",
    "df_transactions['payment_plan_days'] = df_transactions['payment_plan_days'].astype(np.int16)\n",
    "df_transactions['plan_list_price'] = df_transactions['plan_list_price'].astype(np.int16)\n",
    "df_transactions['actual_amount_paid'] = df_transactions['actual_amount_paid'].astype(np.int16)\n",
    "df_transactions['is_auto_renew'] = df_transactions['is_auto_renew'].astype(np.int8)\n",
    "df_transactions['is_cancel'] = df_transactions['is_cancel'].astype(np.int8)\n",
    "\n",
    "df_transactions['transaction_date_year'] = df_transactions['transaction_date'].apply(lambda x: int(str(x)[:4]))\n",
    "df_transactions['transaction_date_month'] = df_transactions['transaction_date'].apply(lambda x: int(str(x)[4:6]))\n",
    "df_transactions['transaction_date_date'] = df_transactions['transaction_date'].apply(lambda x: int(str(x)[-2:]))\n",
    "\n",
    "df_transactions['membership_expire_date_year'] = df_transactions['membership_expire_date'].apply(lambda x: int(str(x)[:4]))\n",
    "df_transactions['membership_expire_date_month'] = df_transactions['membership_expire_date'].apply(lambda x: int(str(x)[4:6]))\n",
    "df_transactions['membership_expire_date_date'] = df_transactions['membership_expire_date'].apply(lambda x: int(str(x)[-2:]))"
   ]
  },
  {
   "cell_type": "code",
   "execution_count": 30,
   "metadata": {
    "collapsed": false,
    "inputHidden": false,
    "outputHidden": false
   },
   "outputs": [],
   "source": [
    "df_transactions['transaction_date_year'] = df_transactions['transaction_date_year'].astype(np.int16)\n",
    "df_transactions['transaction_date_month'] = df_transactions['transaction_date_month'].astype(np.int8)\n",
    "df_transactions['transaction_date_date'] = df_transactions['transaction_date_date'].astype(np.int8)\n",
    "\n",
    "df_transactions['membership_expire_date_year'] = df_transactions['membership_expire_date_year'].astype(np.int16)\n",
    "df_transactions['membership_expire_date_month'] = df_transactions['membership_expire_date_month'].astype(np.int8)\n",
    "df_transactions['membership_expire_date_date'] = df_transactions['membership_expire_date_date'].astype(np.int8)\n",
    "\n",
    "#--- Now drop no needed columns ---\n",
    "#df_transactions = df_transactions.drop('transaction_date', 1)\n",
    "#df_transactions = df_transactions.drop('membership_expire_date', 1)"
   ]
  },
  {
   "cell_type": "code",
   "execution_count": 31,
   "metadata": {
    "collapsed": false,
    "inputHidden": false,
    "outputHidden": false
   },
   "outputs": [],
   "source": [
    "df_train.to_csv(\"cleaned_input/train.csv\")\n",
    "df_members.to_csv(\"cleaned_input/members.csv\")\n",
    "df_transactions.to_csv(\"cleaned_input/transactions.csv\")"
   ]
  },
  {
   "cell_type": "code",
   "execution_count": null,
   "metadata": {
    "collapsed": false,
    "inputHidden": false,
    "outputHidden": false
   },
   "outputs": [
    {
     "name": "stdout",
     "output_type": "stream",
     "text": [
      "user_logs\n"
     ]
    }
   ],
   "source": [
    "#how to merge user_logs and user_logs_2\n",
    "#cat user*.csv >../cleaned_input/user_logs_merged.csv //in terminal\n"
   ]
  },
  {
   "cell_type": "code",
   "execution_count": null,
   "metadata": {
    "collapsed": false,
    "inputHidden": false,
    "outputHidden": false
   },
   "outputs": [],
   "source": []
  },
  {
   "cell_type": "code",
   "execution_count": null,
   "metadata": {
    "collapsed": false,
    "inputHidden": false,
    "outputHidden": false
   },
   "outputs": [],
   "source": []
  },
  {
   "cell_type": "code",
   "execution_count": null,
   "metadata": {
    "collapsed": false,
    "inputHidden": false,
    "outputHidden": false
   },
   "outputs": [],
   "source": []
  }
 ],
 "metadata": {
  "kernel_info": {
   "name": "python3"
  },
  "kernelspec": {
   "display_name": "Python 3",
   "language": "python",
   "name": "python3"
  },
  "language_info": {
   "codemirror_mode": {
    "name": "ipython",
    "version": 3
   },
   "file_extension": ".py",
   "mimetype": "text/x-python",
   "name": "python",
   "nbconvert_exporter": "python",
   "pygments_lexer": "ipython3",
   "version": "3.6.0"
  },
  "nteract": {
   "version": "0.3.4"
  }
 },
 "nbformat": 4,
 "nbformat_minor": 4
}
