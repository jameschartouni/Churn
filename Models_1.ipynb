{
 "cells": [
  {
   "cell_type": "code",
   "execution_count": 16,
   "metadata": {
    "collapsed": false,
    "inputHidden": false,
    "outputHidden": false
   },
   "outputs": [],
   "source": [
    "#james chartouni\n",
    "import lightgbm as lgb\n",
    "import xgboost as xgb\n",
    "import pandas as pd\n",
    "import numpy as np\n",
    "from numpy import inf\n",
    "from sklearn.decomposition import PCA, KernelPCA, TruncatedSVD\n",
    "from sklearn.discriminant_analysis import LinearDiscriminantAnalysis, QuadraticDiscriminantAnalysis\n",
    "from sklearn.model_selection import train_test_split, cross_val_score\n",
    "from sklearn.pipeline import make_pipeline\n",
    "from sklearn.linear_model import LogisticRegression\n",
    "from sklearn.preprocessing import StandardScaler, RobustScaler, PolynomialFeatures\n",
    "from sklearn.metrics import log_loss"
   ]
  },
  {
   "cell_type": "code",
   "execution_count": 17,
   "metadata": {
    "collapsed": false,
    "inputHidden": false,
    "outputHidden": false
   },
   "outputs": [],
   "source": [
    "training_data = pd.read_csv(\"cleaned_input/train_consolidated.csv\")\n",
    "training_data = training_data.drop(['msno'], axis=1)"
   ]
  },
  {
   "cell_type": "code",
   "execution_count": 18,
   "metadata": {
    "collapsed": false
   },
   "outputs": [
    {
     "data": {
      "text/plain": [
       "(503220, 134)"
      ]
     },
     "execution_count": 18,
     "metadata": {},
     "output_type": "execute_result"
    }
   ],
   "source": [
    "test_data = pd.read_csv(\"cleaned_input/test_consolidated.csv\")\n",
    "test_data.shape\n",
    "#test_data = test_data.drop(['msno'], axis=1)"
   ]
  },
  {
   "cell_type": "code",
   "execution_count": 19,
   "metadata": {
    "collapsed": false,
    "inputHidden": false,
    "outputHidden": false
   },
   "outputs": [],
   "source": [
    "#split data \n",
    "y = training_data[\"is_churn\"].values\n",
    "X = training_data.drop([\"is_churn\"], axis=1).values\n",
    "#replaced infinite values with zero. MAKE SURE THIS IS the right thing to do \n",
    "X[X == -inf] = 0\n",
    "X[X == inf] = 0\n",
    "\n",
    "X_train, X_test, y_train, y_test = train_test_split(X, y, test_size=.15, shuffle=True)"
   ]
  },
  {
   "cell_type": "code",
   "execution_count": 14,
   "metadata": {
    "collapsed": false,
    "inputHidden": false,
    "outputHidden": false
   },
   "outputs": [
    {
     "name": "stdout",
     "output_type": "stream",
     "text": [
      "Accuracy: -0.19 (+/- 0.1852)\n"
     ]
    },
    {
     "name": "stderr",
     "output_type": "stream",
     "text": [
      "/Users/James/anaconda/lib/python3.6/site-packages/sklearn/linear_model/base.py:340: RuntimeWarning: overflow encountered in exp\n",
      "  np.exp(prob, prob)\n"
     ]
    },
    {
     "name": "stdout",
     "output_type": "stream",
     "text": [
      "Accuracy: -0.56 (+/- 0.5516)\n",
      "Accuracy: -0.64 (+/- 0.2019)\n"
     ]
    },
    {
     "name": "stderr",
     "output_type": "stream",
     "text": [
      "/Users/James/anaconda/lib/python3.6/site-packages/sklearn/linear_model/base.py:340: RuntimeWarning: overflow encountered in exp\n",
      "  np.exp(prob, prob)\n"
     ]
    }
   ],
   "source": [
    "#logistic regression \n",
    "logistic_pipe = make_pipeline(LogisticRegression(solver='liblinear'))\n",
    "scores = cross_val_score(logistic_pipe, X_train, y_train, cv=5, scoring=\"neg_log_loss\")\n",
    "print(\"Accuracy: %0.2f (+/- %0.4f)\" % (scores.mean(), scores.std() * 2))\n",
    "\n",
    "#logistic regression w/ polynomial features 2   \n",
    "logistic_pipe = make_pipeline(PolynomialFeatures(degree=2), LogisticRegression(solver='liblinear'))\n",
    "scores = cross_val_score(logistic_pipe, X_train, y_train, cv=5, scoring=\"neg_log_loss\")\n",
    "print(\"Accuracy: %0.2f (+/- %0.4f)\" % (scores.mean(), scores.std() * 2))\n",
    "\n",
    "#logistic regression w/th PCA, Polynomial features \n",
    "logistic_pipe = make_pipeline(PCA(n_components=.95), PolynomialFeatures(degree=2), LogisticRegression(solver='liblinear'))\n",
    "scores = cross_val_score(logistic_pipe, X_train, y_train, cv=5, scoring=\"neg_log_loss\")\n",
    "print(\"Accuracy: %0.2f (+/- %0.4f)\" % (scores.mean(), scores.std() * 2))\n"
   ]
  },
  {
   "cell_type": "code",
   "execution_count": 22,
   "metadata": {
    "collapsed": false,
    "inputHidden": false,
    "outputHidden": false
   },
   "outputs": [
    {
     "name": "stdout",
     "output_type": "stream",
     "text": [
      "[1]\tcv_agg's binary_logloss: 0.683204 + 3.53977e-07\n",
      "[2]\tcv_agg's binary_logloss: 0.673457 + 6.52159e-07\n",
      "[3]\tcv_agg's binary_logloss: 0.665009 + 2.91504e-06\n",
      "[4]\tcv_agg's binary_logloss: 0.656702 + 6.18411e-06\n",
      "[5]\tcv_agg's binary_logloss: 0.64747 + 5.91019e-06\n",
      "[6]\tcv_agg's binary_logloss: 0.639666 + 8.06596e-06\n",
      "[7]\tcv_agg's binary_logloss: 0.630758 + 7.56281e-06\n",
      "[8]\tcv_agg's binary_logloss: 0.622018 + 7.01405e-06\n",
      "[9]\tcv_agg's binary_logloss: 0.614458 + 8.86047e-06\n",
      "[10]\tcv_agg's binary_logloss: 0.60602 + 8.3214e-06\n",
      "[11]\tcv_agg's binary_logloss: 0.597735 + 8.19125e-06\n",
      "[12]\tcv_agg's binary_logloss: 0.589602 + 8.0337e-06\n",
      "[13]\tcv_agg's binary_logloss: 0.581615 + 7.95395e-06\n",
      "[14]\tcv_agg's binary_logloss: 0.57377 + 7.50067e-06\n",
      "[15]\tcv_agg's binary_logloss: 0.566065 + 7.53806e-06\n",
      "[16]\tcv_agg's binary_logloss: 0.558496 + 7.40981e-06\n",
      "[17]\tcv_agg's binary_logloss: 0.551059 + 7.24943e-06\n",
      "[18]\tcv_agg's binary_logloss: 0.543751 + 7.15322e-06\n",
      "[19]\tcv_agg's binary_logloss: 0.536568 + 7.25076e-06\n",
      "[20]\tcv_agg's binary_logloss: 0.529508 + 7.30204e-06\n",
      "[21]\tcv_agg's binary_logloss: 0.522568 + 7.30517e-06\n",
      "[22]\tcv_agg's binary_logloss: 0.515745 + 7.4955e-06\n",
      "[23]\tcv_agg's binary_logloss: 0.509819 + 8.41867e-06\n",
      "[24]\tcv_agg's binary_logloss: 0.503208 + 8.52899e-06\n",
      "[25]\tcv_agg's binary_logloss: 0.497478 + 9.83471e-06\n",
      "[26]\tcv_agg's binary_logloss: 0.491069 + 1.00105e-05\n",
      "[27]\tcv_agg's binary_logloss: 0.484766 + 1.02419e-05\n",
      "[28]\tcv_agg's binary_logloss: 0.478564 + 1.03152e-05\n",
      "[29]\tcv_agg's binary_logloss: 0.472462 + 1.02793e-05\n",
      "[30]\tcv_agg's binary_logloss: 0.466457 + 1.02974e-05\n",
      "[31]\tcv_agg's binary_logloss: 0.460549 + 9.93227e-06\n",
      "[32]\tcv_agg's binary_logloss: 0.454734 + 9.66637e-06\n",
      "[33]\tcv_agg's binary_logloss: 0.449011 + 9.40194e-06\n",
      "[34]\tcv_agg's binary_logloss: 0.443377 + 9.17992e-06\n",
      "[35]\tcv_agg's binary_logloss: 0.43783 + 9.04981e-06\n",
      "[36]\tcv_agg's binary_logloss: 0.43237 + 9.12746e-06\n",
      "[37]\tcv_agg's binary_logloss: 0.426993 + 9.17178e-06\n",
      "[38]\tcv_agg's binary_logloss: 0.421698 + 8.89953e-06\n",
      "[39]\tcv_agg's binary_logloss: 0.416484 + 8.74908e-06\n",
      "[40]\tcv_agg's binary_logloss: 0.411348 + 8.53813e-06\n",
      "[41]\tcv_agg's binary_logloss: 0.406898 + 9.45357e-06\n",
      "[42]\tcv_agg's binary_logloss: 0.401906 + 9.31828e-06\n",
      "[43]\tcv_agg's binary_logloss: 0.396989 + 9.13136e-06\n",
      "[44]\tcv_agg's binary_logloss: 0.392735 + 1.00315e-05\n",
      "[45]\tcv_agg's binary_logloss: 0.387954 + 9.6983e-06\n",
      "[46]\tcv_agg's binary_logloss: 0.383243 + 9.54229e-06\n",
      "[47]\tcv_agg's binary_logloss: 0.3786 + 9.31713e-06\n",
      "[48]\tcv_agg's binary_logloss: 0.374026 + 9.04509e-06\n",
      "[49]\tcv_agg's binary_logloss: 0.369517 + 9.13033e-06\n",
      "[50]\tcv_agg's binary_logloss: 0.365074 + 9.16064e-06\n",
      "[51]\tcv_agg's binary_logloss: 0.360695 + 9.20219e-06\n",
      "[52]\tcv_agg's binary_logloss: 0.356379 + 9.21946e-06\n",
      "[53]\tcv_agg's binary_logloss: 0.352123 + 9.07075e-06\n",
      "[54]\tcv_agg's binary_logloss: 0.347928 + 9.14784e-06\n",
      "[55]\tcv_agg's binary_logloss: 0.343792 + 9.05692e-06\n",
      "[56]\tcv_agg's binary_logloss: 0.339714 + 8.97532e-06\n",
      "[57]\tcv_agg's binary_logloss: 0.335694 + 8.96808e-06\n",
      "[58]\tcv_agg's binary_logloss: 0.331729 + 9.01936e-06\n",
      "[59]\tcv_agg's binary_logloss: 0.32782 + 9.05041e-06\n",
      "[60]\tcv_agg's binary_logloss: 0.323965 + 8.91184e-06\n",
      "[61]\tcv_agg's binary_logloss: 0.320163 + 9.01924e-06\n",
      "[62]\tcv_agg's binary_logloss: 0.316413 + 8.87742e-06\n",
      "[63]\tcv_agg's binary_logloss: 0.313169 + 9.44833e-06\n",
      "[64]\tcv_agg's binary_logloss: 0.309515 + 9.29431e-06\n",
      "[65]\tcv_agg's binary_logloss: 0.30591 + 9.12375e-06\n",
      "[66]\tcv_agg's binary_logloss: 0.302354 + 9.26218e-06\n",
      "[67]\tcv_agg's binary_logloss: 0.298846 + 9.44061e-06\n",
      "[68]\tcv_agg's binary_logloss: 0.295385 + 9.56918e-06\n",
      "[69]\tcv_agg's binary_logloss: 0.291971 + 9.73981e-06\n",
      "[70]\tcv_agg's binary_logloss: 0.288602 + 9.87964e-06\n",
      "[71]\tcv_agg's binary_logloss: 0.285278 + 9.7076e-06\n",
      "[72]\tcv_agg's binary_logloss: 0.281998 + 9.71123e-06\n",
      "[73]\tcv_agg's binary_logloss: 0.278761 + 9.61234e-06\n",
      "[74]\tcv_agg's binary_logloss: 0.275964 + 9.88069e-06\n",
      "[75]\tcv_agg's binary_logloss: 0.272807 + 9.66146e-06\n",
      "[76]\tcv_agg's binary_logloss: 0.26969 + 9.78089e-06\n",
      "[77]\tcv_agg's binary_logloss: 0.266615 + 9.724e-06\n",
      "[78]\tcv_agg's binary_logloss: 0.26358 + 9.86507e-06\n",
      "[79]\tcv_agg's binary_logloss: 0.260584 + 9.98352e-06\n",
      "[80]\tcv_agg's binary_logloss: 0.257626 + 1.01247e-05\n",
      "[81]\tcv_agg's binary_logloss: 0.254707 + 9.73398e-06\n",
      "[82]\tcv_agg's binary_logloss: 0.251826 + 9.61076e-06\n",
      "[83]\tcv_agg's binary_logloss: 0.248981 + 9.32322e-06\n",
      "[84]\tcv_agg's binary_logloss: 0.246173 + 8.85904e-06\n",
      "[85]\tcv_agg's binary_logloss: 0.2434 + 8.52367e-06\n",
      "[86]\tcv_agg's binary_logloss: 0.240663 + 8.61143e-06\n",
      "[87]\tcv_agg's binary_logloss: 0.237961 + 8.74372e-06\n",
      "[88]\tcv_agg's binary_logloss: 0.235292 + 8.84491e-06\n",
      "[89]\tcv_agg's binary_logloss: 0.232657 + 9.01378e-06\n",
      "[90]\tcv_agg's binary_logloss: 0.230056 + 9.04128e-06\n",
      "[91]\tcv_agg's binary_logloss: 0.227487 + 9.09723e-06\n",
      "[92]\tcv_agg's binary_logloss: 0.22495 + 9.13358e-06\n",
      "[93]\tcv_agg's binary_logloss: 0.222445 + 9.15026e-06\n",
      "[94]\tcv_agg's binary_logloss: 0.219972 + 9.23648e-06\n",
      "[95]\tcv_agg's binary_logloss: 0.217528 + 9.22067e-06\n",
      "[96]\tcv_agg's binary_logloss: 0.215115 + 9.06637e-06\n",
      "[97]\tcv_agg's binary_logloss: 0.212732 + 8.90175e-06\n",
      "[98]\tcv_agg's binary_logloss: 0.210378 + 8.87963e-06\n",
      "[99]\tcv_agg's binary_logloss: 0.208352 + 9.04231e-06\n",
      "[100]\tcv_agg's binary_logloss: 0.206052 + 9.22762e-06\n",
      "[101]\tcv_agg's binary_logloss: 0.203781 + 9.2428e-06\n",
      "[102]\tcv_agg's binary_logloss: 0.201537 + 9.27092e-06\n",
      "[103]\tcv_agg's binary_logloss: 0.19932 + 9.41244e-06\n",
      "[104]\tcv_agg's binary_logloss: 0.19713 + 9.68804e-06\n",
      "[105]\tcv_agg's binary_logloss: 0.194967 + 9.83635e-06\n",
      "[106]\tcv_agg's binary_logloss: 0.19283 + 1.01951e-05\n",
      "[107]\tcv_agg's binary_logloss: 0.190989 + 1.05025e-05\n",
      "[108]\tcv_agg's binary_logloss: 0.189174 + 1.04871e-05\n",
      "[109]\tcv_agg's binary_logloss: 0.187107 + 1.06333e-05\n",
      "[110]\tcv_agg's binary_logloss: 0.18538 + 1.07989e-05\n",
      "[111]\tcv_agg's binary_logloss: 0.183358 + 1.1018e-05\n",
      "[112]\tcv_agg's binary_logloss: 0.18136 + 1.09994e-05\n",
      "[113]\tcv_agg's binary_logloss: 0.179386 + 1.12197e-05\n",
      "[114]\tcv_agg's binary_logloss: 0.177693 + 1.15343e-05\n",
      "[115]\tcv_agg's binary_logloss: 0.175762 + 1.18108e-05\n",
      "[116]\tcv_agg's binary_logloss: 0.173855 + 1.17842e-05\n",
      "[117]\tcv_agg's binary_logloss: 0.17197 + 1.16956e-05\n",
      "[118]\tcv_agg's binary_logloss: 0.170108 + 1.16392e-05\n",
      "[119]\tcv_agg's binary_logloss: 0.168268 + 1.1536e-05\n",
      "[120]\tcv_agg's binary_logloss: 0.166449 + 1.14926e-05\n",
      "[121]\tcv_agg's binary_logloss: 0.164896 + 1.15753e-05\n",
      "[122]\tcv_agg's binary_logloss: 0.163117 + 1.17315e-05\n",
      "[123]\tcv_agg's binary_logloss: 0.161359 + 1.17892e-05\n",
      "[124]\tcv_agg's binary_logloss: 0.159855 + 1.15959e-05\n",
      "[125]\tcv_agg's binary_logloss: 0.158135 + 1.16362e-05\n",
      "[126]\tcv_agg's binary_logloss: 0.156435 + 1.16871e-05\n",
      "[127]\tcv_agg's binary_logloss: 0.154996 + 1.1245e-05\n",
      "[128]\tcv_agg's binary_logloss: 0.153332 + 1.13967e-05\n",
      "[129]\tcv_agg's binary_logloss: 0.151688 + 1.14916e-05\n",
      "[130]\tcv_agg's binary_logloss: 0.150062 + 1.1976e-05\n",
      "[131]\tcv_agg's binary_logloss: 0.148456 + 1.23263e-05\n",
      "[132]\tcv_agg's binary_logloss: 0.146868 + 1.24848e-05\n",
      "[133]\tcv_agg's binary_logloss: 0.145299 + 1.25435e-05\n",
      "[134]\tcv_agg's binary_logloss: 0.143747 + 1.27119e-05\n",
      "[135]\tcv_agg's binary_logloss: 0.142214 + 1.30153e-05\n",
      "[136]\tcv_agg's binary_logloss: 0.140698 + 1.32944e-05\n",
      "[137]\tcv_agg's binary_logloss: 0.139199 + 1.34839e-05\n",
      "[138]\tcv_agg's binary_logloss: 0.137717 + 1.36546e-05\n",
      "[139]\tcv_agg's binary_logloss: 0.136253 + 1.38483e-05\n",
      "[140]\tcv_agg's binary_logloss: 0.134805 + 1.40735e-05\n",
      "[141]\tcv_agg's binary_logloss: 0.133374 + 1.42247e-05\n",
      "[142]\tcv_agg's binary_logloss: 0.131959 + 1.48195e-05\n",
      "[143]\tcv_agg's binary_logloss: 0.130786 + 1.47133e-05\n",
      "[144]\tcv_agg's binary_logloss: 0.1294 + 1.48839e-05\n",
      "[145]\tcv_agg's binary_logloss: 0.12803 + 1.50787e-05\n",
      "[146]\tcv_agg's binary_logloss: 0.126864 + 1.50961e-05\n",
      "[147]\tcv_agg's binary_logloss: 0.125523 + 1.51064e-05\n",
      "[148]\tcv_agg's binary_logloss: 0.124196 + 1.51629e-05\n",
      "[149]\tcv_agg's binary_logloss: 0.123076 + 1.51439e-05\n",
      "[150]\tcv_agg's binary_logloss: 0.121777 + 1.51845e-05\n"
     ]
    }
   ],
   "source": [
    "#Light GBM \n",
    "# create dataset for lightgbm\n",
    "# if you want to re-use data, remember to set free_raw_data=False\n",
    "lgb_train = lgb.Dataset(X_train, y_train, free_raw_data=False)\n",
    "lgb_eval = lgb.Dataset(X_test, y_test, reference=lgb_train,free_raw_data=False)\n",
    "\n",
    "\n",
    "# specify your configurations as a dict\n",
    "params = {\n",
    "    'boosting_type': 'gbdt',\n",
    "    'objective': 'binary',\n",
    "    'metric': 'binary_logloss',\n",
    "    'num_leaves': 31,\n",
    "    'learning_rate': 0.01,\n",
    "    'feature_fraction': 0.9,\n",
    "    'bagging_fraction': 0.8,\n",
    "    'bagging_freq': 5,\n",
    "    'verbose': 0,\n",
    "    'num_threads': 3\n",
    "}\n",
    "# generate a feature name\n",
    "feature_name = X_train.dtype.names\n",
    "\n",
    "#cross validation\n",
    "num_round = 150\n",
    "scores = lgb.cv(params, lgb_train, num_round, nfold=5, verbose_eval=True)"
   ]
  },
  {
   "cell_type": "code",
   "execution_count": null,
   "metadata": {
    "collapsed": false
   },
   "outputs": [],
   "source": [
    "feature_name\n"
   ]
  },
  {
   "cell_type": "code",
   "execution_count": null,
   "metadata": {
    "collapsed": false,
    "inputHidden": false,
    "outputHidden": false
   },
   "outputs": [],
   "source": [
    "print('Start training...')\n",
    "# feature_name and categorical_feature\n",
    "gbm = lgb.train(params,\n",
    "                lgb_train,\n",
    "                num_boost_round=50,\n",
    "                valid_sets=lgb_train,  # eval training data\n",
    "              )"
   ]
  },
  {
   "cell_type": "code",
   "execution_count": null,
   "metadata": {
    "collapsed": false,
    "inputHidden": false,
    "outputHidden": false
   },
   "outputs": [],
   "source": [
    "print(\"--------------------------------------------------------------\")\n",
    "ypred = gbm.predict(X_test)\n",
    "print(log_loss(y_test, ypred))\n",
    "# save model to file\n",
    "gbm.save_model('model.txt')\n",
    "\n",
    "# feature names\n",
    "print('Feature names:', gbm.feature_name())\n",
    "\n",
    "# feature importances\n",
    "print('Feature importances:', list(gbm.feature_importance()))"
   ]
  },
  {
   "cell_type": "code",
   "execution_count": 23,
   "metadata": {
    "collapsed": false,
    "inputHidden": false,
    "outputHidden": false
   },
   "outputs": [
    {
     "name": "stdout",
     "output_type": "stream",
     "text": [
      "[0]\ttrain-logloss:0.673348\tvalid-logloss:0.673348\ttrain-log_loss:0.673348\tvalid-log_loss:0.673348\n",
      "Multiple eval metrics have been passed: 'valid-log_loss' will be used for early stopping.\n",
      "\n",
      "Will train until valid-log_loss hasn't improved in 50 rounds.\n",
      "[50]\ttrain-logloss:0.197725\tvalid-logloss:0.197725\ttrain-log_loss:0.197725\tvalid-log_loss:0.197725\n",
      "[100]\ttrain-logloss:0.06819\tvalid-logloss:0.06819\ttrain-log_loss:0.06819\tvalid-log_loss:0.06819\n",
      "[149]\ttrain-logloss:0.025042\tvalid-logloss:0.025042\ttrain-log_loss:0.025042\tvalid-log_loss:0.025042\n"
     ]
    },
    {
     "ename": "NameError",
     "evalue": "name 'test' is not defined",
     "output_type": "error",
     "traceback": [
      "\u001b[0;31m---------------------------------------------------------------------------\u001b[0m",
      "\u001b[0;31mNameError\u001b[0m                                 Traceback (most recent call last)",
      "\u001b[0;32m<ipython-input-23-160764157d55>\u001b[0m in \u001b[0;36m<module>\u001b[0;34m()\u001b[0m\n\u001b[1;32m     20\u001b[0m         \u001b[0mpred\u001b[0m \u001b[0;34m+=\u001b[0m \u001b[0mmodel\u001b[0m\u001b[0;34m.\u001b[0m\u001b[0mpredict\u001b[0m\u001b[0;34m(\u001b[0m\u001b[0mxgb\u001b[0m\u001b[0;34m.\u001b[0m\u001b[0mDMatrix\u001b[0m\u001b[0;34m(\u001b[0m\u001b[0mtest\u001b[0m\u001b[0;34m[\u001b[0m\u001b[0mcols\u001b[0m\u001b[0;34m]\u001b[0m\u001b[0;34m)\u001b[0m\u001b[0;34m,\u001b[0m \u001b[0mntree_limit\u001b[0m\u001b[0;34m=\u001b[0m\u001b[0mmodel\u001b[0m\u001b[0;34m.\u001b[0m\u001b[0mbest_ntree_limit\u001b[0m\u001b[0;34m)\u001b[0m\u001b[0;34m\u001b[0m\u001b[0m\n\u001b[1;32m     21\u001b[0m     \u001b[0;32melse\u001b[0m\u001b[0;34m:\u001b[0m\u001b[0;34m\u001b[0m\u001b[0m\n\u001b[0;32m---> 22\u001b[0;31m         \u001b[0mpred\u001b[0m \u001b[0;34m=\u001b[0m \u001b[0mmodel\u001b[0m\u001b[0;34m.\u001b[0m\u001b[0mpredict\u001b[0m\u001b[0;34m(\u001b[0m\u001b[0mxgb\u001b[0m\u001b[0;34m.\u001b[0m\u001b[0mDMatrix\u001b[0m\u001b[0;34m(\u001b[0m\u001b[0mtest\u001b[0m\u001b[0;34m[\u001b[0m\u001b[0mcols\u001b[0m\u001b[0;34m]\u001b[0m\u001b[0;34m)\u001b[0m\u001b[0;34m,\u001b[0m \u001b[0mntree_limit\u001b[0m\u001b[0;34m=\u001b[0m\u001b[0mmodel\u001b[0m\u001b[0;34m.\u001b[0m\u001b[0mbest_ntree_limit\u001b[0m\u001b[0;34m)\u001b[0m\u001b[0;34m\u001b[0m\u001b[0m\n\u001b[0m\u001b[1;32m     23\u001b[0m \u001b[0mpred\u001b[0m \u001b[0;34m/=\u001b[0m \u001b[0mfold\u001b[0m\u001b[0;34m\u001b[0m\u001b[0m\n\u001b[1;32m     24\u001b[0m \u001b[0mtest\u001b[0m\u001b[0;34m[\u001b[0m\u001b[0;34m'is_churn'\u001b[0m\u001b[0;34m]\u001b[0m \u001b[0;34m=\u001b[0m \u001b[0mpred\u001b[0m\u001b[0;34m.\u001b[0m\u001b[0mclip\u001b[0m\u001b[0;34m(\u001b[0m\u001b[0;36m0.0000001\u001b[0m\u001b[0;34m,\u001b[0m \u001b[0;36m0.999999\u001b[0m\u001b[0;34m)\u001b[0m\u001b[0;34m\u001b[0m\u001b[0m\n",
      "\u001b[0;31mNameError\u001b[0m: name 'test' is not defined"
     ]
    }
   ],
   "source": [
    "from sklearn import metrics\n",
    "\n",
    "def xgb_score(preds, dtrain):\n",
    "    labels = dtrain.get_label()\n",
    "    return 'log_loss', metrics.log_loss(labels, preds)\n",
    "\n",
    "fold = 1\n",
    "for i in range(fold):\n",
    "    params = {\n",
    "        'eta': 0.02, #use 0.002\n",
    "        'max_depth': 7,\n",
    "        'objective': 'binary:logistic',\n",
    "        'eval_metric': 'logloss',\n",
    "        'seed': i,\n",
    "        'silent': False\n",
    "    }\n",
    "    watchlist = [(xgb.DMatrix(X_train, y_train), 'train'), (xgb.DMatrix(X_test, y_test), 'valid')]\n",
    "    model = xgb.train(params, xgb.DMatrix(X_train, y_train), 150,  watchlist, feval=xgb_score, maximize=False, verbose_eval=50, early_stopping_rounds=50) #use 1500\n",
    "    if i != 0:\n",
    "        pred += model.predict(xgb.DMatrix(test[cols]), ntree_limit=model.best_ntree_limit)\n",
    "    else:\n",
    "        pred = model.predict(xgb.DMatrix(test[cols]), ntree_limit=model.best_ntree_limit)\n",
    "pred /= fold\n",
    "test['is_churn'] = pred.clip(0.0000001, 0.999999)\n",
    "test[['msno','is_churn']].to_csv('submission3.csv.gz', index=False, compression='gzip')"
   ]
  },
  {
   "cell_type": "code",
   "execution_count": null,
   "metadata": {
    "collapsed": true
   },
   "outputs": [],
   "source": []
  }
 ],
 "metadata": {
  "kernel_info": {
   "name": "python3"
  },
  "kernelspec": {
   "display_name": "Python 3",
   "language": "python",
   "name": "python3"
  },
  "language_info": {
   "codemirror_mode": {
    "name": "ipython",
    "version": 3
   },
   "file_extension": ".py",
   "mimetype": "text/x-python",
   "name": "python",
   "nbconvert_exporter": "python",
   "pygments_lexer": "ipython3",
   "version": "3.6.0"
  },
  "nteract": {
   "version": "0.3.4"
  }
 },
 "nbformat": 4,
 "nbformat_minor": 4
}
