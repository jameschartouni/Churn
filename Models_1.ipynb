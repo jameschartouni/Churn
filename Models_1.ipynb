{
 "cells": [
  {
   "cell_type": "code",
   "execution_count": 1,
   "metadata": {
    "collapsed": false,
    "inputHidden": false,
    "outputHidden": false
   },
   "outputs": [],
   "source": [
    "#james chartouni\n",
    "import lightgbm as lgb\n",
    "import xgboost as xgb\n",
    "import pandas as pd\n",
    "import numpy as np\n",
    "from numpy import inf\n",
    "from sklearn.decomposition import PCA, KernelPCA, TruncatedSVD\n",
    "from sklearn.discriminant_analysis import LinearDiscriminantAnalysis, QuadraticDiscriminantAnalysis\n",
    "from sklearn.model_selection import train_test_split, cross_val_score\n",
    "from sklearn.pipeline import make_pipeline\n",
    "from sklearn.linear_model import LogisticRegression\n",
    "from sklearn.preprocessing import StandardScaler, RobustScaler, PolynomialFeatures\n",
    "from sklearn.metrics import log_loss"
   ]
  },
  {
   "cell_type": "code",
   "execution_count": 2,
   "metadata": {
    "collapsed": false,
    "inputHidden": false,
    "outputHidden": false
   },
   "outputs": [],
   "source": [
    "training_data = pd.read_csv(\"cleaned_input/train_consolidated.csv\")\n",
    "training_data = training_data.drop(['msno'], axis=1)"
   ]
  },
  {
   "cell_type": "code",
   "execution_count": 24,
   "metadata": {
    "collapsed": false
   },
   "outputs": [
    {
     "data": {
      "text/plain": [
       "(907471, 125)"
      ]
     },
     "execution_count": 24,
     "metadata": {},
     "output_type": "execute_result"
    }
   ],
   "source": [
    "test_data = pd.read_csv(\"cleaned_input/test_consolidated.csv\")\n",
    "test_data.shape\n",
    "test_data = test_data.drop(['msno'], axis=1)\n",
    "test_data.shape"
   ]
  },
  {
   "cell_type": "code",
   "execution_count": 25,
   "metadata": {
    "collapsed": true
   },
   "outputs": [],
   "source": [
    "X_eval = test_data.drop(['is_churn'], axis=1)\n",
    "y_eval = test_data['is_churn']"
   ]
  },
  {
   "cell_type": "code",
   "execution_count": 4,
   "metadata": {
    "collapsed": false,
    "inputHidden": false,
    "outputHidden": false
   },
   "outputs": [],
   "source": [
    "#split data \n",
    "y = training_data[\"is_churn\"].values\n",
    "X = training_data.drop([\"is_churn\"], axis=1).values\n",
    "#replaced infinite values with zero. MAKE SURE THIS IS the right thing to do \n",
    "X[X == -inf] = 0\n",
    "X[X == inf] = 0\n",
    "\n",
    "X_train, X_test, y_train, y_test = train_test_split(X, y, test_size=.15, shuffle=True)"
   ]
  },
  {
   "cell_type": "code",
   "execution_count": 14,
   "metadata": {
    "collapsed": false,
    "inputHidden": false,
    "outputHidden": false
   },
   "outputs": [
    {
     "name": "stdout",
     "output_type": "stream",
     "text": [
      "Accuracy: -0.19 (+/- 0.1852)\n"
     ]
    },
    {
     "name": "stderr",
     "output_type": "stream",
     "text": [
      "/Users/James/anaconda/lib/python3.6/site-packages/sklearn/linear_model/base.py:340: RuntimeWarning: overflow encountered in exp\n",
      "  np.exp(prob, prob)\n"
     ]
    },
    {
     "name": "stdout",
     "output_type": "stream",
     "text": [
      "Accuracy: -0.56 (+/- 0.5516)\n",
      "Accuracy: -0.64 (+/- 0.2019)\n"
     ]
    },
    {
     "name": "stderr",
     "output_type": "stream",
     "text": [
      "/Users/James/anaconda/lib/python3.6/site-packages/sklearn/linear_model/base.py:340: RuntimeWarning: overflow encountered in exp\n",
      "  np.exp(prob, prob)\n"
     ]
    }
   ],
   "source": [
    "#logistic regression \n",
    "logistic_pipe = make_pipeline(LogisticRegression(solver='liblinear'))\n",
    "scores = cross_val_score(logistic_pipe, X_train, y_train, cv=5, scoring=\"neg_log_loss\")\n",
    "print(\"Accuracy: %0.2f (+/- %0.4f)\" % (scores.mean(), scores.std() * 2))\n",
    "\n",
    "#logistic regression w/ polynomial features 2   \n",
    "logistic_pipe = make_pipeline(PolynomialFeatures(degree=2), LogisticRegression(solver='liblinear'))\n",
    "scores = cross_val_score(logistic_pipe, X_train, y_train, cv=5, scoring=\"neg_log_loss\")\n",
    "print(\"Accuracy: %0.2f (+/- %0.4f)\" % (scores.mean(), scores.std() * 2))\n",
    "\n",
    "#logistic regression w/th PCA, Polynomial features \n",
    "logistic_pipe = make_pipeline(PCA(n_components=.95), PolynomialFeatures(degree=2), LogisticRegression(solver='liblinear'))\n",
    "scores = cross_val_score(logistic_pipe, X_train, y_train, cv=5, scoring=\"neg_log_loss\")\n",
    "print(\"Accuracy: %0.2f (+/- %0.4f)\" % (scores.mean(), scores.std() * 2))\n"
   ]
  },
  {
   "cell_type": "code",
   "execution_count": 26,
   "metadata": {
    "collapsed": false,
    "inputHidden": false,
    "outputHidden": false
   },
   "outputs": [
    {
     "name": "stdout",
     "output_type": "stream",
     "text": [
      "[1]\tcv_agg's binary_logloss: 0.683205 + 7.02056e-07\n",
      "[2]\tcv_agg's binary_logloss: 0.674365 + 4.31011e-06\n",
      "[3]\tcv_agg's binary_logloss: 0.664793 + 4.01808e-06\n",
      "[4]\tcv_agg's binary_logloss: 0.656204 + 1.20761e-05\n",
      "[5]\tcv_agg's binary_logloss: 0.646983 + 1.18647e-05\n",
      "[6]\tcv_agg's binary_logloss: 0.637936 + 1.19441e-05\n",
      "[7]\tcv_agg's binary_logloss: 0.629837 + 1.97076e-05\n",
      "[8]\tcv_agg's binary_logloss: 0.621113 + 1.97492e-05\n",
      "[9]\tcv_agg's binary_logloss: 0.612552 + 1.97746e-05\n",
      "[10]\tcv_agg's binary_logloss: 0.60415 + 1.9074e-05\n",
      "[11]\tcv_agg's binary_logloss: 0.596638 + 2.45492e-05\n",
      "[12]\tcv_agg's binary_logloss: 0.588525 + 2.42318e-05\n",
      "[13]\tcv_agg's binary_logloss: 0.580557 + 2.38439e-05\n",
      "[14]\tcv_agg's binary_logloss: 0.572732 + 2.34625e-05\n",
      "[15]\tcv_agg's binary_logloss: 0.565045 + 2.27962e-05\n",
      "[16]\tcv_agg's binary_logloss: 0.557493 + 2.24839e-05\n",
      "[17]\tcv_agg's binary_logloss: 0.550073 + 2.2261e-05\n",
      "[18]\tcv_agg's binary_logloss: 0.542782 + 2.2046e-05\n",
      "[19]\tcv_agg's binary_logloss: 0.535616 + 2.17188e-05\n",
      "[20]\tcv_agg's binary_logloss: 0.528572 + 2.15339e-05\n",
      "[21]\tcv_agg's binary_logloss: 0.521647 + 2.10807e-05\n",
      "[22]\tcv_agg's binary_logloss: 0.51484 + 2.06762e-05\n",
      "[23]\tcv_agg's binary_logloss: 0.508146 + 2.06163e-05\n",
      "[24]\tcv_agg's binary_logloss: 0.501563 + 2.02681e-05\n",
      "[25]\tcv_agg's binary_logloss: 0.495089 + 1.99796e-05\n",
      "[26]\tcv_agg's binary_logloss: 0.488719 + 1.98981e-05\n",
      "[27]\tcv_agg's binary_logloss: 0.482454 + 1.98561e-05\n",
      "[28]\tcv_agg's binary_logloss: 0.47629 + 1.99184e-05\n",
      "[29]\tcv_agg's binary_logloss: 0.470225 + 1.98677e-05\n",
      "[30]\tcv_agg's binary_logloss: 0.464257 + 1.97733e-05\n",
      "[31]\tcv_agg's binary_logloss: 0.458384 + 2.00228e-05\n",
      "[32]\tcv_agg's binary_logloss: 0.452604 + 1.9906e-05\n",
      "[33]\tcv_agg's binary_logloss: 0.447422 + 2.4578e-05\n",
      "[34]\tcv_agg's binary_logloss: 0.441813 + 2.47375e-05\n",
      "[35]\tcv_agg's binary_logloss: 0.436291 + 2.47089e-05\n",
      "[36]\tcv_agg's binary_logloss: 0.430854 + 2.46358e-05\n",
      "[37]\tcv_agg's binary_logloss: 0.4255 + 2.466e-05\n",
      "[38]\tcv_agg's binary_logloss: 0.420229 + 2.46765e-05\n",
      "[39]\tcv_agg's binary_logloss: 0.415037 + 2.45912e-05\n",
      "[40]\tcv_agg's binary_logloss: 0.409924 + 2.46192e-05\n",
      "[41]\tcv_agg's binary_logloss: 0.404887 + 2.43487e-05\n",
      "[42]\tcv_agg's binary_logloss: 0.399927 + 2.41166e-05\n",
      "[43]\tcv_agg's binary_logloss: 0.395039 + 2.38571e-05\n",
      "[44]\tcv_agg's binary_logloss: 0.390225 + 2.35529e-05\n",
      "[45]\tcv_agg's binary_logloss: 0.385481 + 2.3256e-05\n",
      "[46]\tcv_agg's binary_logloss: 0.380807 + 2.33539e-05\n",
      "[47]\tcv_agg's binary_logloss: 0.3762 + 2.34411e-05\n",
      "[48]\tcv_agg's binary_logloss: 0.371661 + 2.33934e-05\n",
      "[49]\tcv_agg's binary_logloss: 0.367595 + 2.51442e-05\n",
      "[50]\tcv_agg's binary_logloss: 0.36318 + 2.51518e-05\n",
      "[51]\tcv_agg's binary_logloss: 0.358829 + 2.52348e-05\n",
      "[52]\tcv_agg's binary_logloss: 0.354539 + 2.53409e-05\n",
      "[53]\tcv_agg's binary_logloss: 0.35031 + 2.54764e-05\n",
      "[54]\tcv_agg's binary_logloss: 0.346142 + 2.53876e-05\n",
      "[55]\tcv_agg's binary_logloss: 0.342032 + 2.55393e-05\n",
      "[56]\tcv_agg's binary_logloss: 0.337979 + 2.52749e-05\n",
      "[57]\tcv_agg's binary_logloss: 0.333984 + 2.50038e-05\n",
      "[58]\tcv_agg's binary_logloss: 0.330043 + 2.51702e-05\n",
      "[59]\tcv_agg's binary_logloss: 0.326158 + 2.52639e-05\n",
      "[60]\tcv_agg's binary_logloss: 0.322326 + 2.50802e-05\n",
      "[61]\tcv_agg's binary_logloss: 0.318547 + 2.52549e-05\n",
      "[62]\tcv_agg's binary_logloss: 0.31482 + 2.5429e-05\n",
      "[63]\tcv_agg's binary_logloss: 0.311144 + 2.53165e-05\n",
      "[64]\tcv_agg's binary_logloss: 0.307518 + 2.50512e-05\n",
      "[65]\tcv_agg's binary_logloss: 0.303941 + 2.5262e-05\n",
      "[66]\tcv_agg's binary_logloss: 0.300412 + 2.52152e-05\n",
      "[67]\tcv_agg's binary_logloss: 0.29725 + 2.75107e-05\n",
      "[68]\tcv_agg's binary_logloss: 0.294134 + 2.9772e-05\n",
      "[69]\tcv_agg's binary_logloss: 0.290736 + 2.96123e-05\n",
      "[70]\tcv_agg's binary_logloss: 0.287384 + 2.94967e-05\n",
      "[71]\tcv_agg's binary_logloss: 0.284076 + 2.95148e-05\n",
      "[72]\tcv_agg's binary_logloss: 0.280812 + 2.94397e-05\n",
      "[73]\tcv_agg's binary_logloss: 0.277591 + 2.95402e-05\n",
      "[74]\tcv_agg's binary_logloss: 0.274412 + 2.94733e-05\n",
      "[75]\tcv_agg's binary_logloss: 0.271275 + 2.94091e-05\n",
      "[76]\tcv_agg's binary_logloss: 0.268179 + 2.96247e-05\n",
      "[77]\tcv_agg's binary_logloss: 0.265124 + 2.99777e-05\n",
      "[78]\tcv_agg's binary_logloss: 0.262108 + 2.99026e-05\n",
      "[79]\tcv_agg's binary_logloss: 0.259132 + 2.96858e-05\n",
      "[80]\tcv_agg's binary_logloss: 0.256194 + 2.97744e-05\n",
      "[81]\tcv_agg's binary_logloss: 0.253293 + 2.96146e-05\n",
      "[82]\tcv_agg's binary_logloss: 0.25043 + 2.97074e-05\n",
      "[83]\tcv_agg's binary_logloss: 0.247603 + 2.98208e-05\n",
      "[84]\tcv_agg's binary_logloss: 0.244813 + 2.96547e-05\n",
      "[85]\tcv_agg's binary_logloss: 0.242058 + 2.9773e-05\n",
      "[86]\tcv_agg's binary_logloss: 0.239338 + 2.9577e-05\n",
      "[87]\tcv_agg's binary_logloss: 0.236652 + 2.92969e-05\n",
      "[88]\tcv_agg's binary_logloss: 0.234 + 2.90114e-05\n",
      "[89]\tcv_agg's binary_logloss: 0.231382 + 2.88528e-05\n",
      "[90]\tcv_agg's binary_logloss: 0.228796 + 2.87871e-05\n",
      "[91]\tcv_agg's binary_logloss: 0.226243 + 2.89348e-05\n",
      "[92]\tcv_agg's binary_logloss: 0.223722 + 2.87507e-05\n",
      "[93]\tcv_agg's binary_logloss: 0.221232 + 2.88572e-05\n",
      "[94]\tcv_agg's binary_logloss: 0.218774 + 2.86772e-05\n",
      "[95]\tcv_agg's binary_logloss: 0.216574 + 2.98307e-05\n",
      "[96]\tcv_agg's binary_logloss: 0.214173 + 2.99194e-05\n",
      "[97]\tcv_agg's binary_logloss: 0.211801 + 2.96877e-05\n",
      "[98]\tcv_agg's binary_logloss: 0.209459 + 2.97675e-05\n",
      "[99]\tcv_agg's binary_logloss: 0.207145 + 2.9898e-05\n",
      "[100]\tcv_agg's binary_logloss: 0.20486 + 2.98069e-05\n",
      "[101]\tcv_agg's binary_logloss: 0.202603 + 2.98436e-05\n",
      "[102]\tcv_agg's binary_logloss: 0.200373 + 2.99197e-05\n",
      "[103]\tcv_agg's binary_logloss: 0.198171 + 3.00751e-05\n",
      "[104]\tcv_agg's binary_logloss: 0.196202 + 3.07386e-05\n",
      "[105]\tcv_agg's binary_logloss: 0.19405 + 3.07883e-05\n",
      "[106]\tcv_agg's binary_logloss: 0.191925 + 3.05462e-05\n",
      "[107]\tcv_agg's binary_logloss: 0.189825 + 3.0407e-05\n",
      "[108]\tcv_agg's binary_logloss: 0.187749 + 3.0216e-05\n",
      "[109]\tcv_agg's binary_logloss: 0.185898 + 3.1306e-05\n",
      "[110]\tcv_agg's binary_logloss: 0.18387 + 3.10591e-05\n",
      "[111]\tcv_agg's binary_logloss: 0.181867 + 3.09874e-05\n",
      "[112]\tcv_agg's binary_logloss: 0.179887 + 3.0792e-05\n",
      "[113]\tcv_agg's binary_logloss: 0.177931 + 3.07432e-05\n",
      "[114]\tcv_agg's binary_logloss: 0.175998 + 3.05512e-05\n",
      "[115]\tcv_agg's binary_logloss: 0.174088 + 3.04153e-05\n",
      "[116]\tcv_agg's binary_logloss: 0.172385 + 3.1266e-05\n",
      "[117]\tcv_agg's binary_logloss: 0.170518 + 3.13739e-05\n",
      "[118]\tcv_agg's binary_logloss: 0.168673 + 3.12235e-05\n",
      "[119]\tcv_agg's binary_logloss: 0.166849 + 3.11649e-05\n",
      "[120]\tcv_agg's binary_logloss: 0.165047 + 3.10687e-05\n",
      "[121]\tcv_agg's binary_logloss: 0.163266 + 3.1013e-05\n",
      "[122]\tcv_agg's binary_logloss: 0.161506 + 3.11516e-05\n",
      "[123]\tcv_agg's binary_logloss: 0.159767 + 3.10553e-05\n",
      "[124]\tcv_agg's binary_logloss: 0.158049 + 3.10817e-05\n",
      "[125]\tcv_agg's binary_logloss: 0.15635 + 3.09518e-05\n",
      "[126]\tcv_agg's binary_logloss: 0.154671 + 3.08758e-05\n",
      "[127]\tcv_agg's binary_logloss: 0.15301 + 3.05778e-05\n",
      "[128]\tcv_agg's binary_logloss: 0.15137 + 3.03906e-05\n",
      "[129]\tcv_agg's binary_logloss: 0.149749 + 3.03755e-05\n",
      "[130]\tcv_agg's binary_logloss: 0.148146 + 3.04122e-05\n",
      "[131]\tcv_agg's binary_logloss: 0.146562 + 3.02766e-05\n",
      "[132]\tcv_agg's binary_logloss: 0.144996 + 3.00836e-05\n",
      "[133]\tcv_agg's binary_logloss: 0.143449 + 3.00362e-05\n",
      "[134]\tcv_agg's binary_logloss: 0.141919 + 2.9934e-05\n",
      "[135]\tcv_agg's binary_logloss: 0.140406 + 2.97549e-05\n",
      "[136]\tcv_agg's binary_logloss: 0.139059 + 3.02444e-05\n",
      "[137]\tcv_agg's binary_logloss: 0.137579 + 3.03592e-05\n",
      "[138]\tcv_agg's binary_logloss: 0.136116 + 3.04605e-05\n",
      "[139]\tcv_agg's binary_logloss: 0.13467 + 3.06523e-05\n",
      "[140]\tcv_agg's binary_logloss: 0.13324 + 3.08392e-05\n",
      "[141]\tcv_agg's binary_logloss: 0.131826 + 3.08053e-05\n",
      "[142]\tcv_agg's binary_logloss: 0.130429 + 3.06161e-05\n",
      "[143]\tcv_agg's binary_logloss: 0.129047 + 3.04054e-05\n",
      "[144]\tcv_agg's binary_logloss: 0.127682 + 3.02535e-05\n",
      "[145]\tcv_agg's binary_logloss: 0.126331 + 3.01131e-05\n",
      "[146]\tcv_agg's binary_logloss: 0.124996 + 3.00982e-05\n",
      "[147]\tcv_agg's binary_logloss: 0.123676 + 2.99666e-05\n",
      "[148]\tcv_agg's binary_logloss: 0.122371 + 2.97438e-05\n",
      "[149]\tcv_agg's binary_logloss: 0.12121 + 3.01992e-05\n",
      "[150]\tcv_agg's binary_logloss: 0.120062 + 3.06561e-05\n",
      "[151]\tcv_agg's binary_logloss: 0.118928 + 3.11271e-05\n",
      "[152]\tcv_agg's binary_logloss: 0.117676 + 3.09693e-05\n",
      "[153]\tcv_agg's binary_logloss: 0.116438 + 3.08599e-05\n",
      "[154]\tcv_agg's binary_logloss: 0.115213 + 3.07311e-05\n",
      "[155]\tcv_agg's binary_logloss: 0.114003 + 3.06698e-05\n",
      "[156]\tcv_agg's binary_logloss: 0.112806 + 3.06266e-05\n",
      "[157]\tcv_agg's binary_logloss: 0.111623 + 3.07682e-05\n",
      "[158]\tcv_agg's binary_logloss: 0.110574 + 3.11783e-05\n",
      "[159]\tcv_agg's binary_logloss: 0.109416 + 3.12751e-05\n",
      "[160]\tcv_agg's binary_logloss: 0.108391 + 3.16767e-05\n",
      "[161]\tcv_agg's binary_logloss: 0.107257 + 3.18112e-05\n",
      "[162]\tcv_agg's binary_logloss: 0.106135 + 3.17317e-05\n",
      "[163]\tcv_agg's binary_logloss: 0.105025 + 3.17679e-05\n",
      "[164]\tcv_agg's binary_logloss: 0.103927 + 3.18285e-05\n",
      "[165]\tcv_agg's binary_logloss: 0.102842 + 3.18578e-05\n",
      "[166]\tcv_agg's binary_logloss: 0.101769 + 3.15212e-05\n",
      "[167]\tcv_agg's binary_logloss: 0.100707 + 3.13406e-05\n",
      "[168]\tcv_agg's binary_logloss: 0.0996573 + 3.12468e-05\n",
      "[169]\tcv_agg's binary_logloss: 0.098619 + 3.14198e-05\n",
      "[170]\tcv_agg's binary_logloss: 0.0975922 + 3.0992e-05\n",
      "[171]\tcv_agg's binary_logloss: 0.0965765 + 3.11467e-05\n",
      "[172]\tcv_agg's binary_logloss: 0.0955718 + 3.13038e-05\n",
      "[173]\tcv_agg's binary_logloss: 0.0945784 + 3.11805e-05\n",
      "[174]\tcv_agg's binary_logloss: 0.0935957 + 3.13614e-05\n",
      "[175]\tcv_agg's binary_logloss: 0.0927278 + 3.15288e-05\n",
      "[176]\tcv_agg's binary_logloss: 0.0917656 + 3.15239e-05\n",
      "[177]\tcv_agg's binary_logloss: 0.0908139 + 3.15158e-05\n",
      "[178]\tcv_agg's binary_logloss: 0.0898722 + 3.14894e-05\n",
      "[179]\tcv_agg's binary_logloss: 0.0889412 + 3.16068e-05\n",
      "[180]\tcv_agg's binary_logloss: 0.0880203 + 3.17593e-05\n",
      "[181]\tcv_agg's binary_logloss: 0.087109 + 3.18367e-05\n",
      "[182]\tcv_agg's binary_logloss: 0.0862081 + 3.20217e-05\n",
      "[183]\tcv_agg's binary_logloss: 0.085317 + 3.16574e-05\n",
      "[184]\tcv_agg's binary_logloss: 0.0844356 + 3.16329e-05\n",
      "[185]\tcv_agg's binary_logloss: 0.0835635 + 3.16184e-05\n",
      "[186]\tcv_agg's binary_logloss: 0.0827007 + 3.16911e-05\n",
      "[187]\tcv_agg's binary_logloss: 0.0818473 + 3.17778e-05\n",
      "[188]\tcv_agg's binary_logloss: 0.081003 + 3.19811e-05\n",
      "[189]\tcv_agg's binary_logloss: 0.0802582 + 3.22176e-05\n",
      "[190]\tcv_agg's binary_logloss: 0.079431 + 3.22954e-05\n",
      "[191]\tcv_agg's binary_logloss: 0.0786126 + 3.2328e-05\n",
      "[192]\tcv_agg's binary_logloss: 0.0778033 + 3.24411e-05\n",
      "[193]\tcv_agg's binary_logloss: 0.0770025 + 3.24309e-05\n",
      "[194]\tcv_agg's binary_logloss: 0.0762103 + 3.25077e-05\n",
      "[195]\tcv_agg's binary_logloss: 0.0754265 + 3.25182e-05\n",
      "[196]\tcv_agg's binary_logloss: 0.074651 + 3.26983e-05\n",
      "[197]\tcv_agg's binary_logloss: 0.0738838 + 3.28665e-05\n",
      "[198]\tcv_agg's binary_logloss: 0.0731252 + 3.28498e-05\n",
      "[199]\tcv_agg's binary_logloss: 0.0723746 + 3.29178e-05\n",
      "[200]\tcv_agg's binary_logloss: 0.071632 + 3.29399e-05\n",
      "[201]\tcv_agg's binary_logloss: 0.0708976 + 3.29771e-05\n",
      "[202]\tcv_agg's binary_logloss: 0.070171 + 3.27995e-05\n",
      "[203]\tcv_agg's binary_logloss: 0.069452 + 3.25811e-05\n",
      "[204]\tcv_agg's binary_logloss: 0.068819 + 3.26119e-05\n",
      "[205]\tcv_agg's binary_logloss: 0.0681146 + 3.25037e-05\n",
      "[206]\tcv_agg's binary_logloss: 0.0674175 + 3.26302e-05\n",
      "[207]\tcv_agg's binary_logloss: 0.0668048 + 3.26866e-05\n",
      "[208]\tcv_agg's binary_logloss: 0.0661218 + 3.27177e-05\n",
      "[209]\tcv_agg's binary_logloss: 0.0654459 + 3.28977e-05\n",
      "[210]\tcv_agg's binary_logloss: 0.0647774 + 3.30447e-05\n",
      "[211]\tcv_agg's binary_logloss: 0.0641905 + 3.30393e-05\n",
      "[212]\tcv_agg's binary_logloss: 0.0635353 + 3.31459e-05\n",
      "[213]\tcv_agg's binary_logloss: 0.0628869 + 3.31685e-05\n",
      "[214]\tcv_agg's binary_logloss: 0.0622455 + 3.31989e-05\n",
      "[215]\tcv_agg's binary_logloss: 0.0616108 + 3.31782e-05\n",
      "[216]\tcv_agg's binary_logloss: 0.0609828 + 3.28788e-05\n",
      "[217]\tcv_agg's binary_logloss: 0.0603617 + 3.26293e-05\n",
      "[218]\tcv_agg's binary_logloss: 0.0597471 + 3.23945e-05\n",
      "[219]\tcv_agg's binary_logloss: 0.059139 + 3.22006e-05\n",
      "[220]\tcv_agg's binary_logloss: 0.0586059 + 3.23188e-05\n",
      "[221]\tcv_agg's binary_logloss: 0.0580098 + 3.22723e-05\n",
      "[222]\tcv_agg's binary_logloss: 0.0574199 + 3.22208e-05\n",
      "[223]\tcv_agg's binary_logloss: 0.0568361 + 3.20577e-05\n",
      "[224]\tcv_agg's binary_logloss: 0.0562586 + 3.19702e-05\n",
      "[225]\tcv_agg's binary_logloss: 0.0556871 + 3.18147e-05\n",
      "[226]\tcv_agg's binary_logloss: 0.0551215 + 3.19751e-05\n",
      "[227]\tcv_agg's binary_logloss: 0.0545618 + 3.23369e-05\n",
      "[228]\tcv_agg's binary_logloss: 0.054008 + 3.27356e-05\n",
      "[229]\tcv_agg's binary_logloss: 0.0535237 + 3.28622e-05\n",
      "[230]\tcv_agg's binary_logloss: 0.0529809 + 3.28375e-05\n",
      "[231]\tcv_agg's binary_logloss: 0.0524442 + 3.29402e-05\n",
      "[232]\tcv_agg's binary_logloss: 0.0519131 + 3.29668e-05\n",
      "[233]\tcv_agg's binary_logloss: 0.0513876 + 3.31034e-05\n",
      "[234]\tcv_agg's binary_logloss: 0.0508677 + 3.32562e-05\n",
      "[235]\tcv_agg's binary_logloss: 0.0503531 + 3.34024e-05\n",
      "[236]\tcv_agg's binary_logloss: 0.0498434 + 3.33923e-05\n",
      "[237]\tcv_agg's binary_logloss: 0.0493395 + 3.34587e-05\n",
      "[238]\tcv_agg's binary_logloss: 0.0488403 + 3.33595e-05\n",
      "[239]\tcv_agg's binary_logloss: 0.0483465 + 3.32273e-05\n",
      "[240]\tcv_agg's binary_logloss: 0.0478577 + 3.30847e-05\n",
      "[241]\tcv_agg's binary_logloss: 0.047374 + 3.33247e-05\n",
      "[242]\tcv_agg's binary_logloss: 0.0468958 + 3.34195e-05\n",
      "[243]\tcv_agg's binary_logloss: 0.0464225 + 3.32534e-05\n",
      "[244]\tcv_agg's binary_logloss: 0.045954 + 3.35124e-05\n",
      "[245]\tcv_agg's binary_logloss: 0.0455447 + 3.3502e-05\n",
      "[246]\tcv_agg's binary_logloss: 0.0450851 + 3.38564e-05\n",
      "[247]\tcv_agg's binary_logloss: 0.0446844 + 3.38588e-05\n",
      "[248]\tcv_agg's binary_logloss: 0.0442339 + 3.41372e-05\n",
      "[249]\tcv_agg's binary_logloss: 0.0437881 + 3.42604e-05\n",
      "[250]\tcv_agg's binary_logloss: 0.0433468 + 3.44331e-05\n",
      "[251]\tcv_agg's binary_logloss: 0.0429105 + 3.4303e-05\n",
      "[252]\tcv_agg's binary_logloss: 0.0424788 + 3.42983e-05\n",
      "[253]\tcv_agg's binary_logloss: 0.0421026 + 3.42914e-05\n",
      "[254]\tcv_agg's binary_logloss: 0.0416789 + 3.42895e-05\n",
      "[255]\tcv_agg's binary_logloss: 0.0412597 + 3.42636e-05\n",
      "[256]\tcv_agg's binary_logloss: 0.0408448 + 3.43479e-05\n",
      "[257]\tcv_agg's binary_logloss: 0.040434 + 3.45389e-05\n",
      "[258]\tcv_agg's binary_logloss: 0.0400276 + 3.47514e-05\n",
      "[259]\tcv_agg's binary_logloss: 0.0396254 + 3.48345e-05\n",
      "[260]\tcv_agg's binary_logloss: 0.0392273 + 3.48814e-05\n",
      "[261]\tcv_agg's binary_logloss: 0.0388336 + 3.50893e-05\n",
      "[262]\tcv_agg's binary_logloss: 0.0384439 + 3.54295e-05\n",
      "[263]\tcv_agg's binary_logloss: 0.0380583 + 3.56171e-05\n",
      "[264]\tcv_agg's binary_logloss: 0.0376767 + 3.58196e-05\n",
      "[265]\tcv_agg's binary_logloss: 0.0372991 + 3.61035e-05\n",
      "[266]\tcv_agg's binary_logloss: 0.0369251 + 3.60386e-05\n",
      "[267]\tcv_agg's binary_logloss: 0.036555 + 3.61052e-05\n",
      "[268]\tcv_agg's binary_logloss: 0.0361889 + 3.60649e-05\n",
      "[269]\tcv_agg's binary_logloss: 0.0358265 + 3.60532e-05\n",
      "[270]\tcv_agg's binary_logloss: 0.0355116 + 3.59801e-05\n",
      "[271]\tcv_agg's binary_logloss: 0.0352 + 3.59903e-05\n",
      "[272]\tcv_agg's binary_logloss: 0.0348919 + 3.60443e-05\n",
      "[273]\tcv_agg's binary_logloss: 0.0345428 + 3.59949e-05\n",
      "[274]\tcv_agg's binary_logloss: 0.0341971 + 3.59793e-05\n",
      "[275]\tcv_agg's binary_logloss: 0.0338551 + 3.60333e-05\n",
      "[276]\tcv_agg's binary_logloss: 0.0335166 + 3.60613e-05\n",
      "[277]\tcv_agg's binary_logloss: 0.0331818 + 3.61058e-05\n",
      "[278]\tcv_agg's binary_logloss: 0.0328923 + 3.60921e-05\n",
      "[279]\tcv_agg's binary_logloss: 0.0325638 + 3.61421e-05\n",
      "[280]\tcv_agg's binary_logloss: 0.0322387 + 3.64837e-05\n",
      "[281]\tcv_agg's binary_logloss: 0.0319169 + 3.65622e-05\n",
      "[282]\tcv_agg's binary_logloss: 0.0315985 + 3.68139e-05\n",
      "[283]\tcv_agg's binary_logloss: 0.0312836 + 3.69917e-05\n",
      "[284]\tcv_agg's binary_logloss: 0.0309716 + 3.71577e-05\n",
      "[285]\tcv_agg's binary_logloss: 0.030663 + 3.73122e-05\n",
      "[286]\tcv_agg's binary_logloss: 0.0303575 + 3.73233e-05\n",
      "[287]\tcv_agg's binary_logloss: 0.030055 + 3.76362e-05\n",
      "[288]\tcv_agg's binary_logloss: 0.0297556 + 3.76313e-05\n",
      "[289]\tcv_agg's binary_logloss: 0.0294975 + 3.76606e-05\n",
      "[290]\tcv_agg's binary_logloss: 0.0292038 + 3.79834e-05\n",
      "[291]\tcv_agg's binary_logloss: 0.0289133 + 3.79316e-05\n",
      "[292]\tcv_agg's binary_logloss: 0.0286259 + 3.78818e-05\n",
      "[293]\tcv_agg's binary_logloss: 0.0283782 + 3.78711e-05\n",
      "[294]\tcv_agg's binary_logloss: 0.0280963 + 3.78693e-05\n",
      "[295]\tcv_agg's binary_logloss: 0.0278168 + 3.80563e-05\n",
      "[296]\tcv_agg's binary_logloss: 0.0275403 + 3.83308e-05\n",
      "[297]\tcv_agg's binary_logloss: 0.0272668 + 3.85617e-05\n",
      "[298]\tcv_agg's binary_logloss: 0.0269959 + 3.8555e-05\n",
      "[299]\tcv_agg's binary_logloss: 0.0267279 + 3.87693e-05\n",
      "[300]\tcv_agg's binary_logloss: 0.0264627 + 3.90124e-05\n"
     ]
    }
   ],
   "source": [
    "#Light GBM \n",
    "# create dataset for lightgbm\n",
    "# if you want to re-use data, remember to set free_raw_data=False\n",
    "lgb_train = lgb.Dataset(X_train, y_train, free_raw_data=False)\n",
    "lgb_eval = lgb.Dataset(X_test, y_test, reference=lgb_train,free_raw_data=False)\n",
    "\n",
    "\n",
    "# specify your configurations as a dict\n",
    "params = {\n",
    "    'boosting_type': 'gbdt',\n",
    "    'objective': 'binary',\n",
    "    'metric': 'binary_logloss',\n",
    "    'num_leaves': 16,\n",
    "    'learning_rate': 0.01,\n",
    "    'feature_fraction': 0.9,\n",
    "    'bagging_fraction': 0.8,\n",
    "    'bagging_freq': 5,\n",
    "    'verbose': 0,\n",
    "    'num_threads': 3\n",
    "}\n",
    "# generate a feature name\n",
    "feature_name = X_train.dtype.names\n",
    "\n",
    "#cross validation\n",
    "num_round = 200\n",
    "scores = lgb.cv(params, lgb_train, num_round, nfold=5, verbose_eval=True)"
   ]
  },
  {
   "cell_type": "code",
   "execution_count": 22,
   "metadata": {
    "collapsed": false
   },
   "outputs": [],
   "source": [
    "model = lgb.train(params, lgb_train, num_boost_round=200)\n",
    "\n",
    "#Prediction\n",
    "y_pred=model.predict(X_test)\n"
   ]
  },
  {
   "cell_type": "code",
   "execution_count": 23,
   "metadata": {
    "collapsed": false
   },
   "outputs": [
    {
     "name": "stdout",
     "output_type": "stream",
     "text": [
      "0.0718077573718\n",
      "0.999696261374\n"
     ]
    }
   ],
   "source": [
    "log_loss_score = log_loss(y_test, y_pred)\n",
    "print(log_loss_score)\n",
    "\n",
    "#convert into binary values\n",
    "for i in range(0, len(y_pred)):\n",
    "    if y_pred[i]>=.5:       # setting threshold to .5\n",
    "        y_pred[i]=1\n",
    "    else:  \n",
    "        y_pred[i]=0\n",
    "\n",
    "from sklearn.metrics import accuracy_score\n",
    "accuracy=accuracy_score(y_pred,y_test)\n",
    "print(accuracy)"
   ]
  },
  {
   "cell_type": "code",
   "execution_count": null,
   "metadata": {
    "collapsed": true
   },
   "outputs": [],
   "source": []
  },
  {
   "cell_type": "code",
   "execution_count": null,
   "metadata": {
    "collapsed": false,
    "inputHidden": false,
    "outputHidden": false
   },
   "outputs": [],
   "source": [
    "print('Start training...')\n",
    "# feature_name and categorical_feature\n",
    "gbm = lgb.train(params,\n",
    "                lgb_train,\n",
    "                num_boost_round=50,\n",
    "                valid_sets=lgb_train,  # eval training data\n",
    "              )"
   ]
  },
  {
   "cell_type": "code",
   "execution_count": null,
   "metadata": {
    "collapsed": false,
    "inputHidden": false,
    "outputHidden": false
   },
   "outputs": [],
   "source": [
    "print(\"--------------------------------------------------------------\")\n",
    "ypred = gbm.predict(X_test)\n",
    "print(log_loss(y_test, ypred))\n",
    "# save model to file\n",
    "gbm.save_model('model.txt')\n",
    "\n",
    "# feature names\n",
    "print('Feature names:', gbm.feature_name())\n",
    "\n",
    "# feature importances\n",
    "print('Feature importances:', list(gbm.feature_importance()))"
   ]
  },
  {
   "cell_type": "code",
   "execution_count": 23,
   "metadata": {
    "collapsed": false,
    "inputHidden": false,
    "outputHidden": false
   },
   "outputs": [
    {
     "name": "stdout",
     "output_type": "stream",
     "text": [
      "[0]\ttrain-logloss:0.673348\tvalid-logloss:0.673348\ttrain-log_loss:0.673348\tvalid-log_loss:0.673348\n",
      "Multiple eval metrics have been passed: 'valid-log_loss' will be used for early stopping.\n",
      "\n",
      "Will train until valid-log_loss hasn't improved in 50 rounds.\n",
      "[50]\ttrain-logloss:0.197725\tvalid-logloss:0.197725\ttrain-log_loss:0.197725\tvalid-log_loss:0.197725\n",
      "[100]\ttrain-logloss:0.06819\tvalid-logloss:0.06819\ttrain-log_loss:0.06819\tvalid-log_loss:0.06819\n",
      "[149]\ttrain-logloss:0.025042\tvalid-logloss:0.025042\ttrain-log_loss:0.025042\tvalid-log_loss:0.025042\n"
     ]
    },
    {
     "ename": "NameError",
     "evalue": "name 'test' is not defined",
     "output_type": "error",
     "traceback": [
      "\u001b[0;31m---------------------------------------------------------------------------\u001b[0m",
      "\u001b[0;31mNameError\u001b[0m                                 Traceback (most recent call last)",
      "\u001b[0;32m<ipython-input-23-160764157d55>\u001b[0m in \u001b[0;36m<module>\u001b[0;34m()\u001b[0m\n\u001b[1;32m     20\u001b[0m         \u001b[0mpred\u001b[0m \u001b[0;34m+=\u001b[0m \u001b[0mmodel\u001b[0m\u001b[0;34m.\u001b[0m\u001b[0mpredict\u001b[0m\u001b[0;34m(\u001b[0m\u001b[0mxgb\u001b[0m\u001b[0;34m.\u001b[0m\u001b[0mDMatrix\u001b[0m\u001b[0;34m(\u001b[0m\u001b[0mtest\u001b[0m\u001b[0;34m[\u001b[0m\u001b[0mcols\u001b[0m\u001b[0;34m]\u001b[0m\u001b[0;34m)\u001b[0m\u001b[0;34m,\u001b[0m \u001b[0mntree_limit\u001b[0m\u001b[0;34m=\u001b[0m\u001b[0mmodel\u001b[0m\u001b[0;34m.\u001b[0m\u001b[0mbest_ntree_limit\u001b[0m\u001b[0;34m)\u001b[0m\u001b[0;34m\u001b[0m\u001b[0m\n\u001b[1;32m     21\u001b[0m     \u001b[0;32melse\u001b[0m\u001b[0;34m:\u001b[0m\u001b[0;34m\u001b[0m\u001b[0m\n\u001b[0;32m---> 22\u001b[0;31m         \u001b[0mpred\u001b[0m \u001b[0;34m=\u001b[0m \u001b[0mmodel\u001b[0m\u001b[0;34m.\u001b[0m\u001b[0mpredict\u001b[0m\u001b[0;34m(\u001b[0m\u001b[0mxgb\u001b[0m\u001b[0;34m.\u001b[0m\u001b[0mDMatrix\u001b[0m\u001b[0;34m(\u001b[0m\u001b[0mtest\u001b[0m\u001b[0;34m[\u001b[0m\u001b[0mcols\u001b[0m\u001b[0;34m]\u001b[0m\u001b[0;34m)\u001b[0m\u001b[0;34m,\u001b[0m \u001b[0mntree_limit\u001b[0m\u001b[0;34m=\u001b[0m\u001b[0mmodel\u001b[0m\u001b[0;34m.\u001b[0m\u001b[0mbest_ntree_limit\u001b[0m\u001b[0;34m)\u001b[0m\u001b[0;34m\u001b[0m\u001b[0m\n\u001b[0m\u001b[1;32m     23\u001b[0m \u001b[0mpred\u001b[0m \u001b[0;34m/=\u001b[0m \u001b[0mfold\u001b[0m\u001b[0;34m\u001b[0m\u001b[0m\n\u001b[1;32m     24\u001b[0m \u001b[0mtest\u001b[0m\u001b[0;34m[\u001b[0m\u001b[0;34m'is_churn'\u001b[0m\u001b[0;34m]\u001b[0m \u001b[0;34m=\u001b[0m \u001b[0mpred\u001b[0m\u001b[0;34m.\u001b[0m\u001b[0mclip\u001b[0m\u001b[0;34m(\u001b[0m\u001b[0;36m0.0000001\u001b[0m\u001b[0;34m,\u001b[0m \u001b[0;36m0.999999\u001b[0m\u001b[0;34m)\u001b[0m\u001b[0;34m\u001b[0m\u001b[0m\n",
      "\u001b[0;31mNameError\u001b[0m: name 'test' is not defined"
     ]
    }
   ],
   "source": [
    "from sklearn import metrics\n",
    "\n",
    "def xgb_score(preds, dtrain):\n",
    "    labels = dtrain.get_label()\n",
    "    return 'log_loss', metrics.log_loss(labels, preds)\n",
    "\n",
    "fold = 1\n",
    "for i in range(fold):\n",
    "    params = {\n",
    "        'eta': 0.02, #use 0.002\n",
    "        'max_depth': 7,\n",
    "        'objective': 'binary:logistic',\n",
    "        'eval_metric': 'logloss',\n",
    "        'seed': i,\n",
    "        'silent': False\n",
    "    }\n",
    "    watchlist = [(xgb.DMatrix(X_train, y_train), 'train'), (xgb.DMatrix(X_test, y_test), 'valid')]\n",
    "    model = xgb.train(params, xgb.DMatrix(X_train, y_train), 150,  watchlist, feval=xgb_score, maximize=False, verbose_eval=50, early_stopping_rounds=50) #use 1500\n",
    "    if i != 0:\n",
    "        pred += model.predict(xgb.DMatrix(test[cols]), ntree_limit=model.best_ntree_limit)\n",
    "    else:\n",
    "        pred = model.predict(xgb.DMatrix(test[cols]), ntree_limit=model.best_ntree_limit)\n",
    "pred /= fold\n",
    "test['is_churn'] = pred.clip(0.0000001, 0.999999)\n",
    "test[['msno','is_churn']].to_csv('submission3.csv.gz', index=False, compression='gzip')"
   ]
  },
  {
   "cell_type": "code",
   "execution_count": null,
   "metadata": {
    "collapsed": true
   },
   "outputs": [],
   "source": []
  }
 ],
 "metadata": {
  "kernel_info": {
   "name": "python3"
  },
  "kernelspec": {
   "display_name": "Python 3",
   "language": "python",
   "name": "python3"
  },
  "language_info": {
   "codemirror_mode": {
    "name": "ipython",
    "version": 3
   },
   "file_extension": ".py",
   "mimetype": "text/x-python",
   "name": "python",
   "nbconvert_exporter": "python",
   "pygments_lexer": "ipython3",
   "version": "3.6.0"
  },
  "nteract": {
   "version": "0.3.4"
  }
 },
 "nbformat": 4,
 "nbformat_minor": 4
}
