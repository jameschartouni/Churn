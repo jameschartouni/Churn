{
 "cells": [
  {
   "cell_type": "code",
   "execution_count": 1,
   "metadata": {
    "_cell_guid": "af3f4ac0-5844-4311-b11c-fc0f88c7a38b",
    "_uuid": "0cf4bc19a85005719fdc06f5b03bbb1b2b72a826",
    "collapsed": false
   },
   "outputs": [],
   "source": [
    "# This Python 3 environment comes with many helpful analytics libraries installed\n",
    "# It is defined by the kaggle/python docker image: https://github.com/kaggle/docker-python\n",
    "# For example, here's several helpful packages to load in \n",
    "\n",
    "import numpy as np # linear algebra\n",
    "import pandas as pd # data processing, CSV file I/O (e.g. pd.read_csv)\n",
    "import matplotlib.pyplot as plt\n",
    "from sklearn.model_selection import learning_curve\n",
    "\n",
    "data = pd.read_csv(\"cleaned_input/train_consolidated.csv\")"
   ]
  },
  {
   "cell_type": "code",
   "execution_count": 2,
   "metadata": {
    "collapsed": false
   },
   "outputs": [
    {
     "data": {
      "text/plain": [
       "(504818, 124)"
      ]
     },
     "execution_count": 2,
     "metadata": {},
     "output_type": "execute_result"
    }
   ],
   "source": [
    "data.head()\n",
    "data = data.drop([\"msno\", \"Unnamed: 0\"], axis=1)\n",
    "data.shape"
   ]
  },
  {
   "cell_type": "code",
   "execution_count": 3,
   "metadata": {
    "_cell_guid": "3231f181-eb3e-44c9-a045-c703d712af1d",
    "_uuid": "b39c6161209b03a18a00229b3a6d0b0f3a393974",
    "collapsed": true
   },
   "outputs": [],
   "source": [
    "#data = pd.DataFrame([[1,2,3,5,6,7,8,9],[1,3,9,7,5,4,5,7]], columns=['a','b','c','d','e','f','g','is_churn'])"
   ]
  },
  {
   "cell_type": "code",
   "execution_count": 4,
   "metadata": {
    "_cell_guid": "015a6f1b-0166-4770-957f-2626d640e602",
    "_uuid": "6aeb8e79c355d9a4ee532a8fce8ee85cd7368bf1",
    "collapsed": true
   },
   "outputs": [],
   "source": [
    "model_data = data.sample(frac=.1)"
   ]
  },
  {
   "cell_type": "code",
   "execution_count": 5,
   "metadata": {
    "collapsed": true
   },
   "outputs": [],
   "source": [
    "X_train = model_data.drop(['is_churn'], axis=1);\n",
    "y_train = model_data['is_churn'];"
   ]
  },
  {
   "cell_type": "code",
   "execution_count": 6,
   "metadata": {
    "collapsed": false
   },
   "outputs": [
    {
     "data": {
      "text/plain": [
       "trans_count                    False\n",
       "date_min                       False\n",
       "date_max                       False\n",
       "date_count                     False\n",
       "num_25_sum                     False\n",
       "num_50_sum                     False\n",
       "num_75_sum                     False\n",
       "num_985_sum                    False\n",
       "num_100_sum                    False\n",
       "num_unq_sum                    False\n",
       "total_secs_sum                 False\n",
       "Unnamed: 0.1.1                  True\n",
       "city                           False\n",
       "bd                             False\n",
       "registered_via                 False\n",
       "registration_init_year         False\n",
       "registration_init_month        False\n",
       "registration_init_date         False\n",
       "payment_method_id              False\n",
       "payment_plan_days              False\n",
       "plan_list_price                False\n",
       "actual_amount_paid             False\n",
       "is_auto_renew                  False\n",
       "is_cancel                      False\n",
       "discount                       False\n",
       "is_discount                    False\n",
       "amt_per_day                    False\n",
       "membership_duration            False\n",
       "membership_duration_M          False\n",
       "notAutorenew_&_cancel          False\n",
       "                               ...  \n",
       "payment_method_id_encoded13    False\n",
       "payment_method_id_encoded14    False\n",
       "payment_method_id_encoded15    False\n",
       "payment_method_id_encoded16    False\n",
       "payment_method_id_encoded17    False\n",
       "payment_method_id_encoded18    False\n",
       "payment_method_id_encoded19    False\n",
       "payment_method_id_encoded20    False\n",
       "payment_method_id_encoded21    False\n",
       "payment_method_id_encoded22    False\n",
       "payment_method_id_encoded23    False\n",
       "payment_method_id_encoded24    False\n",
       "payment_method_id_encoded25    False\n",
       "payment_method_id_encoded26    False\n",
       "payment_method_id_encoded27    False\n",
       "payment_method_id_encoded28    False\n",
       "payment_method_id_encoded29    False\n",
       "payment_method_id_encoded30    False\n",
       "payment_method_id_encoded31    False\n",
       "payment_method_id_encoded32    False\n",
       "payment_method_id_encoded33    False\n",
       "payment_method_id_encoded34    False\n",
       "payment_method_id_encoded35    False\n",
       "payment_method_id_encoded36    False\n",
       "is_auto_renew_encoded0         False\n",
       "is_auto_renew_encoded1         False\n",
       "is_auto_renew_encoded2         False\n",
       "is_cancel_encoded0             False\n",
       "is_cancel_encoded1             False\n",
       "is_cancel_encoded2             False\n",
       "Length: 123, dtype: bool"
      ]
     },
     "execution_count": 6,
     "metadata": {},
     "output_type": "execute_result"
    }
   ],
   "source": [
    "X_train.isnull().any()"
   ]
  },
  {
   "cell_type": "code",
   "execution_count": 7,
   "metadata": {
    "collapsed": false
   },
   "outputs": [
    {
     "name": "stdout",
     "output_type": "stream",
     "text": [
      "False\n",
      "True\n"
     ]
    }
   ],
   "source": [
    "print(np.all(np.isfinite(X_train)))\n",
    "print(np.any(np.isnan(X_train)))"
   ]
  },
  {
   "cell_type": "code",
   "execution_count": 8,
   "metadata": {
    "_cell_guid": "87b2e190-c72a-4f0a-bf09-82f9ccbc9802",
    "_uuid": "76b7bb58bd12721b38db656bfa21e4c7c760b2e9",
    "collapsed": true
   },
   "outputs": [],
   "source": [
    "def plot_learning_curve(est, X_train, y_train):\n",
    "    train_size, train_score, CV_score = learning_curve(est, X_train, y_train, scoring=\"neg_log_loss\", train_sizes=np.linspace(0.1,1, 5));\n",
    "    plt.figure();\n",
    "    plt.plot(train_size, np.mean(train_score, axis=1), 'o-', color='b', label='training score');\n",
    "    plt.plot(train_size, np.mean(CV_score, axis=1), 'o-', color='r', label='CV score');\n",
    "    plt.xlabel(\"Training examples\");\n",
    "    plt.ylabel(\"Score\");\n",
    "    plt.fill_between(train_size, np.mean(train_score, axis=1) - np.std(train_score, axis=1),\n",
    "                     np.mean(train_score, axis=1) + np.std(train_score, axis=1), alpha=0.1,\n",
    "                     color=\"b\");\n",
    "    plt.fill_between(train_size, np.mean(CV_score, axis=1) - np.std(CV_score, axis=1),\n",
    "                     np.mean(CV_score, axis=1) + np.std(CV_score, axis=1), alpha=0.1,\n",
    "                     color=\"r\");\n",
    "    plt.title(\"Learning Curve\", fontsize=20);\n",
    "    plt.legend();\n",
    "    plt.show();"
   ]
  },
  {
   "cell_type": "code",
   "execution_count": 9,
   "metadata": {
    "_cell_guid": "7760d9af-0c9c-4be7-9598-a258aaafd406",
    "_uuid": "20ad961c74923a3c27d339e175e312d53dc34603",
    "collapsed": true
   },
   "outputs": [],
   "source": [
    "from sklearn.model_selection import GridSearchCV\n",
    "from sklearn.linear_model import LogisticRegression\n",
    "from sklearn.neighbors import KNeighborsClassifier\n",
    "from sklearn.svm import SVC\n",
    "from sklearn.neural_network import MLPClassifier\n",
    "from sklearn.ensemble import AdaBoostClassifier \n",
    "from sklearn.ensemble import RandomForestClassifier\n",
    "import xgboost as xgb\n",
    "from xgboost import XGBClassifier\n",
    "import lightgbm as lgb\n",
    "from lightgbm import LGBMClassifier"
   ]
  },
  {
   "cell_type": "code",
   "execution_count": 18,
   "metadata": {
    "_cell_guid": "9e256c42-c4b2-4717-b882-90fdfc8b1d48",
    "_uuid": "acde3e0b1b8a29f9b92300c9aa43afe775d5c5f4",
    "collapsed": false
   },
   "outputs": [],
   "source": [
    "#### making list of parameters for grid search\n",
    "param_logit = {'C':[0.01,0.1,1,10,100], 'penalty':['l1','l2']}\n",
    "param_knn = {'n_neighbors':[1,3,6,10], 'weights':['uniform','distance']}\n",
    "param_svc = {'C':[0.01,0.1,1,10,100], 'kernel':{'rbf','sigmoid','precomputed'}}\n",
    "#param_ann = {hidden_layer_sizes}\n",
    "param_xgb = {\n",
    "    'max_depth':range(3,10,2),\n",
    "    'min_child_weight':range(1,6,2),\n",
    "    'min_child_weight':[6,8,10,12],\n",
    "    'gamma':[i/10.0 for i in range(0,5)],\n",
    "    'subsample':[i/10.0 for i in range(6,10)],\n",
    "    'colsample_bytree':[i/10.0 for i in range(6,10)],\n",
    "    'reg_alpha':[1e-5, 1e-2, 0.1, 1, 100]\n",
    "    }\n",
    "param_lgbm = {\n",
    "    'learning_rate': [0.005, .05, .1, .5],\n",
    "    'n_estimators': [8,16,24, 50, 100, 150],\n",
    "    'num_leaves': [6,8,12,16, 32, 64],\n",
    "    'max_depth': [-1, 10, 20, 50, 100, 200],\n",
    "    'boosting_type' : ['gbdt'],\n",
    "    'objective' : ['binary'],\n",
    "    'colsample_bytree' : [0.6, 0.8, 0.9, 1],\n",
    "    'subsample' : [0.5, 0.7,1],\n",
    "    'reg_alpha' : [0, 0.5, 1, 1.2, 1.4],\n",
    "    'reg_lambda' : [0, 0.5, 1 ,1.2, 1.4],\n",
    "}\n",
    "\n",
    "param_rfc = {'n_estimator':[5,10,15,20], 'max_features':[10,100,500,1000]}\n"
   ]
  },
  {
   "cell_type": "code",
   "execution_count": 19,
   "metadata": {
    "_cell_guid": "5afbf17e-fb40-48f1-b67a-863ceaadb8f7",
    "_uuid": "e4110f048d195662507fb90e6b4b7567f8ec90eb",
    "collapsed": false
   },
   "outputs": [],
   "source": [
    "model_list = {LogisticRegression():param_logit, KNeighborsClassifier():param_knn,\n",
    "             SVC():param_svc, RandomForestClassifier():param_rfc};\n",
    "model_list = {LogisticRegression():param_logit}\n",
    "model_list = {XGBClassifier(n_jobs=3, early_stopping_rounds=10): param_xgb}\n",
    "model_list = {LGBMClassifier(nthread=3): param_lgbm}"
   ]
  },
  {
   "cell_type": "code",
   "execution_count": null,
   "metadata": {
    "_cell_guid": "ba4adb07-1d20-45d4-aeea-2465f8524ce7",
    "_uuid": "31719e95be58739c6372f42ba8e91131808192dd",
    "collapsed": false,
    "scrolled": false
   },
   "outputs": [
    {
     "name": "stdout",
     "output_type": "stream",
     "text": [
      "learning curve for\tLGBMClassifier(boosting_type='gbdt', colsample_bytree=1, learning_rate=0.1,\n",
      "        max_bin=255, max_depth=-1, min_child_samples=10,\n",
      "        min_child_weight=5, min_split_gain=0, n_estimators=10, nthread=3,\n",
      "        num_leaves=31, objective='binary', reg_alpha=0, reg_lambda=0,\n",
      "        seed=0, silent=True, subsample=1, subsample_for_bin=50000,\n",
      "        subsample_freq=1)\n"
     ]
    }
   ],
   "source": [
    "for model,param in model_list.items():\n",
    "    gscv = GridSearchCV(model, param);\n",
    "    print(\"learning curve for\\t{}\".format(model))\n",
    "    plot_learning_curve(gscv, X_train, y_train)\n",
    "    \n",
    "    # summarize results\n",
    "    print(\"Best: %f using %s\" % (gscv.best_score_, gscv.best_params_))\n",
    "    means = gscv.cv_results_['mean_test_score']\n",
    "    stds = gscv.cv_results_['std_test_score']\n",
    "    params = gscv.cv_results_['params']\n",
    "    for mean, stdev, param in zip(means, stds, params):\n",
    "        print(\"%f (%f) with: %r\" % (mean, stdev, param))\n"
   ]
  },
  {
   "cell_type": "code",
   "execution_count": null,
   "metadata": {
    "collapsed": true
   },
   "outputs": [],
   "source": []
  }
 ],
 "metadata": {
  "kernelspec": {
   "display_name": "Python 3",
   "language": "python",
   "name": "python3"
  },
  "language_info": {
   "codemirror_mode": {
    "name": "ipython",
    "version": 3
   },
   "file_extension": ".py",
   "mimetype": "text/x-python",
   "name": "python",
   "nbconvert_exporter": "python",
   "pygments_lexer": "ipython3",
   "version": "3.6.0"
  }
 },
 "nbformat": 4,
 "nbformat_minor": 1
}
