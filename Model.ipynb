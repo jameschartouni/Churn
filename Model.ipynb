{
  "cells": [
    {
      "cell_type": "code",
      "source": [
        "from multiprocessing import Pool, cpu_count\n",
        "import gc; gc.enable()\n",
        "import pandas as pd\n",
        "import numpy as np\n",
        "\n",
        "train = pd.read_csv('raw_data/train.csv')\n",
        "test = pd.read_csv('raw_data/sample_submission_zero.csv')\n",
        "\n",
        "transactions = pd.read_csv('cleaned_input/transactions.csv', usecols=['msno'])\n",
        "transactions = pd.DataFrame(transactions['msno'].value_counts().reset_index())\n",
        "transactions.columns = ['msno','trans_count']\n",
        "train = pd.merge(train, transactions, how='left', on='msno')\n",
        "test = pd.merge(test, transactions, how='left', on='msno')\n",
        "transactions = []; print('transaction merge...')\n",
        "\n",
        "user_logs = pd.read_csv('raw_data/user_logs.csv', usecols=['msno'])\n",
        "user_logs = pd.DataFrame(user_logs['msno'].value_counts().reset_index())\n",
        "user_logs.columns = ['msno','logs_count']\n",
        "train = pd.merge(train, user_logs, how='left', on='msno')\n",
        "test = pd.merge(test, user_logs, how='left', on='msno')\n",
        "user_logs = []; print('user logs merge...')\n",
        "\n",
        "members = pd.read_csv('cleaned_input/members.csv')\n",
        "train = pd.merge(train, members, how='left', on='msno')\n",
        "test = pd.merge(test, members, how='left', on='msno')\n",
        "members = []; print('members merge...') "
      ],
      "outputs": [
        {
          "output_type": "stream",
          "name": "stdout",
          "text": [
            "transaction merge...\n",
            "user logs merge...\n",
            "members merge...\n"
          ]
        }
      ],
      "execution_count": 1,
      "metadata": {
        "collapsed": false,
        "outputHidden": false,
        "inputHidden": false
      }
    },
    {
      "cell_type": "code",
      "source": [
        "transactions = pd.read_csv('raw_data/transactions.csv')\n",
        "transactions = transactions.sort_values(by=['transaction_date'], ascending=[False]).reset_index(drop=True)\n",
        "transactions = transactions.drop_duplicates(subset=['msno'], keep='first')\n",
        "\n",
        "train = pd.merge(train, transactions, how='left', on='msno')\n",
        "test = pd.merge(test, transactions, how='left', on='msno')\n",
        "transactions=[]"
      ],
      "outputs": [],
      "execution_count": 2,
      "metadata": {
        "collapsed": false,
        "outputHidden": false,
        "inputHidden": false
      }
    },
    {
      "cell_type": "code",
      "source": [
        "train.head()"
      ],
      "outputs": [
        {
          "output_type": "execute_result",
          "execution_count": 3,
          "data": {
            "text/plain": [
              "                                           msno  is_churn  trans_count  \\\n",
              "0  waLDQMmcOu2jLDaV1ddDkgCrB/jl6sD66Xzs0Vqax1Y=         1            2   \n",
              "1  QA7uiXy8vIbUSPOkCf9RwQ3FsT8jVq2OxDr8zqa7bRQ=         1           23   \n",
              "2  fGwBva6hikQmTJzrbz/2Ezjm5Cth5jZUNvXigKK2AFA=         1           10   \n",
              "3  mT5V8rEpa+8wuqi6x0DoVd3H5icMKkE9Prt49UlmK+4=         1            2   \n",
              "4  XaPhtGLk/5UvvOYHcONTwsnH97P4eGECeq+BARGItRw=         1            8   \n",
              "\n",
              "   logs_count  Unnamed: 0  city    bd  gender  registered_via  \\\n",
              "0        26.0   4396024.0  18.0  36.0  female             9.0   \n",
              "1       521.0   1941053.0  10.0  38.0    male             9.0   \n",
              "2       237.0   1587455.0  11.0  27.0  female             9.0   \n",
              "3       735.0   1500627.0  13.0  23.0  female             9.0   \n",
              "4       758.0   2600269.0   3.0  27.0    male             9.0   \n",
              "\n",
              "   registration_init_time    ...      expiration_date_month  \\\n",
              "0              20050406.0    ...                        9.0   \n",
              "1              20050407.0    ...                        3.0   \n",
              "2              20051016.0    ...                        2.0   \n",
              "3              20051102.0    ...                        9.0   \n",
              "4              20051228.0    ...                        9.0   \n",
              "\n",
              "   expiration_date_date  payment_method_id  payment_plan_days  \\\n",
              "0                   7.0                 38                 30   \n",
              "1                  21.0                 39                 30   \n",
              "2                   3.0                 39                 30   \n",
              "3                  26.0                 38                410   \n",
              "4                  27.0                 38                 30   \n",
              "\n",
              "   plan_list_price  actual_amount_paid  is_auto_renew  transaction_date  \\\n",
              "0              149                 149              0          20170107   \n",
              "1              149                 149              1          20170224   \n",
              "2              149                 149              1          20170112   \n",
              "3             1788                1788              0          20160106   \n",
              "4              149                 149              0          20170128   \n",
              "\n",
              "   membership_expire_date  is_cancel  \n",
              "0                20170206          0  \n",
              "1                20170321          1  \n",
              "2                20170203          1  \n",
              "3                20170220          0  \n",
              "4                20170227          0  \n",
              "\n[5 rows x 25 columns]"
            ],
            "text/html": [
              "<div>\n",
              "<style>\n",
              "    .dataframe thead tr:only-child th {\n",
              "        text-align: right;\n",
              "    }\n",
              "\n",
              "    .dataframe thead th {\n",
              "        text-align: left;\n",
              "    }\n",
              "\n",
              "    .dataframe tbody tr th {\n",
              "        vertical-align: top;\n",
              "    }\n",
              "</style>\n",
              "<table border=\"1\" class=\"dataframe\">\n",
              "  <thead>\n",
              "    <tr style=\"text-align: right;\">\n",
              "      <th></th>\n",
              "      <th>msno</th>\n",
              "      <th>is_churn</th>\n",
              "      <th>trans_count</th>\n",
              "      <th>logs_count</th>\n",
              "      <th>Unnamed: 0</th>\n",
              "      <th>city</th>\n",
              "      <th>bd</th>\n",
              "      <th>gender</th>\n",
              "      <th>registered_via</th>\n",
              "      <th>registration_init_time</th>\n",
              "      <th>...</th>\n",
              "      <th>expiration_date_month</th>\n",
              "      <th>expiration_date_date</th>\n",
              "      <th>payment_method_id</th>\n",
              "      <th>payment_plan_days</th>\n",
              "      <th>plan_list_price</th>\n",
              "      <th>actual_amount_paid</th>\n",
              "      <th>is_auto_renew</th>\n",
              "      <th>transaction_date</th>\n",
              "      <th>membership_expire_date</th>\n",
              "      <th>is_cancel</th>\n",
              "    </tr>\n",
              "  </thead>\n",
              "  <tbody>\n",
              "    <tr>\n",
              "      <th>0</th>\n",
              "      <td>waLDQMmcOu2jLDaV1ddDkgCrB/jl6sD66Xzs0Vqax1Y=</td>\n",
              "      <td>1</td>\n",
              "      <td>2</td>\n",
              "      <td>26.0</td>\n",
              "      <td>4396024.0</td>\n",
              "      <td>18.0</td>\n",
              "      <td>36.0</td>\n",
              "      <td>female</td>\n",
              "      <td>9.0</td>\n",
              "      <td>20050406.0</td>\n",
              "      <td>...</td>\n",
              "      <td>9.0</td>\n",
              "      <td>7.0</td>\n",
              "      <td>38</td>\n",
              "      <td>30</td>\n",
              "      <td>149</td>\n",
              "      <td>149</td>\n",
              "      <td>0</td>\n",
              "      <td>20170107</td>\n",
              "      <td>20170206</td>\n",
              "      <td>0</td>\n",
              "    </tr>\n",
              "    <tr>\n",
              "      <th>1</th>\n",
              "      <td>QA7uiXy8vIbUSPOkCf9RwQ3FsT8jVq2OxDr8zqa7bRQ=</td>\n",
              "      <td>1</td>\n",
              "      <td>23</td>\n",
              "      <td>521.0</td>\n",
              "      <td>1941053.0</td>\n",
              "      <td>10.0</td>\n",
              "      <td>38.0</td>\n",
              "      <td>male</td>\n",
              "      <td>9.0</td>\n",
              "      <td>20050407.0</td>\n",
              "      <td>...</td>\n",
              "      <td>3.0</td>\n",
              "      <td>21.0</td>\n",
              "      <td>39</td>\n",
              "      <td>30</td>\n",
              "      <td>149</td>\n",
              "      <td>149</td>\n",
              "      <td>1</td>\n",
              "      <td>20170224</td>\n",
              "      <td>20170321</td>\n",
              "      <td>1</td>\n",
              "    </tr>\n",
              "    <tr>\n",
              "      <th>2</th>\n",
              "      <td>fGwBva6hikQmTJzrbz/2Ezjm5Cth5jZUNvXigKK2AFA=</td>\n",
              "      <td>1</td>\n",
              "      <td>10</td>\n",
              "      <td>237.0</td>\n",
              "      <td>1587455.0</td>\n",
              "      <td>11.0</td>\n",
              "      <td>27.0</td>\n",
              "      <td>female</td>\n",
              "      <td>9.0</td>\n",
              "      <td>20051016.0</td>\n",
              "      <td>...</td>\n",
              "      <td>2.0</td>\n",
              "      <td>3.0</td>\n",
              "      <td>39</td>\n",
              "      <td>30</td>\n",
              "      <td>149</td>\n",
              "      <td>149</td>\n",
              "      <td>1</td>\n",
              "      <td>20170112</td>\n",
              "      <td>20170203</td>\n",
              "      <td>1</td>\n",
              "    </tr>\n",
              "    <tr>\n",
              "      <th>3</th>\n",
              "      <td>mT5V8rEpa+8wuqi6x0DoVd3H5icMKkE9Prt49UlmK+4=</td>\n",
              "      <td>1</td>\n",
              "      <td>2</td>\n",
              "      <td>735.0</td>\n",
              "      <td>1500627.0</td>\n",
              "      <td>13.0</td>\n",
              "      <td>23.0</td>\n",
              "      <td>female</td>\n",
              "      <td>9.0</td>\n",
              "      <td>20051102.0</td>\n",
              "      <td>...</td>\n",
              "      <td>9.0</td>\n",
              "      <td>26.0</td>\n",
              "      <td>38</td>\n",
              "      <td>410</td>\n",
              "      <td>1788</td>\n",
              "      <td>1788</td>\n",
              "      <td>0</td>\n",
              "      <td>20160106</td>\n",
              "      <td>20170220</td>\n",
              "      <td>0</td>\n",
              "    </tr>\n",
              "    <tr>\n",
              "      <th>4</th>\n",
              "      <td>XaPhtGLk/5UvvOYHcONTwsnH97P4eGECeq+BARGItRw=</td>\n",
              "      <td>1</td>\n",
              "      <td>8</td>\n",
              "      <td>758.0</td>\n",
              "      <td>2600269.0</td>\n",
              "      <td>3.0</td>\n",
              "      <td>27.0</td>\n",
              "      <td>male</td>\n",
              "      <td>9.0</td>\n",
              "      <td>20051228.0</td>\n",
              "      <td>...</td>\n",
              "      <td>9.0</td>\n",
              "      <td>27.0</td>\n",
              "      <td>38</td>\n",
              "      <td>30</td>\n",
              "      <td>149</td>\n",
              "      <td>149</td>\n",
              "      <td>0</td>\n",
              "      <td>20170128</td>\n",
              "      <td>20170227</td>\n",
              "      <td>0</td>\n",
              "    </tr>\n",
              "  </tbody>\n",
              "</table>\n",
              "<p>5 rows × 25 columns</p>\n",
              "</div>"
            ]
          },
          "metadata": {}
        }
      ],
      "execution_count": 3,
      "metadata": {
        "collapsed": false,
        "outputHidden": false,
        "inputHidden": false
      }
    },
    {
      "cell_type": "code",
      "source": [
        "def transform_df(df):\n",
        "    df = pd.DataFrame(df)\n",
        "    df = df.sort_values(by=['date'], ascending=[False])\n",
        "    df = df.reset_index(drop=True)\n",
        "    df = df.drop_duplicates(subset=['msno'], keep='first')\n",
        "    return df\n",
        "\n",
        "def transform_df2(df):\n",
        "    df = df.sort_values(by=['date'], ascending=[False])\n",
        "    df = df.reset_index(drop=True)\n",
        "    df = df.drop_duplicates(subset=['msno'], keep='first')\n",
        "    return df\n",
        "\n",
        "df_iter = pd.read_csv('raw_data/user_logs.csv', low_memory=False, iterator=True, chunksize=10000000)\n",
        "last_user_logs = []\n",
        "i = 0 #~400 Million Records - starting at the end but remove locally if needed\n",
        "for df in df_iter:\n",
        "    if i>35:\n",
        "        if len(df)>0:\n",
        "            print(df.shape)\n",
        "            p = Pool(cpu_count())\n",
        "            df = p.map(transform_df, np.array_split(df, cpu_count()))   \n",
        "            df = pd.concat(df, axis=0, ignore_index=True).reset_index(drop=True)\n",
        "            df = transform_df2(df)\n",
        "            p.close(); p.join()\n",
        "            last_user_logs.append(df)\n",
        "            print('...', df.shape)\n",
        "            df = []\n",
        "    i+=1\n",
        "\n",
        "last_user_logs = pd.concat(last_user_logs, axis=0, ignore_index=True).reset_index(drop=True)\n",
        "last_user_logs = transform_df2(last_user_logs)\n",
        "\n",
        "train = pd.merge(train, last_user_logs, how='left', on='msno')\n",
        "test = pd.merge(test, last_user_logs, how='left', on='msno')\n",
        "last_user_logs=[]"
      ],
      "outputs": [
        {
          "output_type": "stream",
          "name": "stdout",
          "text": [
            "(10000000, 9)\n",
            "... (1616917, 9)\n",
            "(10000000, 9)\n",
            "... (1533539, 9)\n",
            "(10000000, 9)\n",
            "... (1353720, 9)\n",
            "(2106543, 9)\n",
            "... (429234, 9)\n"
          ]
        }
      ],
      "execution_count": 4,
      "metadata": {
        "collapsed": false,
        "outputHidden": false,
        "inputHidden": false
      }
    },
    {
      "cell_type": "code",
      "source": [
        "print(train.shape)\n",
        "print(test.shape)\n",
        "\n",
        "train.to_csv(\"cleaned_input/train_merged.csv\")\n",
        "test.to_csv(\"cleaned_input/test_merged.csv\")"
      ],
      "outputs": [
        {
          "output_type": "stream",
          "name": "stdout",
          "text": [
            "(992931, 33)\n",
            "(970960, 33)\n"
          ]
        }
      ],
      "execution_count": 5,
      "metadata": {
        "collapsed": false,
        "outputHidden": false,
        "inputHidden": false
      }
    },
    {
      "cell_type": "code",
      "source": [
        "data = pd.concat(( train, test ))\n",
        "train_cutoff = len(train)\n",
        "\n\n"
      ],
      "outputs": [],
      "execution_count": 6,
      "metadata": {
        "collapsed": false,
        "outputHidden": false,
        "inputHidden": false
      }
    },
    {
      "cell_type": "code",
      "source": [
        "#if missing >3 cells, remove row \n",
        "data = data.dropna(thresh=3)\n",
        "data.isnull().any()"
      ],
      "outputs": [
        {
          "output_type": "execute_result",
          "execution_count": 7,
          "data": {
            "text/plain": [
              "msno                       False\n",
              "is_churn                   False\n",
              "trans_count                 True\n",
              "logs_count                  True\n",
              "Unnamed: 0                  True\n",
              "city                        True\n",
              "bd                          True\n",
              "gender                      True\n",
              "registered_via              True\n",
              "registration_init_time      True\n",
              "expiration_date             True\n",
              "registration_init_year      True\n",
              "registration_init_month     True\n",
              "registration_init_date      True\n",
              "expiration_date_year        True\n",
              "expiration_date_month       True\n",
              "expiration_date_date        True\n",
              "payment_method_id           True\n",
              "payment_plan_days           True\n",
              "plan_list_price             True\n",
              "actual_amount_paid          True\n",
              "is_auto_renew               True\n",
              "transaction_date            True\n",
              "membership_expire_date      True\n",
              "is_cancel                   True\n",
              "date                        True\n",
              "num_25                      True\n",
              "num_50                      True\n",
              "num_75                      True\n",
              "num_985                     True\n",
              "num_100                     True\n",
              "num_unq                     True\n",
              "total_secs                  True\n",
              "dtype: bool"
            ]
          },
          "metadata": {}
        }
      ],
      "execution_count": 7,
      "metadata": {
        "collapsed": false,
        "outputHidden": false,
        "inputHidden": false
      }
    },
    {
      "cell_type": "code",
      "source": [
        "#fill in missing data points and encode variables\n",
        "from helpers import *\n",
        "\n",
        "nan_zero = {\"logs_count\":0}\n",
        "nan_dif = {\"city\":-1, \"registered_via\":-1, \"payment_method_id\":-1, \"is_auto_renew\":-1, \"is_cancel\":-1}\n",
        "nan_med = {\"bd\": 'med', \"registration_init_date\": 'med', \"expiration_date_month\":'med', \"expiration_date_date\":'med',\n",
        "           \"expiration_date_year\": 'med', \"registration_init_year\":'med', \"registration_init_month\":'med', \n",
        "           \"registration_init_date\":'med', \"date\":'med', \"num_25\": 'med', \"num_50\": 'med', \"num_75\": 'med', \"num_985\": 'med', \n",
        "           \"num_100\": 'med', \"num_unq\": 'med', \"Unnamed: 0\": 'med', \"total_secs\": 'med', \"trans_count\":'med', 'transaction_date':'med',\n",
        "          'membership_expire_date':'med', 'plan_list_price':'med', 'actual_amount_paid':'med', 'payment_plan_days':'med', \"registration_init_time\": 'med',\n",
        "          'expiration_date':'med'}\n",
        "nan_cat = {\"gender\":\"missing\"}\n",
        "\n",
        "data = data.drop([\"Unnamed: 0\"])\n",
        "data = to_fill_na(data, nan_zero)\n",
        "data = to_fill_na(data, nan_dif)\n",
        "data = to_fill_na(data, nan_med)\n",
        "data = to_fill_na(data, nan_cat)\n",
        "train.head()\n"
      ],
      "outputs": [
        {
          "output_type": "stream",
          "name": "stderr",
          "text": [
            "/Users/James/anaconda/lib/python3.6/site-packages/numpy/lib/arraysetops.py:463: FutureWarning: elementwise comparison failed; returning scalar instead, but in the future will perform elementwise comparison\n",
            "  mask |= (ar1 == a)\n"
          ]
        },
        {
          "output_type": "error",
          "ename": "TypeError",
          "evalue": "reduction operation 'median' not allowed for this dtype",
          "traceback": [
            "\u001b[0;31m---------------------------------------------------------------------------\u001b[0m",
            "\u001b[0;31mTypeError\u001b[0m                                 Traceback (most recent call last)",
            "\u001b[0;32m<ipython-input-25-b030a21c7fa3>\u001b[0m in \u001b[0;36m<module>\u001b[0;34m()\u001b[0m\n\u001b[1;32m     14\u001b[0m \u001b[0mdata\u001b[0m \u001b[0;34m=\u001b[0m \u001b[0mto_fill_na\u001b[0m\u001b[0;34m(\u001b[0m\u001b[0mdata\u001b[0m\u001b[0;34m,\u001b[0m \u001b[0mnan_zero\u001b[0m\u001b[0;34m)\u001b[0m\u001b[0;34m\u001b[0m\u001b[0m\n\u001b[1;32m     15\u001b[0m \u001b[0mdata\u001b[0m \u001b[0;34m=\u001b[0m \u001b[0mto_fill_na\u001b[0m\u001b[0;34m(\u001b[0m\u001b[0mdata\u001b[0m\u001b[0;34m,\u001b[0m \u001b[0mnan_dif\u001b[0m\u001b[0;34m)\u001b[0m\u001b[0;34m\u001b[0m\u001b[0m\n\u001b[0;32m---> 16\u001b[0;31m \u001b[0mdata\u001b[0m \u001b[0;34m=\u001b[0m \u001b[0mto_fill_na\u001b[0m\u001b[0;34m(\u001b[0m\u001b[0mdata\u001b[0m\u001b[0;34m,\u001b[0m \u001b[0mnan_med\u001b[0m\u001b[0;34m)\u001b[0m\u001b[0;34m\u001b[0m\u001b[0m\n\u001b[0m\u001b[1;32m     17\u001b[0m \u001b[0mdata\u001b[0m \u001b[0;34m=\u001b[0m \u001b[0mto_fill_na\u001b[0m\u001b[0;34m(\u001b[0m\u001b[0mdata\u001b[0m\u001b[0;34m,\u001b[0m \u001b[0mnan_cat\u001b[0m\u001b[0;34m)\u001b[0m\u001b[0;34m\u001b[0m\u001b[0m\n\u001b[1;32m     18\u001b[0m \u001b[0mtrain\u001b[0m\u001b[0;34m.\u001b[0m\u001b[0mhead\u001b[0m\u001b[0;34m(\u001b[0m\u001b[0;34m)\u001b[0m\u001b[0;34m\u001b[0m\u001b[0m\n",
            "\u001b[0;32m/Users/James/Kaggle Competitions/WSDM - KKBox's Churn Prediction Challenge/Churn/helpers.py\u001b[0m in \u001b[0;36mto_fill_na\u001b[0;34m(df, nan_dict)\u001b[0m\n\u001b[1;32m     51\u001b[0m         \u001b[0;32mfor\u001b[0m \u001b[0mkey\u001b[0m\u001b[0;34m,\u001b[0m\u001b[0mvalue\u001b[0m \u001b[0;32min\u001b[0m \u001b[0mnan_dict\u001b[0m\u001b[0;34m.\u001b[0m\u001b[0mitems\u001b[0m\u001b[0;34m(\u001b[0m\u001b[0;34m)\u001b[0m\u001b[0;34m:\u001b[0m\u001b[0;34m\u001b[0m\u001b[0m\n\u001b[1;32m     52\u001b[0m                 \u001b[0;32mif\u001b[0m \u001b[0mvalue\u001b[0m \u001b[0;34m==\u001b[0m \u001b[0;34m'med'\u001b[0m\u001b[0;34m:\u001b[0m\u001b[0;34m\u001b[0m\u001b[0m\n\u001b[0;32m---> 53\u001b[0;31m                         \u001b[0mdf\u001b[0m\u001b[0;34m[\u001b[0m\u001b[0mkey\u001b[0m\u001b[0;34m]\u001b[0m\u001b[0;34m.\u001b[0m\u001b[0mfillna\u001b[0m\u001b[0;34m(\u001b[0m\u001b[0mvalue\u001b[0m\u001b[0;34m=\u001b[0m\u001b[0mdf\u001b[0m\u001b[0;34m[\u001b[0m\u001b[0mkey\u001b[0m\u001b[0;34m]\u001b[0m\u001b[0;34m.\u001b[0m\u001b[0mmedian\u001b[0m\u001b[0;34m(\u001b[0m\u001b[0;34m)\u001b[0m\u001b[0;34m,\u001b[0m\u001b[0minplace\u001b[0m\u001b[0;34m=\u001b[0m\u001b[0;32mTrue\u001b[0m\u001b[0;34m)\u001b[0m\u001b[0;34m\u001b[0m\u001b[0m\n\u001b[0m\u001b[1;32m     54\u001b[0m                 \u001b[0;32melse\u001b[0m\u001b[0;34m:\u001b[0m\u001b[0;34m\u001b[0m\u001b[0m\n\u001b[1;32m     55\u001b[0m                         \u001b[0mdf\u001b[0m\u001b[0;34m[\u001b[0m\u001b[0mkey\u001b[0m\u001b[0;34m]\u001b[0m\u001b[0;34m.\u001b[0m\u001b[0mfillna\u001b[0m\u001b[0;34m(\u001b[0m\u001b[0mvalue\u001b[0m\u001b[0;34m=\u001b[0m\u001b[0mvalue\u001b[0m\u001b[0;34m,\u001b[0m\u001b[0minplace\u001b[0m\u001b[0;34m=\u001b[0m\u001b[0;32mTrue\u001b[0m\u001b[0;34m)\u001b[0m\u001b[0;34m\u001b[0m\u001b[0m\n",
            "\u001b[0;32m/Users/James/anaconda/lib/python3.6/site-packages/pandas/core/generic.py\u001b[0m in \u001b[0;36mstat_func\u001b[0;34m(self, axis, skipna, level, numeric_only, **kwargs)\u001b[0m\n\u001b[1;32m   6340\u001b[0m                                       skipna=skipna)\n\u001b[1;32m   6341\u001b[0m         return self._reduce(f, name, axis=axis, skipna=skipna,\n\u001b[0;32m-> 6342\u001b[0;31m                             numeric_only=numeric_only)\n\u001b[0m\u001b[1;32m   6343\u001b[0m \u001b[0;34m\u001b[0m\u001b[0m\n\u001b[1;32m   6344\u001b[0m     \u001b[0;32mreturn\u001b[0m \u001b[0mset_function_name\u001b[0m\u001b[0;34m(\u001b[0m\u001b[0mstat_func\u001b[0m\u001b[0;34m,\u001b[0m \u001b[0mname\u001b[0m\u001b[0;34m,\u001b[0m \u001b[0mcls\u001b[0m\u001b[0;34m)\u001b[0m\u001b[0;34m\u001b[0m\u001b[0m\n",
            "\u001b[0;32m/Users/James/anaconda/lib/python3.6/site-packages/pandas/core/series.py\u001b[0m in \u001b[0;36m_reduce\u001b[0;34m(self, op, name, axis, skipna, numeric_only, filter_type, **kwds)\u001b[0m\n\u001b[1;32m   2379\u001b[0m                                           'numeric_only.'.format(name))\n\u001b[1;32m   2380\u001b[0m             \u001b[0;32mwith\u001b[0m \u001b[0mnp\u001b[0m\u001b[0;34m.\u001b[0m\u001b[0merrstate\u001b[0m\u001b[0;34m(\u001b[0m\u001b[0mall\u001b[0m\u001b[0;34m=\u001b[0m\u001b[0;34m'ignore'\u001b[0m\u001b[0;34m)\u001b[0m\u001b[0;34m:\u001b[0m\u001b[0;34m\u001b[0m\u001b[0m\n\u001b[0;32m-> 2381\u001b[0;31m                 \u001b[0;32mreturn\u001b[0m \u001b[0mop\u001b[0m\u001b[0;34m(\u001b[0m\u001b[0mdelegate\u001b[0m\u001b[0;34m,\u001b[0m \u001b[0mskipna\u001b[0m\u001b[0;34m=\u001b[0m\u001b[0mskipna\u001b[0m\u001b[0;34m,\u001b[0m \u001b[0;34m**\u001b[0m\u001b[0mkwds\u001b[0m\u001b[0;34m)\u001b[0m\u001b[0;34m\u001b[0m\u001b[0m\n\u001b[0m\u001b[1;32m   2382\u001b[0m \u001b[0;34m\u001b[0m\u001b[0m\n\u001b[1;32m   2383\u001b[0m         return delegate._reduce(op=op, name=name, axis=axis, skipna=skipna,\n",
            "\u001b[0;32m/Users/James/anaconda/lib/python3.6/site-packages/pandas/core/nanops.py\u001b[0m in \u001b[0;36m_f\u001b[0;34m(*args, **kwargs)\u001b[0m\n\u001b[1;32m     57\u001b[0m                 raise TypeError('reduction operation {0!r} not allowed for '\n\u001b[1;32m     58\u001b[0m                                 'this dtype'.format(\n\u001b[0;32m---> 59\u001b[0;31m                                     f.__name__.replace('nan', '')))\n\u001b[0m\u001b[1;32m     60\u001b[0m             \u001b[0;32mtry\u001b[0m\u001b[0;34m:\u001b[0m\u001b[0;34m\u001b[0m\u001b[0m\n\u001b[1;32m     61\u001b[0m                 \u001b[0;32mwith\u001b[0m \u001b[0mnp\u001b[0m\u001b[0;34m.\u001b[0m\u001b[0merrstate\u001b[0m\u001b[0;34m(\u001b[0m\u001b[0minvalid\u001b[0m\u001b[0;34m=\u001b[0m\u001b[0;34m'ignore'\u001b[0m\u001b[0;34m)\u001b[0m\u001b[0;34m:\u001b[0m\u001b[0;34m\u001b[0m\u001b[0m\n",
            "\u001b[0;31mTypeError\u001b[0m: reduction operation 'median' not allowed for this dtype"
          ]
        }
      ],
      "execution_count": 25,
      "metadata": {
        "collapsed": false,
        "outputHidden": false,
        "inputHidden": false
      }
    },
    {
      "cell_type": "code",
      "source": [
        "data.isnull().any()"
      ],
      "outputs": [
        {
          "output_type": "execute_result",
          "execution_count": 9,
          "data": {
            "text/plain": [
              "msno                       False\n",
              "is_churn                   False\n",
              "trans_count                False\n",
              "logs_count                 False\n",
              "Unnamed: 0                 False\n",
              "city                       False\n",
              "bd                         False\n",
              "gender                     False\n",
              "registered_via             False\n",
              "registration_init_time      True\n",
              "expiration_date             True\n",
              "registration_init_year     False\n",
              "registration_init_month    False\n",
              "registration_init_date     False\n",
              "expiration_date_year       False\n",
              "expiration_date_month      False\n",
              "expiration_date_date       False\n",
              "payment_method_id          False\n",
              "payment_plan_days          False\n",
              "plan_list_price            False\n",
              "actual_amount_paid         False\n",
              "is_auto_renew              False\n",
              "transaction_date           False\n",
              "membership_expire_date     False\n",
              "is_cancel                  False\n",
              "date                       False\n",
              "num_25                     False\n",
              "num_50                     False\n",
              "num_75                     False\n",
              "num_985                    False\n",
              "num_100                    False\n",
              "num_unq                    False\n",
              "total_secs                 False\n",
              "dtype: bool"
            ]
          },
          "metadata": {}
        }
      ],
      "execution_count": 9,
      "metadata": {
        "collapsed": false,
        "outputHidden": false,
        "inputHidden": false
      }
    },
    {
      "cell_type": "code",
      "source": [
        "#feature engineering #not working yet\n",
        "\n",
        "data['discount'] = data['plan_list_price'] - data['actual_amount_paid']\n",
        "data['is_discount'] = data.discount.apply(lambda x: 1 if x > 0 else 0)\n",
        "data['amt_per_day'] = data['actual_amount_paid'] / data['payment_plan_days']\n",
        "date_cols = ['transaction_date', 'membership_expire_date']\n",
        "for col in date_cols:\n",
        "    data[col] = pd.to_datetime(data[col], format='%Y%m%d')\n",
        "    \n",
        "#--- difference in days ---\n",
        "data['membership_duration'] = data.membership_expire_date - data.transaction_date\n",
        "data['membership_duration'] = data['membership_duration'] / np.timedelta64(1, 'D')\n",
        "data = to_fill_na(data, {'membership_duration':'med'})\n",
        "data['membership_duration'] = data['membership_duration'].astype(int)\n",
        "\n",
        " \n",
        "#---difference in months ---\n",
        "data['membership_duration_M'] = (data.membership_expire_date - data.transaction_date)/ np.timedelta64(1, 'M')\n",
        "data['membership_duration_M'] = round(data['membership_duration_M']).astype(int)\n",
        "data['membership_duration_M'].head()\n",
        "\n",
        "date_cols = ['registration_init_time', 'expiration_date']\n",
        "\n",
        "for col in date_cols:\n",
        "    data[col] = pd.to_datetime(data[col], format='%Y%m%d')\n",
        "\n",
        "#--- difference in days ---\n",
        "data['registration_duration'] = data.expiration_date - data.registration_init_time\n",
        "data['registration_duration'] = data['registration_duration'] / np.timedelta64(1, 'D')\n",
        "data = to_fill_na(data, {'registration_duration':'med'})\n",
        "data['registration_duration'] = data['registration_duration'].astype(int)\n",
        "\n",
        "#---difference in months ---\n",
        "data['registration_duration_M'] = (data.expiration_date - data.registration_init_time)/ np.timedelta64(1, 'M')\n",
        "data = to_fill_na(data, {'registration_duration_M':'med'})\n",
        "data['registration_duration_M'] = round(data['registration_duration_M']).astype(int)\n",
        "\n",
        "data['reg_mem_duration'] = data['registration_duration'] - data['membership_duration']\n",
        "to_fill_na(data, {'reg_mem_duration':'med'})\n",
        "data['reg_mem_duration_M'] = data['registration_duration_M'] - data['membership_duration_M']\n",
        "\n\n\n",
        "data['notAutorenew_&_cancel'] = ((data.is_auto_renew == 0) == (data.is_cancel == 1)).astype(np.int8)\n",
        "data['notAutorenew_&_cancel'].unique()\n",
        "\n",
        "data['long_time_user'] = (((data['registration_duration'] / 365).astype(int)) > 1).astype(int)\n",
        "\n\n",
        "#feature ideas to implement\n",
        "#- price paid/ duration \n",
        "#- list price/ duration \n",
        "#- number of unique songs/ price paid\n",
        "#- number o unique songs/ list price\n",
        "#-num25, num50 etc.../ price paid & list price\n",
        "#\n",
        "\n"
      ],
      "outputs": [
        {
          "output_type": "stream",
          "name": "stdout",
          "text": [
            "0         4537.0\n",
            "1         4366.0\n",
            "2         4128.0\n",
            "3         4346.0\n",
            "4         4291.0\n",
            "5         3974.0\n",
            "6         3961.0\n",
            "7         4152.0\n",
            "8         4031.0\n",
            "9         3774.0\n",
            "10        3926.0\n",
            "11        3601.0\n",
            "12        3708.0\n",
            "13        3802.0\n",
            "14        3659.0\n",
            "15        3825.0\n",
            "16        3625.0\n",
            "17        3844.0\n",
            "18        3542.0\n",
            "19        3708.0\n",
            "20        3820.0\n",
            "21        3440.0\n",
            "22        3026.0\n",
            "23        3169.0\n",
            "24        3049.0\n",
            "25        3017.0\n",
            "26        3102.0\n",
            "27        2951.0\n",
            "28        2618.0\n",
            "29        2480.0\n",
            "           ...  \n",
            "970930    2198.0\n",
            "970931    2231.0\n",
            "970932    2228.0\n",
            "970933    2225.0\n",
            "970934    2246.0\n",
            "970935    2253.0\n",
            "970936    2228.0\n",
            "970937    2244.0\n",
            "970938    2240.0\n",
            "970939    2238.0\n",
            "970940    2230.0\n",
            "970941    2227.0\n",
            "970942    2222.0\n",
            "970943    2238.0\n",
            "970944    2238.0\n",
            "970945    2225.0\n",
            "970946    2213.0\n",
            "970947    2223.0\n",
            "970948    2250.0\n",
            "970949    2125.0\n",
            "970950    2218.0\n",
            "970951    2208.0\n",
            "970952    2222.0\n",
            "970953    2215.0\n",
            "970954    2218.0\n",
            "970955    2072.0\n",
            "970956    2131.0\n",
            "970957    2203.0\n",
            "970958    2230.0\n",
            "970959       NaN\n",
            "Name: registration_duration, Length: 1963345, dtype: float64\n"
          ]
        }
      ],
      "execution_count": 26,
      "metadata": {
        "collapsed": false,
        "outputHidden": false,
        "inputHidden": false
      }
    },
    {
      "cell_type": "code",
      "source": [],
      "outputs": [],
      "execution_count": 11,
      "metadata": {
        "collapsed": false,
        "outputHidden": false,
        "inputHidden": false
      }
    },
    {
      "cell_type": "code",
      "source": [],
      "outputs": [],
      "execution_count": 11,
      "metadata": {
        "collapsed": false,
        "outputHidden": false,
        "inputHidden": false
      }
    },
    {
      "cell_type": "code",
      "source": [],
      "outputs": [],
      "execution_count": 11,
      "metadata": {
        "collapsed": false,
        "outputHidden": false,
        "inputHidden": false
      }
    },
    {
      "cell_type": "code",
      "source": [
        "train = data[:train_cutoff]\n",
        "test = data[train_cutoff:]\n",
        "print(train.shape)\n",
        "print(test.shape)\n",
        "\n",
        "train.to_csv(\"cleaned_input/train_consolidated.csv\")\n",
        "test.to_csv(\"cleaned_input/test_consolidated.csv\")"
      ],
      "outputs": [
        {
          "output_type": "stream",
          "name": "stdout",
          "text": [
            "(992931, 36)\n",
            "(970414, 36)\n"
          ]
        }
      ],
      "execution_count": 11,
      "metadata": {
        "collapsed": false,
        "outputHidden": false,
        "inputHidden": false
      }
    },
    {
      "cell_type": "code",
      "source": [],
      "outputs": [],
      "execution_count": 12,
      "metadata": {
        "collapsed": false,
        "outputHidden": false,
        "inputHidden": false
      }
    },
    {
      "cell_type": "code",
      "source": [],
      "outputs": [],
      "execution_count": 12,
      "metadata": {
        "collapsed": false,
        "outputHidden": false,
        "inputHidden": false
      }
    },
    {
      "cell_type": "code",
      "source": [],
      "outputs": [],
      "execution_count": null,
      "metadata": {
        "collapsed": false,
        "outputHidden": false,
        "inputHidden": false
      }
    }
  ],
  "metadata": {
    "kernelspec": {
      "name": "python3",
      "language": "python",
      "display_name": "Python 3"
    },
    "kernel_info": {
      "name": "python3"
    },
    "language_info": {
      "name": "python",
      "version": "3.6.0",
      "mimetype": "text/x-python",
      "codemirror_mode": {
        "name": "ipython",
        "version": 3
      },
      "pygments_lexer": "ipython3",
      "nbconvert_exporter": "python",
      "file_extension": ".py"
    },
    "nteract": {
      "version": "0.3.4"
    }
  },
  "nbformat": 4,
  "nbformat_minor": 4
}