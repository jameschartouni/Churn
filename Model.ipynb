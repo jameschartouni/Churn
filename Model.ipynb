{
  "cells": [
    {
      "cell_type": "code",
      "source": [
        "from multiprocessing import Pool, cpu_count\n",
        "import gc; gc.enable()\n",
        "import pandas as pd\n",
        "import numpy as np\n",
        "\n",
        "train = pd.read_csv('raw_data/train.csv')\n",
        "test = pd.read_csv('raw_data/sample_submission_zero.csv')\n",
        "\n",
        "transactions = pd.read_csv('cleaned_input/transactions.csv', usecols=['msno'])\n",
        "transactions = pd.DataFrame(transactions['msno'].value_counts().reset_index())\n",
        "transactions.columns = ['msno','trans_count']\n",
        "train = pd.merge(train, transactions, how='left', on='msno')\n",
        "test = pd.merge(test, transactions, how='left', on='msno')\n",
        "transactions = []; print('transaction merge...')\n",
        "\n",
        "user_logs = pd.read_csv('raw_data/user_logs.csv', usecols=['msno'])\n",
        "user_logs = pd.DataFrame(user_logs['msno'].value_counts().reset_index())\n",
        "user_logs.columns = ['msno','logs_count']\n",
        "train = pd.merge(train, user_logs, how='left', on='msno')\n",
        "test = pd.merge(test, user_logs, how='left', on='msno')\n",
        "user_logs = []; print('user logs merge...')\n",
        "\n",
        "members = pd.read_csv('cleaned_input/members.csv')\n",
        "train = pd.merge(train, members, how='left', on='msno')\n",
        "test = pd.merge(test, members, how='left', on='msno')\n",
        "members = []; print('members merge...') "
      ],
      "outputs": [],
      "execution_count": 47,
      "metadata": {
        "collapsed": false,
        "outputHidden": false,
        "inputHidden": false
      }
    },
    {
      "cell_type": "code",
      "source": [
        "transactions = pd.read_csv('raw_data/transactions.csv')\n",
        "transactions = transactions.sort_values(by=['transaction_date'], ascending=[False]).reset_index(drop=True)\n",
        "transactions = transactions.drop_duplicates(subset=['msno'], keep='first')\n",
        "\n",
        "train = pd.merge(train, transactions, how='left', on='msno')\n",
        "test = pd.merge(test, transactions, how='left', on='msno')\n",
        "transactions=[]"
      ],
      "outputs": [],
      "execution_count": 29,
      "metadata": {
        "collapsed": false,
        "outputHidden": false,
        "inputHidden": false
      }
    },
    {
      "cell_type": "code",
      "source": [
        "train.head()"
      ],
      "outputs": [],
      "execution_count": 30,
      "metadata": {
        "collapsed": false,
        "outputHidden": false,
        "inputHidden": false
      }
    },
    {
      "cell_type": "code",
      "source": [
        "def transform_df(df):\n",
        "    df = pd.DataFrame(df)\n",
        "    df = df.sort_values(by=['date'], ascending=[False])\n",
        "    df = df.reset_index(drop=True)\n",
        "    df = df.drop_duplicates(subset=['msno'], keep='first')\n",
        "    return df\n",
        "\n",
        "def transform_df2(df):\n",
        "    df = df.sort_values(by=['date'], ascending=[False])\n",
        "    df = df.reset_index(drop=True)\n",
        "    df = df.drop_duplicates(subset=['msno'], keep='first')\n",
        "    return df\n",
        "\n",
        "df_iter = pd.read_csv('raw_data/user_logs.csv', low_memory=False, iterator=True, chunksize=10000000)\n",
        "last_user_logs = []\n",
        "i = 0 #~400 Million Records - starting at the end but remove locally if needed\n",
        "for df in df_iter:\n",
        "    if i>35:\n",
        "        if len(df)>0:\n",
        "            print(df.shape)\n",
        "            p = Pool(cpu_count())\n",
        "            df = p.map(transform_df, np.array_split(df, cpu_count()))   \n",
        "            df = pd.concat(df, axis=0, ignore_index=True).reset_index(drop=True)\n",
        "            df = transform_df2(df)\n",
        "            p.close(); p.join()\n",
        "            last_user_logs.append(df)\n",
        "            print('...', df.shape)\n",
        "            df = []\n",
        "    i+=1\n",
        "\n",
        "last_user_logs = pd.concat(last_user_logs, axis=0, ignore_index=True).reset_index(drop=True)\n",
        "last_user_logs = transform_df2(last_user_logs)\n",
        "\n",
        "train = pd.merge(train, last_user_logs, how='left', on='msno')\n",
        "test = pd.merge(test, last_user_logs, how='left', on='msno')\n",
        "last_user_logs=[]"
      ],
      "outputs": [],
      "execution_count": 31,
      "metadata": {
        "collapsed": false,
        "outputHidden": false,
        "inputHidden": false
      }
    },
    {
      "cell_type": "code",
      "source": [
        "print(train.shape)\n",
        "print(test.shape)\n",
        "\n",
        "train.to_csv(\"cleaned_input/train_merged.csv\")\n",
        "test.to_csv(\"cleaned_input/test_merged.csv\")"
      ],
      "outputs": [],
      "execution_count": 32,
      "metadata": {
        "collapsed": false,
        "outputHidden": false,
        "inputHidden": false
      }
    },
    {
      "cell_type": "code",
      "source": [
        "data = pd.concat(( train, test ))\n",
        "train_cutoff = len(train)\n",
        "\n\n"
      ],
      "outputs": [],
      "execution_count": 33,
      "metadata": {
        "collapsed": false,
        "outputHidden": false,
        "inputHidden": false
      }
    },
    {
      "cell_type": "code",
      "source": [
        "#if missing >3 cells, remove row \n",
        "data = data.dropna(thresh=3)"
      ],
      "outputs": [],
      "execution_count": 34,
      "metadata": {
        "collapsed": false,
        "outputHidden": false,
        "inputHidden": false
      }
    },
    {
      "cell_type": "code",
      "source": [
        "#remove outliers "
      ],
      "outputs": [],
      "execution_count": 35,
      "metadata": {
        "collapsed": false,
        "outputHidden": false,
        "inputHidden": false
      }
    },
    {
      "cell_type": "code",
      "source": [
        "#fill in missing data points and encode variables\n",
        "from helpers import *\n",
        "\n",
        "nan_zero = {\"logs_count\":0}\n",
        "nan_dif = {\"city\":-1, \"registered_via\":-1, \"payment_method_id\":-1, \"is_auto_renew\":-1, \"is_cancel\":-1}\n",
        "nan_med = {\"bd\": 'med', \"registration_init_date\": 'med', \"expiration_date_month\":'med', \"expiration_date_date\":'med',\n",
        "           \"expiration_date_year\": 'med', \"registration_init_year\":'med', \"registration_init_month\":'med', \n",
        "           \"registration_init_date\":'med', \"date\":'med', \"num_25\": 'med', \"num_50\": 'med', \"num_75\": 'med', \"num_985\": 'med', \n",
        "           \"num_100\": 'med', \"num_unq\": 'med', \"Unnamed: 0\": 'med', \"total_secs\": 'med', \"trans_count\":'med', 'transaction_date':'med',\n",
        "          'membership_expire_date':'med', 'plan_list_price':'med', 'actual_amount_paid':'med', 'payment_plan_days':'med', \"registration_init_time\": 'med',\n",
        "          'expiration_date':'med'}\n",
        "nan_cat = {\"gender\":\"missing\"}\n",
        "\n",
        "data = data.drop([\"Unnamed: 0\", \"gender\"], axis = 0)\n",
        "data = to_fill_na(data, nan_zero)\n",
        "data = to_fill_na(data, nan_dif)\n",
        "data = to_fill_na(data, nan_med)\n",
        "data = to_fill_na(data, nan_cat)\n",
        "train.head()\n"
      ],
      "outputs": [],
      "execution_count": 36,
      "metadata": {
        "collapsed": false,
        "outputHidden": false,
        "inputHidden": false
      }
    },
    {
      "cell_type": "code",
      "source": [
        "data.isnull().any()"
      ],
      "outputs": [],
      "execution_count": 40,
      "metadata": {
        "collapsed": false,
        "outputHidden": false,
        "inputHidden": false
      }
    },
    {
      "cell_type": "code",
      "source": [
        "#feature engineering #not working yet\n",
        "\n",
        "data['discount'] = data['plan_list_price'] - data['actual_amount_paid']\n",
        "data['is_discount'] = data.discount.apply(lambda x: 1 if x > 0 else 0)\n",
        "data['amt_per_day'] = data['actual_amount_paid'] / data['payment_plan_days']\n",
        "date_cols = ['transaction_date', 'membership_expire_date']\n",
        "for col in date_cols:\n",
        "    data[col] = pd.to_datetime(data[col], format='%Y%m%d')\n",
        "    \n",
        "#--- difference in days ---\n",
        "data['membership_duration'] = data.membership_expire_date - data.transaction_date\n",
        "data['membership_duration'] = data['membership_duration'] / np.timedelta64(1, 'D')\n",
        "data = to_fill_na(data, {'membership_duration':'med'})\n",
        "data['membership_duration'] = data['membership_duration'].astype(int)\n",
        "\n",
        " \n",
        "#---difference in months ---\n",
        "data['membership_duration_M'] = (data.membership_expire_date - data.transaction_date)/ np.timedelta64(1, 'M')\n",
        "data['membership_duration_M'] = round(data['membership_duration_M']).astype(int)\n",
        "data['membership_duration_M'].head()\n",
        "\n",
        "date_cols = ['registration_init_time', 'expiration_date']\n",
        "\n",
        "for col in date_cols:\n",
        "    data[col] = pd.to_datetime(data[col], format='%Y%m%d')\n",
        "\n",
        "#--- difference in days ---\n",
        "data['registration_duration'] = data.expiration_date - data.registration_init_time\n",
        "data['registration_duration'] = data['registration_duration'] / np.timedelta64(1, 'D')\n",
        "data = to_fill_na(data, {'registration_duration':'med'})\n",
        "data['registration_duration'] = data['registration_duration'].astype(int)\n",
        "\n",
        "#---difference in months ---\n",
        "data['registration_duration_M'] = (data.expiration_date - data.registration_init_time)/ np.timedelta64(1, 'M')\n",
        "data = to_fill_na(data, {'registration_duration_M':'med'})\n",
        "data['registration_duration_M'] = round(data['registration_duration_M']).astype(int)\n",
        "\n",
        "data['reg_mem_duration'] = data['registration_duration'] - data['membership_duration']\n",
        "to_fill_na(data, {'reg_mem_duration':'med'})\n",
        "data['reg_mem_duration_M'] = data['registration_duration_M'] - data['membership_duration_M']\n",
        "\n",
        "data['notAutorenew_&_cancel'] = ((data.is_auto_renew == 0) == (data.is_cancel == 1)).astype(np.int8)\n",
        "data['notAutorenew_&_cancel'].unique()\n",
        "\n",
        "data['long_time_user'] = (((data['registration_duration'] / 365).astype(int)) > 1).astype(int)\n",
        "\n\n",
        "#feature ideas to implement\n",
        "#- price paid/ duration \n",
        "#- list price/ duration \n",
        "#- number of unique songs/ price paid\n",
        "#- number of unique songs/ list price\n",
        "#-num25, num50 etc.../ price paid & list price\n",
        "# discount percentage (list price - price paid)/ list price \n",
        "# convert date to day of the week \n",
        "# total secs / membersherip duration/days and months \n",
        "# days to expiration (expiration date - date)\n",
        "# transaction year, month, day, time, (make all seperate variables)\n",
        "\n"
      ],
      "outputs": [],
      "execution_count": 38,
      "metadata": {
        "collapsed": false,
        "outputHidden": false,
        "inputHidden": false
      }
    },
    {
      "cell_type": "code",
      "source": [
        "from helpers import *\n",
        "#change to dummy variable \n",
        "\n",
        "categorical_to_binarizer = [\"gender\"]\n",
        "data = label_binarizer(data,categorical_to_binarizer)\n",
        "\n",
        "categorical_to_encode = [\"city\", \"gender\", \"registered_via\", \"payment_method_id\", \"is_auto_renew\", \"is_cancel\"]\n",
        "data = label_encoder(data, categorical_to_encode)\n",
        "\n",
        "variables_to_drop = categorical_to_encode + [\"date\", \"registration_init_time\", \"expiration_date\", \"transaction_date\", \"membership_expire_date\"] \n",
        "data = data.drop(variables_to_drop, axis=0)"
      ],
      "outputs": [],
      "execution_count": 42,
      "metadata": {
        "collapsed": false,
        "outputHidden": false,
        "inputHidden": false
      }
    },
    {
      "cell_type": "code",
      "source": [
        "data.dtypes"
      ],
      "outputs": [],
      "execution_count": 46,
      "metadata": {
        "collapsed": false,
        "outputHidden": false,
        "inputHidden": false
      }
    },
    {
      "cell_type": "code",
      "source": [],
      "outputs": [],
      "execution_count": 11,
      "metadata": {
        "collapsed": false,
        "outputHidden": false,
        "inputHidden": false
      }
    },
    {
      "cell_type": "code",
      "source": [
        "train = data[:train_cutoff]\n",
        "test = data[train_cutoff:]\n",
        "print(train.shape)\n",
        "print(test.shape)\n",
        "\n",
        "train.to_csv(\"cleaned_input/train_consolidated.csv\")\n",
        "test.to_csv(\"cleaned_input/test_consolidated.csv\")"
      ],
      "outputs": [],
      "execution_count": 39,
      "metadata": {
        "collapsed": false,
        "outputHidden": false,
        "inputHidden": false
      }
    },
    {
      "cell_type": "code",
      "source": [],
      "outputs": [],
      "execution_count": 12,
      "metadata": {
        "collapsed": false,
        "outputHidden": false,
        "inputHidden": false
      }
    },
    {
      "cell_type": "code",
      "source": [],
      "outputs": [],
      "execution_count": 12,
      "metadata": {
        "collapsed": false,
        "outputHidden": false,
        "inputHidden": false
      }
    },
    {
      "cell_type": "code",
      "source": [],
      "outputs": [],
      "execution_count": null,
      "metadata": {
        "collapsed": false,
        "outputHidden": false,
        "inputHidden": false
      }
    }
  ],
  "metadata": {
    "kernelspec": {
      "name": "python3",
      "language": "python",
      "display_name": "Python 3"
    },
    "kernel_info": {
      "name": "python3"
    },
    "language_info": {
      "name": "python",
      "version": "3.6.0",
      "mimetype": "text/x-python",
      "codemirror_mode": {
        "name": "ipython",
        "version": 3
      },
      "pygments_lexer": "ipython3",
      "nbconvert_exporter": "python",
      "file_extension": ".py"
    },
    "nteract": {
      "version": "0.3.4"
    }
  },
  "nbformat": 4,
  "nbformat_minor": 4
}