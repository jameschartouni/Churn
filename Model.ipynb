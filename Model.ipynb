{
  "cells": [
    {
      "cell_type": "code",
      "source": [
        "from multiprocessing import Pool, cpu_count\n",
        "import gc; gc.enable()\n",
        "import pandas as pd\n",
        "import numpy as np\n",
        "\n",
        "train = pd.read_csv('raw_data/train.csv')\n",
        "test = pd.read_csv('raw_data/sample_submission_zero.csv')\n",
        "\n",
        "transactions = pd.read_csv('cleaned_input/transactions.csv', usecols=['msno'])\n",
        "transactions = pd.DataFrame(transactions['msno'].value_counts().reset_index())\n",
        "transactions.columns = ['msno','trans_count']\n",
        "train = pd.merge(train, transactions, how='left', on='msno')\n",
        "test = pd.merge(test, transactions, how='left', on='msno')\n",
        "transactions = []; print('transaction merge...')\n",
        "\n",
        "user_logs = pd.read_csv('raw_data/user_logs.csv', usecols=['msno'])\n",
        "user_logs = pd.DataFrame(user_logs['msno'].value_counts().reset_index())\n",
        "user_logs.columns = ['msno','logs_count']\n",
        "train = pd.merge(train, user_logs, how='left', on='msno')\n",
        "test = pd.merge(test, user_logs, how='left', on='msno')\n",
        "user_logs = []; print('user logs merge...')\n",
        "\n",
        "members = pd.read_csv('cleaned_input/members.csv')\n",
        "train = pd.merge(train, members, how='left', on='msno')\n",
        "test = pd.merge(test, members, how='left', on='msno')\n",
        "members = []; print('members merge...') "
      ],
      "outputs": [
        {
          "output_type": "stream",
          "name": "stdout",
          "text": [
            "transaction merge...\n",
            "user logs merge...\n",
            "members merge...\n"
          ]
        }
      ],
      "execution_count": 2,
      "metadata": {
        "collapsed": false,
        "outputHidden": false,
        "inputHidden": false
      }
    },
    {
      "cell_type": "code",
      "source": [
        "transactions = pd.read_csv('raw_data/transactions.csv')\n",
        "transactions = transactions.sort_values(by=['transaction_date'], ascending=[False]).reset_index(drop=True)\n",
        "transactions = transactions.drop_duplicates(subset=['msno'], keep='first')\n",
        "\n",
        "train = pd.merge(train, transactions, how='left', on='msno')\n",
        "test = pd.merge(test, transactions, how='left', on='msno')\n",
        "transactions=[]"
      ],
      "outputs": [],
      "execution_count": 3,
      "metadata": {
        "collapsed": false,
        "outputHidden": false,
        "inputHidden": false
      }
    },
    {
      "cell_type": "code",
      "source": [
        "train.head()"
      ],
      "outputs": [
        {
          "output_type": "execute_result",
          "execution_count": 4,
          "data": {
            "text/plain": [
              "                                           msno  is_churn  trans_count  \\\n",
              "0  waLDQMmcOu2jLDaV1ddDkgCrB/jl6sD66Xzs0Vqax1Y=         1            2   \n",
              "1  QA7uiXy8vIbUSPOkCf9RwQ3FsT8jVq2OxDr8zqa7bRQ=         1           23   \n",
              "2  fGwBva6hikQmTJzrbz/2Ezjm5Cth5jZUNvXigKK2AFA=         1           10   \n",
              "3  mT5V8rEpa+8wuqi6x0DoVd3H5icMKkE9Prt49UlmK+4=         1            2   \n",
              "4  XaPhtGLk/5UvvOYHcONTwsnH97P4eGECeq+BARGItRw=         1            8   \n",
              "\n",
              "   logs_count  Unnamed: 0  city    bd  gender  registered_via  \\\n",
              "0        26.0   4396024.0  18.0  36.0  female             9.0   \n",
              "1       521.0   1941053.0  10.0  38.0    male             9.0   \n",
              "2       237.0   1587455.0  11.0  27.0  female             9.0   \n",
              "3       735.0   1500627.0  13.0  23.0  female             9.0   \n",
              "4       758.0   2600269.0   3.0  27.0    male             9.0   \n",
              "\n",
              "   registration_init_time    ...      expiration_date_month  \\\n",
              "0              20050406.0    ...                        9.0   \n",
              "1              20050407.0    ...                        3.0   \n",
              "2              20051016.0    ...                        2.0   \n",
              "3              20051102.0    ...                        9.0   \n",
              "4              20051228.0    ...                        9.0   \n",
              "\n",
              "   expiration_date_date  payment_method_id  payment_plan_days  \\\n",
              "0                   7.0                 38                 30   \n",
              "1                  21.0                 39                 30   \n",
              "2                   3.0                 39                 30   \n",
              "3                  26.0                 38                410   \n",
              "4                  27.0                 38                 30   \n",
              "\n",
              "   plan_list_price  actual_amount_paid  is_auto_renew  transaction_date  \\\n",
              "0              149                 149              0          20170107   \n",
              "1              149                 149              1          20170224   \n",
              "2              149                 149              1          20170112   \n",
              "3             1788                1788              0          20160106   \n",
              "4              149                 149              0          20170128   \n",
              "\n",
              "   membership_expire_date  is_cancel  \n",
              "0                20170206          0  \n",
              "1                20170321          1  \n",
              "2                20170203          1  \n",
              "3                20170220          0  \n",
              "4                20170227          0  \n",
              "\n[5 rows x 25 columns]"
            ],
            "text/html": [
              "<div>\n",
              "<style>\n",
              "    .dataframe thead tr:only-child th {\n",
              "        text-align: right;\n",
              "    }\n",
              "\n",
              "    .dataframe thead th {\n",
              "        text-align: left;\n",
              "    }\n",
              "\n",
              "    .dataframe tbody tr th {\n",
              "        vertical-align: top;\n",
              "    }\n",
              "</style>\n",
              "<table border=\"1\" class=\"dataframe\">\n",
              "  <thead>\n",
              "    <tr style=\"text-align: right;\">\n",
              "      <th></th>\n",
              "      <th>msno</th>\n",
              "      <th>is_churn</th>\n",
              "      <th>trans_count</th>\n",
              "      <th>logs_count</th>\n",
              "      <th>Unnamed: 0</th>\n",
              "      <th>city</th>\n",
              "      <th>bd</th>\n",
              "      <th>gender</th>\n",
              "      <th>registered_via</th>\n",
              "      <th>registration_init_time</th>\n",
              "      <th>...</th>\n",
              "      <th>expiration_date_month</th>\n",
              "      <th>expiration_date_date</th>\n",
              "      <th>payment_method_id</th>\n",
              "      <th>payment_plan_days</th>\n",
              "      <th>plan_list_price</th>\n",
              "      <th>actual_amount_paid</th>\n",
              "      <th>is_auto_renew</th>\n",
              "      <th>transaction_date</th>\n",
              "      <th>membership_expire_date</th>\n",
              "      <th>is_cancel</th>\n",
              "    </tr>\n",
              "  </thead>\n",
              "  <tbody>\n",
              "    <tr>\n",
              "      <th>0</th>\n",
              "      <td>waLDQMmcOu2jLDaV1ddDkgCrB/jl6sD66Xzs0Vqax1Y=</td>\n",
              "      <td>1</td>\n",
              "      <td>2</td>\n",
              "      <td>26.0</td>\n",
              "      <td>4396024.0</td>\n",
              "      <td>18.0</td>\n",
              "      <td>36.0</td>\n",
              "      <td>female</td>\n",
              "      <td>9.0</td>\n",
              "      <td>20050406.0</td>\n",
              "      <td>...</td>\n",
              "      <td>9.0</td>\n",
              "      <td>7.0</td>\n",
              "      <td>38</td>\n",
              "      <td>30</td>\n",
              "      <td>149</td>\n",
              "      <td>149</td>\n",
              "      <td>0</td>\n",
              "      <td>20170107</td>\n",
              "      <td>20170206</td>\n",
              "      <td>0</td>\n",
              "    </tr>\n",
              "    <tr>\n",
              "      <th>1</th>\n",
              "      <td>QA7uiXy8vIbUSPOkCf9RwQ3FsT8jVq2OxDr8zqa7bRQ=</td>\n",
              "      <td>1</td>\n",
              "      <td>23</td>\n",
              "      <td>521.0</td>\n",
              "      <td>1941053.0</td>\n",
              "      <td>10.0</td>\n",
              "      <td>38.0</td>\n",
              "      <td>male</td>\n",
              "      <td>9.0</td>\n",
              "      <td>20050407.0</td>\n",
              "      <td>...</td>\n",
              "      <td>3.0</td>\n",
              "      <td>21.0</td>\n",
              "      <td>39</td>\n",
              "      <td>30</td>\n",
              "      <td>149</td>\n",
              "      <td>149</td>\n",
              "      <td>1</td>\n",
              "      <td>20170224</td>\n",
              "      <td>20170321</td>\n",
              "      <td>1</td>\n",
              "    </tr>\n",
              "    <tr>\n",
              "      <th>2</th>\n",
              "      <td>fGwBva6hikQmTJzrbz/2Ezjm5Cth5jZUNvXigKK2AFA=</td>\n",
              "      <td>1</td>\n",
              "      <td>10</td>\n",
              "      <td>237.0</td>\n",
              "      <td>1587455.0</td>\n",
              "      <td>11.0</td>\n",
              "      <td>27.0</td>\n",
              "      <td>female</td>\n",
              "      <td>9.0</td>\n",
              "      <td>20051016.0</td>\n",
              "      <td>...</td>\n",
              "      <td>2.0</td>\n",
              "      <td>3.0</td>\n",
              "      <td>39</td>\n",
              "      <td>30</td>\n",
              "      <td>149</td>\n",
              "      <td>149</td>\n",
              "      <td>1</td>\n",
              "      <td>20170112</td>\n",
              "      <td>20170203</td>\n",
              "      <td>1</td>\n",
              "    </tr>\n",
              "    <tr>\n",
              "      <th>3</th>\n",
              "      <td>mT5V8rEpa+8wuqi6x0DoVd3H5icMKkE9Prt49UlmK+4=</td>\n",
              "      <td>1</td>\n",
              "      <td>2</td>\n",
              "      <td>735.0</td>\n",
              "      <td>1500627.0</td>\n",
              "      <td>13.0</td>\n",
              "      <td>23.0</td>\n",
              "      <td>female</td>\n",
              "      <td>9.0</td>\n",
              "      <td>20051102.0</td>\n",
              "      <td>...</td>\n",
              "      <td>9.0</td>\n",
              "      <td>26.0</td>\n",
              "      <td>38</td>\n",
              "      <td>410</td>\n",
              "      <td>1788</td>\n",
              "      <td>1788</td>\n",
              "      <td>0</td>\n",
              "      <td>20160106</td>\n",
              "      <td>20170220</td>\n",
              "      <td>0</td>\n",
              "    </tr>\n",
              "    <tr>\n",
              "      <th>4</th>\n",
              "      <td>XaPhtGLk/5UvvOYHcONTwsnH97P4eGECeq+BARGItRw=</td>\n",
              "      <td>1</td>\n",
              "      <td>8</td>\n",
              "      <td>758.0</td>\n",
              "      <td>2600269.0</td>\n",
              "      <td>3.0</td>\n",
              "      <td>27.0</td>\n",
              "      <td>male</td>\n",
              "      <td>9.0</td>\n",
              "      <td>20051228.0</td>\n",
              "      <td>...</td>\n",
              "      <td>9.0</td>\n",
              "      <td>27.0</td>\n",
              "      <td>38</td>\n",
              "      <td>30</td>\n",
              "      <td>149</td>\n",
              "      <td>149</td>\n",
              "      <td>0</td>\n",
              "      <td>20170128</td>\n",
              "      <td>20170227</td>\n",
              "      <td>0</td>\n",
              "    </tr>\n",
              "  </tbody>\n",
              "</table>\n",
              "<p>5 rows × 25 columns</p>\n",
              "</div>"
            ]
          },
          "metadata": {}
        }
      ],
      "execution_count": 4,
      "metadata": {
        "collapsed": false,
        "outputHidden": false,
        "inputHidden": false
      }
    },
    {
      "cell_type": "code",
      "source": [
        "def transform_df(df):\n",
        "    df = pd.DataFrame(df)\n",
        "    df = df.sort_values(by=['date'], ascending=[False])\n",
        "    df = df.reset_index(drop=True)\n",
        "    df = df.drop_duplicates(subset=['msno'], keep='first')\n",
        "    return df\n",
        "\n",
        "def transform_df2(df):\n",
        "    df = df.sort_values(by=['date'], ascending=[False])\n",
        "    df = df.reset_index(drop=True)\n",
        "    df = df.drop_duplicates(subset=['msno'], keep='first')\n",
        "    return df\n",
        "\n",
        "df_iter = pd.read_csv('raw_data/user_logs.csv', low_memory=False, iterator=True, chunksize=10000000)\n",
        "last_user_logs = []\n",
        "i = 0 #~400 Million Records - starting at the end but remove locally if needed\n",
        "for df in df_iter:\n",
        "    if i>35:\n",
        "        if len(df)>0:\n",
        "            print(df.shape)\n",
        "            p = Pool(cpu_count())\n",
        "            df = p.map(transform_df, np.array_split(df, cpu_count()))   \n",
        "            df = pd.concat(df, axis=0, ignore_index=True).reset_index(drop=True)\n",
        "            df = transform_df2(df)\n",
        "            p.close(); p.join()\n",
        "            last_user_logs.append(df)\n",
        "            print('...', df.shape)\n",
        "            df = []\n",
        "    i+=1\n",
        "\n",
        "last_user_logs = pd.concat(last_user_logs, axis=0, ignore_index=True).reset_index(drop=True)\n",
        "last_user_logs = transform_df2(last_user_logs)\n",
        "\n",
        "train = pd.merge(train, last_user_logs, how='left', on='msno')\n",
        "test = pd.merge(test, last_user_logs, how='left', on='msno')\n",
        "last_user_logs=[]"
      ],
      "outputs": [
        {
          "output_type": "stream",
          "name": "stdout",
          "text": [
            "(10000000, 9)\n",
            "... (1616917, 9)\n",
            "(10000000, 9)\n",
            "... (1533539, 9)\n",
            "(10000000, 9)\n",
            "... (1353720, 9)\n",
            "(2106543, 9)\n",
            "... (429234, 9)\n"
          ]
        }
      ],
      "execution_count": 5,
      "metadata": {
        "collapsed": false,
        "outputHidden": false,
        "inputHidden": false
      }
    },
    {
      "cell_type": "code",
      "source": [
        "print(train.shape)\n",
        "print(test.shape)\n",
        "\n",
        "train.to_csv(\"cleaned_input/train_merged.csv\")\n",
        "test.to_csv(\"cleaned_input/test_merged.csv\")"
      ],
      "outputs": [],
      "execution_count": 6,
      "metadata": {
        "collapsed": false,
        "outputHidden": false,
        "inputHidden": false
      }
    },
    {
      "cell_type": "code",
      "source": [
        "data = pd.concat(( train, test ))\n",
        "train_cutoff = len(train)\n",
        "\n\n"
      ],
      "outputs": [],
      "execution_count": 7,
      "metadata": {
        "collapsed": false,
        "outputHidden": false,
        "inputHidden": false
      }
    },
    {
      "cell_type": "code",
      "source": [
        "#if missing >3 cells, remove row \n",
        "data = data.dropna(thresh=3)"
      ],
      "outputs": [],
      "execution_count": 8,
      "metadata": {
        "collapsed": false,
        "outputHidden": false,
        "inputHidden": false
      }
    },
    {
      "cell_type": "code",
      "source": [
        "#remove outliers "
      ],
      "outputs": [],
      "execution_count": 9,
      "metadata": {
        "collapsed": false,
        "outputHidden": false,
        "inputHidden": false
      }
    },
    {
      "cell_type": "code",
      "source": [
        "#fill in missing data points and encode variables\n",
        "from helpers import *\n",
        "\n",
        "nan_zero = {\"logs_count\":0}\n",
        "nan_dif = {\"city\":-1, \"registered_via\":-1, \"payment_method_id\":-1, \"is_auto_renew\":-1, \"is_cancel\":-1}\n",
        "nan_med = {\"bd\": 'med', \"registration_init_date\": 'med', \"expiration_date_month\":'med', \"expiration_date_date\":'med',\n",
        "           \"expiration_date_year\": 'med', \"registration_init_year\":'med', \"registration_init_month\":'med', \n",
        "           \"registration_init_date\":'med', \"date\":'med', \"num_25\": 'med', \"num_50\": 'med', \"num_75\": 'med', \"num_985\": 'med', \n",
        "           \"num_100\": 'med', \"num_unq\": 'med', \"Unnamed: 0\": 'med', \"total_secs\": 'med', \"trans_count\":'med', 'transaction_date':'med',\n",
        "          'membership_expire_date':'med', 'plan_list_price':'med', 'actual_amount_paid':'med', 'payment_plan_days':'med', \"registration_init_time\": 'med',\n",
        "          'expiration_date':'med'}\n",
        "nan_cat = {\"gender\":\"missing\"}\n",
        "\n",
        "data = data.drop([\"Unnamed: 0\", \"gender\"], axis = 0)\n",
        "data = to_fill_na(data, nan_zero)\n",
        "data = to_fill_na(data, nan_dif)\n",
        "data = to_fill_na(data, nan_med)\n",
        "data = to_fill_na(data, nan_cat)\n",
        "train.head()\n"
      ],
      "outputs": [],
      "execution_count": 10,
      "metadata": {
        "collapsed": false,
        "outputHidden": false,
        "inputHidden": false
      }
    },
    {
      "cell_type": "code",
      "source": [
        "data.isnull().any()"
      ],
      "outputs": [],
      "execution_count": 11,
      "metadata": {
        "collapsed": false,
        "outputHidden": false,
        "inputHidden": false
      }
    },
    {
      "cell_type": "code",
      "source": [
        "#feature engineering #DONT FORGET TO REMOVE INFINITE IF DIVIDE BY ZERO\n",
        "\n",
        "data['discount'] = data['plan_list_price'] - data['actual_amount_paid']\n",
        "data['is_discount'] = data.discount.apply(lambda x: 1 if x > 0 else 0)\n",
        "data['amt_per_day'] = data['actual_amount_paid'] / data['payment_plan_days']\n",
        "date_cols = ['transaction_date', 'membership_expire_date']\n",
        "for col in date_cols:\n",
        "    data[col] = pd.to_datetime(data[col], format='%Y%m%d')\n",
        "    \n",
        "#--- difference in days ---\n",
        "data['membership_duration'] = data.membership_expire_date - data.transaction_date\n",
        "data['membership_duration'] = data['membership_duration'] / np.timedelta64(1, 'D')\n",
        "data = to_fill_na(data, {'membership_duration':'med'})\n",
        "data['membership_duration'] = data['membership_duration'].astype(int)\n",
        "\n",
        " \n",
        "#---difference in months ---\n",
        "data['membership_duration_M'] = (data.membership_expire_date - data.transaction_date)/ np.timedelta64(1, 'M')\n",
        "data['membership_duration_M'] = round(data['membership_duration_M']).astype(int)\n",
        "data['membership_duration_M'].head()\n",
        "\n",
        "date_cols = ['registration_init_time', 'expiration_date']\n",
        "\n",
        "for col in date_cols:\n",
        "    data[col] = pd.to_datetime(data[col], format='%Y%m%d')\n",
        "\n",
        "#--- difference in days ---\n",
        "data['registration_duration'] = data.expiration_date - data.registration_init_time\n",
        "data['registration_duration'] = data['registration_duration'] / np.timedelta64(1, 'D')\n",
        "data = to_fill_na(data, {'registration_duration':'med'})\n",
        "data['registration_duration'] = data['registration_duration'].astype(int)\n",
        "\n",
        "#---difference in months ---\n",
        "data['registration_duration_M'] = (data.expiration_date - data.registration_init_time)/ np.timedelta64(1, 'M')\n",
        "data = to_fill_na(data, {'registration_duration_M':'med'})\n",
        "data['registration_duration_M'] = round(data['registration_duration_M']).astype(int)\n",
        "\n",
        "data['reg_mem_duration'] = data['registration_duration'] - data['membership_duration']\n",
        "to_fill_na(data, {'reg_mem_duration':'med'})\n",
        "data['reg_mem_duration_M'] = data['registration_duration_M'] - data['membership_duration_M']\n",
        "\n",
        "data['notAutorenew_&_cancel'] = ((data.is_auto_renew == 0) == (data.is_cancel == 1)).astype(np.int8)\n",
        "data['notAutorenew_&_cancel'].unique()\n",
        "\n",
        "data['long_time_user'] = (((data['registration_duration'] / 365).astype(int)) > 1).astype(int)\n",
        "\n\n",
        "#feature ideas to implement\n",
        "#- price paid/ duration \n",
        "#- list price/ duration \n",
        "#- number of unique songs/ price paid\n",
        "#- number of unique songs/ list price\n",
        "#-num25, num50 etc.../ price paid & list price\n",
        "# discount percentage (list price - price paid)/ list price \n",
        "# convert date to day of the week \n",
        "# total secs / membersherip duration/days and months \n",
        "# days to expiration (expiration date - date)\n",
        "# transaction year, month, day, time, (make all seperate variables)\n",
        "# see if a single user has a pattern of canceling, resubscribing etc...\n",
        "# could make some really interesting features like how many times did subscribe:\n",
        "# times canceled \n",
        "# Total subscription time  \n",
        "# time in between subscriptions \n",
        "# time in between subscriptions/total subscription time\n",
        "# try somes features related to age: \n",
        "# price paid/ age \n",
        "#  unique songs/ age\n",
        "# discount percentage/ age\n",
        "# days to expiration / age \n",
        "# age/ date figures \n"
      ],
      "outputs": [],
      "execution_count": 12,
      "metadata": {
        "collapsed": false,
        "outputHidden": false,
        "inputHidden": false
      }
    },
    {
      "cell_type": "code",
      "source": [
        "from helpers import *\n",
        "#change to dummy variable \n",
        "\n",
        "categorical_to_encode = ['gender']\n",
        "data = label_encoder(data, categorical_to_encode)\n",
        "\n",
        "categorical_to_binarizer = [\"city\", \"gender\", \"registered_via\", \"payment_method_id\", \"is_auto_renew\", \"is_cancel\"]\n",
        "data = label_binarizer(data,categorical_to_binarizer)\n",
        "\n",
        "variables_to_drop = [\"registration_init_time\", \"expiration_date\", \"transaction_date\", \"membership_expire_date\"] \n",
        "data = data.drop(categorical_to_encode, axis=1)\n",
        "data = data.drop(variables_to_drop, axis=1)"
      ],
      "outputs": [],
      "execution_count": 20,
      "metadata": {
        "collapsed": false,
        "outputHidden": false,
        "inputHidden": false
      }
    },
    {
      "cell_type": "code",
      "source": [
        "data.dtypes"
      ],
      "outputs": [],
      "execution_count": 21,
      "metadata": {
        "collapsed": false,
        "outputHidden": false,
        "inputHidden": false
      }
    },
    {
      "cell_type": "code",
      "source": [],
      "outputs": [],
      "execution_count": 15,
      "metadata": {
        "collapsed": false,
        "outputHidden": false,
        "inputHidden": false
      }
    },
    {
      "cell_type": "code",
      "source": [
        "train = data[:train_cutoff]\n",
        "test = data[train_cutoff:]\n",
        "print(train.shape)\n",
        "print(test.shape)\n",
        "\n",
        "train.to_csv(\"cleaned_input/train_consolidated.csv\")\n",
        "test.to_csv(\"cleaned_input/test_consolidated.csv\")"
      ],
      "outputs": [],
      "execution_count": 22,
      "metadata": {
        "collapsed": false,
        "outputHidden": false,
        "inputHidden": false
      }
    },
    {
      "cell_type": "code",
      "source": [],
      "outputs": [],
      "execution_count": null,
      "metadata": {
        "collapsed": false,
        "outputHidden": false,
        "inputHidden": false
      }
    }
  ],
  "metadata": {
    "kernelspec": {
      "name": "python3",
      "language": "python",
      "display_name": "Python 3"
    },
    "kernel_info": {
      "name": "python3"
    },
    "language_info": {
      "name": "python",
      "version": "3.6.0",
      "mimetype": "text/x-python",
      "codemirror_mode": {
        "name": "ipython",
        "version": 3
      },
      "pygments_lexer": "ipython3",
      "nbconvert_exporter": "python",
      "file_extension": ".py"
    },
    "nteract": {
      "version": "0.3.4"
    }
  },
  "nbformat": 4,
  "nbformat_minor": 4
}